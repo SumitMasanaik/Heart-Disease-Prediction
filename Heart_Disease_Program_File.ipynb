{
 "cells": [
  {
   "cell_type": "code",
   "execution_count": 1,
   "id": "a3494adb",
   "metadata": {},
   "outputs": [],
   "source": [
    "import pandas as pd\n",
    "import numpy as np\n",
    "from sklearn.model_selection import train_test_split,GridSearchCV\n",
    "from sklearn.linear_model import LogisticRegression\n",
    "from sklearn.ensemble import RandomForestClassifier,AdaBoostClassifier,GradientBoostingClassifier\n",
    "from sklearn.svm import SVC\n",
    "from sklearn.tree import DecisionTreeClassifier,plot_tree\n",
    "from xgboost import XGBClassifier\n",
    "from lightgbm import LGBMClassifier\n",
    "from sklearn.neighbors import KNeighborsClassifier\n",
    "from sklearn.naive_bayes import GaussianNB,MultinomialNB\n",
    "from sklearn.metrics import accuracy_score,recall_score,precision_score,confusion_matrix,classification_report,roc_auc_score,roc_curve\n",
    "from sklearn.preprocessing import StandardScaler,LabelEncoder\n",
    "import matplotlib.pyplot as plt\n",
    "import seaborn as sns\n",
    "import warnings\n",
    "warnings.filterwarnings('ignore')"
   ]
  },
  {
   "cell_type": "code",
   "execution_count": 2,
   "id": "1c53548d",
   "metadata": {},
   "outputs": [
    {
     "data": {
      "text/html": [
       "<div>\n",
       "<style scoped>\n",
       "    .dataframe tbody tr th:only-of-type {\n",
       "        vertical-align: middle;\n",
       "    }\n",
       "\n",
       "    .dataframe tbody tr th {\n",
       "        vertical-align: top;\n",
       "    }\n",
       "\n",
       "    .dataframe thead th {\n",
       "        text-align: right;\n",
       "    }\n",
       "</style>\n",
       "<table border=\"1\" class=\"dataframe\">\n",
       "  <thead>\n",
       "    <tr style=\"text-align: right;\">\n",
       "      <th></th>\n",
       "      <th>HeartDisease</th>\n",
       "      <th>BMI</th>\n",
       "      <th>Smoking</th>\n",
       "      <th>AlcoholDrinking</th>\n",
       "      <th>Stroke</th>\n",
       "      <th>PhysicalHealth</th>\n",
       "      <th>MentalHealth</th>\n",
       "      <th>DiffWalking</th>\n",
       "      <th>Sex</th>\n",
       "      <th>AgeCategory</th>\n",
       "      <th>Race</th>\n",
       "      <th>Diabetic</th>\n",
       "      <th>PhysicalActivity</th>\n",
       "      <th>GenHealth</th>\n",
       "      <th>SleepTime</th>\n",
       "      <th>Asthma</th>\n",
       "      <th>KidneyDisease</th>\n",
       "      <th>SkinCancer</th>\n",
       "    </tr>\n",
       "  </thead>\n",
       "  <tbody>\n",
       "    <tr>\n",
       "      <th>0</th>\n",
       "      <td>No</td>\n",
       "      <td>16.60</td>\n",
       "      <td>Yes</td>\n",
       "      <td>No</td>\n",
       "      <td>No</td>\n",
       "      <td>3.0</td>\n",
       "      <td>30.0</td>\n",
       "      <td>No</td>\n",
       "      <td>Female</td>\n",
       "      <td>55-59</td>\n",
       "      <td>White</td>\n",
       "      <td>Yes</td>\n",
       "      <td>Yes</td>\n",
       "      <td>Very good</td>\n",
       "      <td>5.0</td>\n",
       "      <td>Yes</td>\n",
       "      <td>No</td>\n",
       "      <td>Yes</td>\n",
       "    </tr>\n",
       "    <tr>\n",
       "      <th>1</th>\n",
       "      <td>No</td>\n",
       "      <td>20.34</td>\n",
       "      <td>No</td>\n",
       "      <td>No</td>\n",
       "      <td>Yes</td>\n",
       "      <td>0.0</td>\n",
       "      <td>0.0</td>\n",
       "      <td>No</td>\n",
       "      <td>Female</td>\n",
       "      <td>80 or older</td>\n",
       "      <td>White</td>\n",
       "      <td>No</td>\n",
       "      <td>Yes</td>\n",
       "      <td>Very good</td>\n",
       "      <td>7.0</td>\n",
       "      <td>No</td>\n",
       "      <td>No</td>\n",
       "      <td>No</td>\n",
       "    </tr>\n",
       "    <tr>\n",
       "      <th>2</th>\n",
       "      <td>No</td>\n",
       "      <td>26.58</td>\n",
       "      <td>Yes</td>\n",
       "      <td>No</td>\n",
       "      <td>No</td>\n",
       "      <td>20.0</td>\n",
       "      <td>30.0</td>\n",
       "      <td>No</td>\n",
       "      <td>Male</td>\n",
       "      <td>65-69</td>\n",
       "      <td>White</td>\n",
       "      <td>Yes</td>\n",
       "      <td>Yes</td>\n",
       "      <td>Fair</td>\n",
       "      <td>8.0</td>\n",
       "      <td>Yes</td>\n",
       "      <td>No</td>\n",
       "      <td>No</td>\n",
       "    </tr>\n",
       "    <tr>\n",
       "      <th>3</th>\n",
       "      <td>No</td>\n",
       "      <td>24.21</td>\n",
       "      <td>No</td>\n",
       "      <td>No</td>\n",
       "      <td>No</td>\n",
       "      <td>0.0</td>\n",
       "      <td>0.0</td>\n",
       "      <td>No</td>\n",
       "      <td>Female</td>\n",
       "      <td>75-79</td>\n",
       "      <td>White</td>\n",
       "      <td>No</td>\n",
       "      <td>No</td>\n",
       "      <td>Good</td>\n",
       "      <td>6.0</td>\n",
       "      <td>No</td>\n",
       "      <td>No</td>\n",
       "      <td>Yes</td>\n",
       "    </tr>\n",
       "    <tr>\n",
       "      <th>4</th>\n",
       "      <td>No</td>\n",
       "      <td>23.71</td>\n",
       "      <td>No</td>\n",
       "      <td>No</td>\n",
       "      <td>No</td>\n",
       "      <td>28.0</td>\n",
       "      <td>0.0</td>\n",
       "      <td>Yes</td>\n",
       "      <td>Female</td>\n",
       "      <td>40-44</td>\n",
       "      <td>White</td>\n",
       "      <td>No</td>\n",
       "      <td>Yes</td>\n",
       "      <td>Very good</td>\n",
       "      <td>8.0</td>\n",
       "      <td>No</td>\n",
       "      <td>No</td>\n",
       "      <td>No</td>\n",
       "    </tr>\n",
       "    <tr>\n",
       "      <th>...</th>\n",
       "      <td>...</td>\n",
       "      <td>...</td>\n",
       "      <td>...</td>\n",
       "      <td>...</td>\n",
       "      <td>...</td>\n",
       "      <td>...</td>\n",
       "      <td>...</td>\n",
       "      <td>...</td>\n",
       "      <td>...</td>\n",
       "      <td>...</td>\n",
       "      <td>...</td>\n",
       "      <td>...</td>\n",
       "      <td>...</td>\n",
       "      <td>...</td>\n",
       "      <td>...</td>\n",
       "      <td>...</td>\n",
       "      <td>...</td>\n",
       "      <td>...</td>\n",
       "    </tr>\n",
       "    <tr>\n",
       "      <th>319790</th>\n",
       "      <td>Yes</td>\n",
       "      <td>27.41</td>\n",
       "      <td>Yes</td>\n",
       "      <td>No</td>\n",
       "      <td>No</td>\n",
       "      <td>7.0</td>\n",
       "      <td>0.0</td>\n",
       "      <td>Yes</td>\n",
       "      <td>Male</td>\n",
       "      <td>60-64</td>\n",
       "      <td>Hispanic</td>\n",
       "      <td>Yes</td>\n",
       "      <td>No</td>\n",
       "      <td>Fair</td>\n",
       "      <td>6.0</td>\n",
       "      <td>Yes</td>\n",
       "      <td>No</td>\n",
       "      <td>No</td>\n",
       "    </tr>\n",
       "    <tr>\n",
       "      <th>319791</th>\n",
       "      <td>No</td>\n",
       "      <td>29.84</td>\n",
       "      <td>Yes</td>\n",
       "      <td>No</td>\n",
       "      <td>No</td>\n",
       "      <td>0.0</td>\n",
       "      <td>0.0</td>\n",
       "      <td>No</td>\n",
       "      <td>Male</td>\n",
       "      <td>35-39</td>\n",
       "      <td>Hispanic</td>\n",
       "      <td>No</td>\n",
       "      <td>Yes</td>\n",
       "      <td>Very good</td>\n",
       "      <td>5.0</td>\n",
       "      <td>Yes</td>\n",
       "      <td>No</td>\n",
       "      <td>No</td>\n",
       "    </tr>\n",
       "    <tr>\n",
       "      <th>319792</th>\n",
       "      <td>No</td>\n",
       "      <td>24.24</td>\n",
       "      <td>No</td>\n",
       "      <td>No</td>\n",
       "      <td>No</td>\n",
       "      <td>0.0</td>\n",
       "      <td>0.0</td>\n",
       "      <td>No</td>\n",
       "      <td>Female</td>\n",
       "      <td>45-49</td>\n",
       "      <td>Hispanic</td>\n",
       "      <td>No</td>\n",
       "      <td>Yes</td>\n",
       "      <td>Good</td>\n",
       "      <td>6.0</td>\n",
       "      <td>No</td>\n",
       "      <td>No</td>\n",
       "      <td>No</td>\n",
       "    </tr>\n",
       "    <tr>\n",
       "      <th>319793</th>\n",
       "      <td>No</td>\n",
       "      <td>32.81</td>\n",
       "      <td>No</td>\n",
       "      <td>No</td>\n",
       "      <td>No</td>\n",
       "      <td>0.0</td>\n",
       "      <td>0.0</td>\n",
       "      <td>No</td>\n",
       "      <td>Female</td>\n",
       "      <td>25-29</td>\n",
       "      <td>Hispanic</td>\n",
       "      <td>No</td>\n",
       "      <td>No</td>\n",
       "      <td>Good</td>\n",
       "      <td>12.0</td>\n",
       "      <td>No</td>\n",
       "      <td>No</td>\n",
       "      <td>No</td>\n",
       "    </tr>\n",
       "    <tr>\n",
       "      <th>319794</th>\n",
       "      <td>No</td>\n",
       "      <td>46.56</td>\n",
       "      <td>No</td>\n",
       "      <td>No</td>\n",
       "      <td>No</td>\n",
       "      <td>0.0</td>\n",
       "      <td>0.0</td>\n",
       "      <td>No</td>\n",
       "      <td>Female</td>\n",
       "      <td>80 or older</td>\n",
       "      <td>Hispanic</td>\n",
       "      <td>No</td>\n",
       "      <td>Yes</td>\n",
       "      <td>Good</td>\n",
       "      <td>8.0</td>\n",
       "      <td>No</td>\n",
       "      <td>No</td>\n",
       "      <td>No</td>\n",
       "    </tr>\n",
       "  </tbody>\n",
       "</table>\n",
       "<p>319795 rows × 18 columns</p>\n",
       "</div>"
      ],
      "text/plain": [
       "       HeartDisease    BMI Smoking AlcoholDrinking Stroke  PhysicalHealth  \\\n",
       "0                No  16.60     Yes              No     No             3.0   \n",
       "1                No  20.34      No              No    Yes             0.0   \n",
       "2                No  26.58     Yes              No     No            20.0   \n",
       "3                No  24.21      No              No     No             0.0   \n",
       "4                No  23.71      No              No     No            28.0   \n",
       "...             ...    ...     ...             ...    ...             ...   \n",
       "319790          Yes  27.41     Yes              No     No             7.0   \n",
       "319791           No  29.84     Yes              No     No             0.0   \n",
       "319792           No  24.24      No              No     No             0.0   \n",
       "319793           No  32.81      No              No     No             0.0   \n",
       "319794           No  46.56      No              No     No             0.0   \n",
       "\n",
       "        MentalHealth DiffWalking     Sex  AgeCategory      Race Diabetic  \\\n",
       "0               30.0          No  Female        55-59     White      Yes   \n",
       "1                0.0          No  Female  80 or older     White       No   \n",
       "2               30.0          No    Male        65-69     White      Yes   \n",
       "3                0.0          No  Female        75-79     White       No   \n",
       "4                0.0         Yes  Female        40-44     White       No   \n",
       "...              ...         ...     ...          ...       ...      ...   \n",
       "319790           0.0         Yes    Male        60-64  Hispanic      Yes   \n",
       "319791           0.0          No    Male        35-39  Hispanic       No   \n",
       "319792           0.0          No  Female        45-49  Hispanic       No   \n",
       "319793           0.0          No  Female        25-29  Hispanic       No   \n",
       "319794           0.0          No  Female  80 or older  Hispanic       No   \n",
       "\n",
       "       PhysicalActivity  GenHealth  SleepTime Asthma KidneyDisease SkinCancer  \n",
       "0                   Yes  Very good        5.0    Yes            No        Yes  \n",
       "1                   Yes  Very good        7.0     No            No         No  \n",
       "2                   Yes       Fair        8.0    Yes            No         No  \n",
       "3                    No       Good        6.0     No            No        Yes  \n",
       "4                   Yes  Very good        8.0     No            No         No  \n",
       "...                 ...        ...        ...    ...           ...        ...  \n",
       "319790               No       Fair        6.0    Yes            No         No  \n",
       "319791              Yes  Very good        5.0    Yes            No         No  \n",
       "319792              Yes       Good        6.0     No            No         No  \n",
       "319793               No       Good       12.0     No            No         No  \n",
       "319794              Yes       Good        8.0     No            No         No  \n",
       "\n",
       "[319795 rows x 18 columns]"
      ]
     },
     "execution_count": 2,
     "metadata": {},
     "output_type": "execute_result"
    }
   ],
   "source": [
    "data = pd.read_csv('heart_2020_cleaned.csv')\n",
    "data"
   ]
  },
  {
   "cell_type": "markdown",
   "id": "7bbef694",
   "metadata": {},
   "source": [
    "# EDA"
   ]
  },
  {
   "cell_type": "markdown",
   "id": "38005163",
   "metadata": {},
   "source": [
    "## 1. Shape of the data set"
   ]
  },
  {
   "cell_type": "code",
   "execution_count": 3,
   "id": "82a04b03",
   "metadata": {},
   "outputs": [
    {
     "data": {
      "text/plain": [
       "(319795, 18)"
      ]
     },
     "execution_count": 3,
     "metadata": {},
     "output_type": "execute_result"
    }
   ],
   "source": [
    "data.shape"
   ]
  },
  {
   "cell_type": "markdown",
   "id": "f220212b",
   "metadata": {},
   "source": [
    "## 2. Data types"
   ]
  },
  {
   "cell_type": "code",
   "execution_count": 4,
   "id": "f3a173b1",
   "metadata": {},
   "outputs": [
    {
     "data": {
      "text/plain": [
       "HeartDisease         object\n",
       "BMI                 float64\n",
       "Smoking              object\n",
       "AlcoholDrinking      object\n",
       "Stroke               object\n",
       "PhysicalHealth      float64\n",
       "MentalHealth        float64\n",
       "DiffWalking          object\n",
       "Sex                  object\n",
       "AgeCategory          object\n",
       "Race                 object\n",
       "Diabetic             object\n",
       "PhysicalActivity     object\n",
       "GenHealth            object\n",
       "SleepTime           float64\n",
       "Asthma               object\n",
       "KidneyDisease        object\n",
       "SkinCancer           object\n",
       "dtype: object"
      ]
     },
     "execution_count": 4,
     "metadata": {},
     "output_type": "execute_result"
    }
   ],
   "source": [
    "data.dtypes"
   ]
  },
  {
   "cell_type": "markdown",
   "id": "70e913ec",
   "metadata": {},
   "source": [
    "## 3. Check for null enteries"
   ]
  },
  {
   "cell_type": "code",
   "execution_count": 5,
   "id": "b91a9552",
   "metadata": {},
   "outputs": [
    {
     "data": {
      "text/plain": [
       "HeartDisease        0\n",
       "BMI                 0\n",
       "Smoking             0\n",
       "AlcoholDrinking     0\n",
       "Stroke              0\n",
       "PhysicalHealth      0\n",
       "MentalHealth        0\n",
       "DiffWalking         0\n",
       "Sex                 0\n",
       "AgeCategory         0\n",
       "Race                0\n",
       "Diabetic            0\n",
       "PhysicalActivity    0\n",
       "GenHealth           0\n",
       "SleepTime           0\n",
       "Asthma              0\n",
       "KidneyDisease       0\n",
       "SkinCancer          0\n",
       "dtype: int64"
      ]
     },
     "execution_count": 5,
     "metadata": {},
     "output_type": "execute_result"
    }
   ],
   "source": [
    "data.isna().sum()"
   ]
  },
  {
   "cell_type": "markdown",
   "id": "c74f54f1",
   "metadata": {},
   "source": [
    "## 4. Check for duplicates"
   ]
  },
  {
   "cell_type": "code",
   "execution_count": 6,
   "id": "fbad59a1",
   "metadata": {},
   "outputs": [
    {
     "data": {
      "text/html": [
       "<div>\n",
       "<style scoped>\n",
       "    .dataframe tbody tr th:only-of-type {\n",
       "        vertical-align: middle;\n",
       "    }\n",
       "\n",
       "    .dataframe tbody tr th {\n",
       "        vertical-align: top;\n",
       "    }\n",
       "\n",
       "    .dataframe thead th {\n",
       "        text-align: right;\n",
       "    }\n",
       "</style>\n",
       "<table border=\"1\" class=\"dataframe\">\n",
       "  <thead>\n",
       "    <tr style=\"text-align: right;\">\n",
       "      <th></th>\n",
       "      <th>HeartDisease</th>\n",
       "      <th>BMI</th>\n",
       "      <th>Smoking</th>\n",
       "      <th>AlcoholDrinking</th>\n",
       "      <th>Stroke</th>\n",
       "      <th>PhysicalHealth</th>\n",
       "      <th>MentalHealth</th>\n",
       "      <th>DiffWalking</th>\n",
       "      <th>Sex</th>\n",
       "      <th>AgeCategory</th>\n",
       "      <th>Race</th>\n",
       "      <th>Diabetic</th>\n",
       "      <th>PhysicalActivity</th>\n",
       "      <th>GenHealth</th>\n",
       "      <th>SleepTime</th>\n",
       "      <th>Asthma</th>\n",
       "      <th>KidneyDisease</th>\n",
       "      <th>SkinCancer</th>\n",
       "    </tr>\n",
       "  </thead>\n",
       "  <tbody>\n",
       "    <tr>\n",
       "      <th>2182</th>\n",
       "      <td>No</td>\n",
       "      <td>19.85</td>\n",
       "      <td>No</td>\n",
       "      <td>No</td>\n",
       "      <td>No</td>\n",
       "      <td>0.0</td>\n",
       "      <td>0.0</td>\n",
       "      <td>No</td>\n",
       "      <td>Female</td>\n",
       "      <td>80 or older</td>\n",
       "      <td>White</td>\n",
       "      <td>No</td>\n",
       "      <td>Yes</td>\n",
       "      <td>Excellent</td>\n",
       "      <td>7.0</td>\n",
       "      <td>No</td>\n",
       "      <td>No</td>\n",
       "      <td>No</td>\n",
       "    </tr>\n",
       "    <tr>\n",
       "      <th>3182</th>\n",
       "      <td>No</td>\n",
       "      <td>28.19</td>\n",
       "      <td>No</td>\n",
       "      <td>No</td>\n",
       "      <td>No</td>\n",
       "      <td>0.0</td>\n",
       "      <td>0.0</td>\n",
       "      <td>No</td>\n",
       "      <td>Female</td>\n",
       "      <td>50-54</td>\n",
       "      <td>White</td>\n",
       "      <td>No</td>\n",
       "      <td>Yes</td>\n",
       "      <td>Excellent</td>\n",
       "      <td>7.0</td>\n",
       "      <td>No</td>\n",
       "      <td>No</td>\n",
       "      <td>No</td>\n",
       "    </tr>\n",
       "    <tr>\n",
       "      <th>3397</th>\n",
       "      <td>No</td>\n",
       "      <td>26.54</td>\n",
       "      <td>No</td>\n",
       "      <td>No</td>\n",
       "      <td>No</td>\n",
       "      <td>0.0</td>\n",
       "      <td>0.0</td>\n",
       "      <td>No</td>\n",
       "      <td>Male</td>\n",
       "      <td>45-49</td>\n",
       "      <td>White</td>\n",
       "      <td>No</td>\n",
       "      <td>Yes</td>\n",
       "      <td>Excellent</td>\n",
       "      <td>6.0</td>\n",
       "      <td>No</td>\n",
       "      <td>No</td>\n",
       "      <td>No</td>\n",
       "    </tr>\n",
       "    <tr>\n",
       "      <th>3650</th>\n",
       "      <td>No</td>\n",
       "      <td>32.89</td>\n",
       "      <td>Yes</td>\n",
       "      <td>No</td>\n",
       "      <td>No</td>\n",
       "      <td>2.0</td>\n",
       "      <td>1.0</td>\n",
       "      <td>No</td>\n",
       "      <td>Female</td>\n",
       "      <td>50-54</td>\n",
       "      <td>White</td>\n",
       "      <td>No</td>\n",
       "      <td>Yes</td>\n",
       "      <td>Good</td>\n",
       "      <td>9.0</td>\n",
       "      <td>No</td>\n",
       "      <td>No</td>\n",
       "      <td>No</td>\n",
       "    </tr>\n",
       "    <tr>\n",
       "      <th>4061</th>\n",
       "      <td>No</td>\n",
       "      <td>25.84</td>\n",
       "      <td>No</td>\n",
       "      <td>No</td>\n",
       "      <td>No</td>\n",
       "      <td>0.0</td>\n",
       "      <td>0.0</td>\n",
       "      <td>No</td>\n",
       "      <td>Female</td>\n",
       "      <td>40-44</td>\n",
       "      <td>White</td>\n",
       "      <td>No</td>\n",
       "      <td>Yes</td>\n",
       "      <td>Excellent</td>\n",
       "      <td>8.0</td>\n",
       "      <td>No</td>\n",
       "      <td>No</td>\n",
       "      <td>No</td>\n",
       "    </tr>\n",
       "    <tr>\n",
       "      <th>...</th>\n",
       "      <td>...</td>\n",
       "      <td>...</td>\n",
       "      <td>...</td>\n",
       "      <td>...</td>\n",
       "      <td>...</td>\n",
       "      <td>...</td>\n",
       "      <td>...</td>\n",
       "      <td>...</td>\n",
       "      <td>...</td>\n",
       "      <td>...</td>\n",
       "      <td>...</td>\n",
       "      <td>...</td>\n",
       "      <td>...</td>\n",
       "      <td>...</td>\n",
       "      <td>...</td>\n",
       "      <td>...</td>\n",
       "      <td>...</td>\n",
       "      <td>...</td>\n",
       "    </tr>\n",
       "    <tr>\n",
       "      <th>319671</th>\n",
       "      <td>No</td>\n",
       "      <td>25.06</td>\n",
       "      <td>No</td>\n",
       "      <td>No</td>\n",
       "      <td>No</td>\n",
       "      <td>0.0</td>\n",
       "      <td>0.0</td>\n",
       "      <td>No</td>\n",
       "      <td>Male</td>\n",
       "      <td>40-44</td>\n",
       "      <td>Hispanic</td>\n",
       "      <td>No</td>\n",
       "      <td>Yes</td>\n",
       "      <td>Excellent</td>\n",
       "      <td>7.0</td>\n",
       "      <td>No</td>\n",
       "      <td>No</td>\n",
       "      <td>No</td>\n",
       "    </tr>\n",
       "    <tr>\n",
       "      <th>319689</th>\n",
       "      <td>No</td>\n",
       "      <td>27.44</td>\n",
       "      <td>No</td>\n",
       "      <td>No</td>\n",
       "      <td>No</td>\n",
       "      <td>0.0</td>\n",
       "      <td>0.0</td>\n",
       "      <td>No</td>\n",
       "      <td>Female</td>\n",
       "      <td>30-34</td>\n",
       "      <td>Hispanic</td>\n",
       "      <td>No</td>\n",
       "      <td>Yes</td>\n",
       "      <td>Very good</td>\n",
       "      <td>6.0</td>\n",
       "      <td>No</td>\n",
       "      <td>No</td>\n",
       "      <td>No</td>\n",
       "    </tr>\n",
       "    <tr>\n",
       "      <th>319726</th>\n",
       "      <td>No</td>\n",
       "      <td>30.41</td>\n",
       "      <td>No</td>\n",
       "      <td>No</td>\n",
       "      <td>No</td>\n",
       "      <td>0.0</td>\n",
       "      <td>0.0</td>\n",
       "      <td>No</td>\n",
       "      <td>Male</td>\n",
       "      <td>18-24</td>\n",
       "      <td>Hispanic</td>\n",
       "      <td>No</td>\n",
       "      <td>Yes</td>\n",
       "      <td>Excellent</td>\n",
       "      <td>7.0</td>\n",
       "      <td>No</td>\n",
       "      <td>No</td>\n",
       "      <td>No</td>\n",
       "    </tr>\n",
       "    <tr>\n",
       "      <th>319751</th>\n",
       "      <td>No</td>\n",
       "      <td>34.96</td>\n",
       "      <td>No</td>\n",
       "      <td>No</td>\n",
       "      <td>No</td>\n",
       "      <td>0.0</td>\n",
       "      <td>0.0</td>\n",
       "      <td>No</td>\n",
       "      <td>Male</td>\n",
       "      <td>18-24</td>\n",
       "      <td>Hispanic</td>\n",
       "      <td>No</td>\n",
       "      <td>Yes</td>\n",
       "      <td>Excellent</td>\n",
       "      <td>6.0</td>\n",
       "      <td>No</td>\n",
       "      <td>No</td>\n",
       "      <td>No</td>\n",
       "    </tr>\n",
       "    <tr>\n",
       "      <th>319776</th>\n",
       "      <td>No</td>\n",
       "      <td>27.98</td>\n",
       "      <td>No</td>\n",
       "      <td>No</td>\n",
       "      <td>No</td>\n",
       "      <td>0.0</td>\n",
       "      <td>0.0</td>\n",
       "      <td>No</td>\n",
       "      <td>Female</td>\n",
       "      <td>50-54</td>\n",
       "      <td>Hispanic</td>\n",
       "      <td>No</td>\n",
       "      <td>No</td>\n",
       "      <td>Good</td>\n",
       "      <td>8.0</td>\n",
       "      <td>No</td>\n",
       "      <td>No</td>\n",
       "      <td>No</td>\n",
       "    </tr>\n",
       "  </tbody>\n",
       "</table>\n",
       "<p>18078 rows × 18 columns</p>\n",
       "</div>"
      ],
      "text/plain": [
       "       HeartDisease    BMI Smoking AlcoholDrinking Stroke  PhysicalHealth  \\\n",
       "2182             No  19.85      No              No     No             0.0   \n",
       "3182             No  28.19      No              No     No             0.0   \n",
       "3397             No  26.54      No              No     No             0.0   \n",
       "3650             No  32.89     Yes              No     No             2.0   \n",
       "4061             No  25.84      No              No     No             0.0   \n",
       "...             ...    ...     ...             ...    ...             ...   \n",
       "319671           No  25.06      No              No     No             0.0   \n",
       "319689           No  27.44      No              No     No             0.0   \n",
       "319726           No  30.41      No              No     No             0.0   \n",
       "319751           No  34.96      No              No     No             0.0   \n",
       "319776           No  27.98      No              No     No             0.0   \n",
       "\n",
       "        MentalHealth DiffWalking     Sex  AgeCategory      Race Diabetic  \\\n",
       "2182             0.0          No  Female  80 or older     White       No   \n",
       "3182             0.0          No  Female        50-54     White       No   \n",
       "3397             0.0          No    Male        45-49     White       No   \n",
       "3650             1.0          No  Female        50-54     White       No   \n",
       "4061             0.0          No  Female        40-44     White       No   \n",
       "...              ...         ...     ...          ...       ...      ...   \n",
       "319671           0.0          No    Male        40-44  Hispanic       No   \n",
       "319689           0.0          No  Female        30-34  Hispanic       No   \n",
       "319726           0.0          No    Male        18-24  Hispanic       No   \n",
       "319751           0.0          No    Male        18-24  Hispanic       No   \n",
       "319776           0.0          No  Female        50-54  Hispanic       No   \n",
       "\n",
       "       PhysicalActivity  GenHealth  SleepTime Asthma KidneyDisease SkinCancer  \n",
       "2182                Yes  Excellent        7.0     No            No         No  \n",
       "3182                Yes  Excellent        7.0     No            No         No  \n",
       "3397                Yes  Excellent        6.0     No            No         No  \n",
       "3650                Yes       Good        9.0     No            No         No  \n",
       "4061                Yes  Excellent        8.0     No            No         No  \n",
       "...                 ...        ...        ...    ...           ...        ...  \n",
       "319671              Yes  Excellent        7.0     No            No         No  \n",
       "319689              Yes  Very good        6.0     No            No         No  \n",
       "319726              Yes  Excellent        7.0     No            No         No  \n",
       "319751              Yes  Excellent        6.0     No            No         No  \n",
       "319776               No       Good        8.0     No            No         No  \n",
       "\n",
       "[18078 rows x 18 columns]"
      ]
     },
     "execution_count": 6,
     "metadata": {},
     "output_type": "execute_result"
    }
   ],
   "source": [
    "data[data.duplicated()]"
   ]
  },
  {
   "cell_type": "markdown",
   "id": "5090f98e",
   "metadata": {},
   "source": [
    "Since we have duplicate observations we need to drop them."
   ]
  },
  {
   "cell_type": "code",
   "execution_count": 7,
   "id": "5f45c0ca",
   "metadata": {},
   "outputs": [
    {
     "data": {
      "text/html": [
       "<div>\n",
       "<style scoped>\n",
       "    .dataframe tbody tr th:only-of-type {\n",
       "        vertical-align: middle;\n",
       "    }\n",
       "\n",
       "    .dataframe tbody tr th {\n",
       "        vertical-align: top;\n",
       "    }\n",
       "\n",
       "    .dataframe thead th {\n",
       "        text-align: right;\n",
       "    }\n",
       "</style>\n",
       "<table border=\"1\" class=\"dataframe\">\n",
       "  <thead>\n",
       "    <tr style=\"text-align: right;\">\n",
       "      <th></th>\n",
       "      <th>HeartDisease</th>\n",
       "      <th>BMI</th>\n",
       "      <th>Smoking</th>\n",
       "      <th>AlcoholDrinking</th>\n",
       "      <th>Stroke</th>\n",
       "      <th>PhysicalHealth</th>\n",
       "      <th>MentalHealth</th>\n",
       "      <th>DiffWalking</th>\n",
       "      <th>Sex</th>\n",
       "      <th>AgeCategory</th>\n",
       "      <th>Race</th>\n",
       "      <th>Diabetic</th>\n",
       "      <th>PhysicalActivity</th>\n",
       "      <th>GenHealth</th>\n",
       "      <th>SleepTime</th>\n",
       "      <th>Asthma</th>\n",
       "      <th>KidneyDisease</th>\n",
       "      <th>SkinCancer</th>\n",
       "    </tr>\n",
       "  </thead>\n",
       "  <tbody>\n",
       "    <tr>\n",
       "      <th>0</th>\n",
       "      <td>No</td>\n",
       "      <td>16.60</td>\n",
       "      <td>Yes</td>\n",
       "      <td>No</td>\n",
       "      <td>No</td>\n",
       "      <td>3.0</td>\n",
       "      <td>30.0</td>\n",
       "      <td>No</td>\n",
       "      <td>Female</td>\n",
       "      <td>55-59</td>\n",
       "      <td>White</td>\n",
       "      <td>Yes</td>\n",
       "      <td>Yes</td>\n",
       "      <td>Very good</td>\n",
       "      <td>5.0</td>\n",
       "      <td>Yes</td>\n",
       "      <td>No</td>\n",
       "      <td>Yes</td>\n",
       "    </tr>\n",
       "    <tr>\n",
       "      <th>1</th>\n",
       "      <td>No</td>\n",
       "      <td>20.34</td>\n",
       "      <td>No</td>\n",
       "      <td>No</td>\n",
       "      <td>Yes</td>\n",
       "      <td>0.0</td>\n",
       "      <td>0.0</td>\n",
       "      <td>No</td>\n",
       "      <td>Female</td>\n",
       "      <td>80 or older</td>\n",
       "      <td>White</td>\n",
       "      <td>No</td>\n",
       "      <td>Yes</td>\n",
       "      <td>Very good</td>\n",
       "      <td>7.0</td>\n",
       "      <td>No</td>\n",
       "      <td>No</td>\n",
       "      <td>No</td>\n",
       "    </tr>\n",
       "    <tr>\n",
       "      <th>2</th>\n",
       "      <td>No</td>\n",
       "      <td>26.58</td>\n",
       "      <td>Yes</td>\n",
       "      <td>No</td>\n",
       "      <td>No</td>\n",
       "      <td>20.0</td>\n",
       "      <td>30.0</td>\n",
       "      <td>No</td>\n",
       "      <td>Male</td>\n",
       "      <td>65-69</td>\n",
       "      <td>White</td>\n",
       "      <td>Yes</td>\n",
       "      <td>Yes</td>\n",
       "      <td>Fair</td>\n",
       "      <td>8.0</td>\n",
       "      <td>Yes</td>\n",
       "      <td>No</td>\n",
       "      <td>No</td>\n",
       "    </tr>\n",
       "    <tr>\n",
       "      <th>3</th>\n",
       "      <td>No</td>\n",
       "      <td>24.21</td>\n",
       "      <td>No</td>\n",
       "      <td>No</td>\n",
       "      <td>No</td>\n",
       "      <td>0.0</td>\n",
       "      <td>0.0</td>\n",
       "      <td>No</td>\n",
       "      <td>Female</td>\n",
       "      <td>75-79</td>\n",
       "      <td>White</td>\n",
       "      <td>No</td>\n",
       "      <td>No</td>\n",
       "      <td>Good</td>\n",
       "      <td>6.0</td>\n",
       "      <td>No</td>\n",
       "      <td>No</td>\n",
       "      <td>Yes</td>\n",
       "    </tr>\n",
       "    <tr>\n",
       "      <th>4</th>\n",
       "      <td>No</td>\n",
       "      <td>23.71</td>\n",
       "      <td>No</td>\n",
       "      <td>No</td>\n",
       "      <td>No</td>\n",
       "      <td>28.0</td>\n",
       "      <td>0.0</td>\n",
       "      <td>Yes</td>\n",
       "      <td>Female</td>\n",
       "      <td>40-44</td>\n",
       "      <td>White</td>\n",
       "      <td>No</td>\n",
       "      <td>Yes</td>\n",
       "      <td>Very good</td>\n",
       "      <td>8.0</td>\n",
       "      <td>No</td>\n",
       "      <td>No</td>\n",
       "      <td>No</td>\n",
       "    </tr>\n",
       "    <tr>\n",
       "      <th>...</th>\n",
       "      <td>...</td>\n",
       "      <td>...</td>\n",
       "      <td>...</td>\n",
       "      <td>...</td>\n",
       "      <td>...</td>\n",
       "      <td>...</td>\n",
       "      <td>...</td>\n",
       "      <td>...</td>\n",
       "      <td>...</td>\n",
       "      <td>...</td>\n",
       "      <td>...</td>\n",
       "      <td>...</td>\n",
       "      <td>...</td>\n",
       "      <td>...</td>\n",
       "      <td>...</td>\n",
       "      <td>...</td>\n",
       "      <td>...</td>\n",
       "      <td>...</td>\n",
       "    </tr>\n",
       "    <tr>\n",
       "      <th>319790</th>\n",
       "      <td>Yes</td>\n",
       "      <td>27.41</td>\n",
       "      <td>Yes</td>\n",
       "      <td>No</td>\n",
       "      <td>No</td>\n",
       "      <td>7.0</td>\n",
       "      <td>0.0</td>\n",
       "      <td>Yes</td>\n",
       "      <td>Male</td>\n",
       "      <td>60-64</td>\n",
       "      <td>Hispanic</td>\n",
       "      <td>Yes</td>\n",
       "      <td>No</td>\n",
       "      <td>Fair</td>\n",
       "      <td>6.0</td>\n",
       "      <td>Yes</td>\n",
       "      <td>No</td>\n",
       "      <td>No</td>\n",
       "    </tr>\n",
       "    <tr>\n",
       "      <th>319791</th>\n",
       "      <td>No</td>\n",
       "      <td>29.84</td>\n",
       "      <td>Yes</td>\n",
       "      <td>No</td>\n",
       "      <td>No</td>\n",
       "      <td>0.0</td>\n",
       "      <td>0.0</td>\n",
       "      <td>No</td>\n",
       "      <td>Male</td>\n",
       "      <td>35-39</td>\n",
       "      <td>Hispanic</td>\n",
       "      <td>No</td>\n",
       "      <td>Yes</td>\n",
       "      <td>Very good</td>\n",
       "      <td>5.0</td>\n",
       "      <td>Yes</td>\n",
       "      <td>No</td>\n",
       "      <td>No</td>\n",
       "    </tr>\n",
       "    <tr>\n",
       "      <th>319792</th>\n",
       "      <td>No</td>\n",
       "      <td>24.24</td>\n",
       "      <td>No</td>\n",
       "      <td>No</td>\n",
       "      <td>No</td>\n",
       "      <td>0.0</td>\n",
       "      <td>0.0</td>\n",
       "      <td>No</td>\n",
       "      <td>Female</td>\n",
       "      <td>45-49</td>\n",
       "      <td>Hispanic</td>\n",
       "      <td>No</td>\n",
       "      <td>Yes</td>\n",
       "      <td>Good</td>\n",
       "      <td>6.0</td>\n",
       "      <td>No</td>\n",
       "      <td>No</td>\n",
       "      <td>No</td>\n",
       "    </tr>\n",
       "    <tr>\n",
       "      <th>319793</th>\n",
       "      <td>No</td>\n",
       "      <td>32.81</td>\n",
       "      <td>No</td>\n",
       "      <td>No</td>\n",
       "      <td>No</td>\n",
       "      <td>0.0</td>\n",
       "      <td>0.0</td>\n",
       "      <td>No</td>\n",
       "      <td>Female</td>\n",
       "      <td>25-29</td>\n",
       "      <td>Hispanic</td>\n",
       "      <td>No</td>\n",
       "      <td>No</td>\n",
       "      <td>Good</td>\n",
       "      <td>12.0</td>\n",
       "      <td>No</td>\n",
       "      <td>No</td>\n",
       "      <td>No</td>\n",
       "    </tr>\n",
       "    <tr>\n",
       "      <th>319794</th>\n",
       "      <td>No</td>\n",
       "      <td>46.56</td>\n",
       "      <td>No</td>\n",
       "      <td>No</td>\n",
       "      <td>No</td>\n",
       "      <td>0.0</td>\n",
       "      <td>0.0</td>\n",
       "      <td>No</td>\n",
       "      <td>Female</td>\n",
       "      <td>80 or older</td>\n",
       "      <td>Hispanic</td>\n",
       "      <td>No</td>\n",
       "      <td>Yes</td>\n",
       "      <td>Good</td>\n",
       "      <td>8.0</td>\n",
       "      <td>No</td>\n",
       "      <td>No</td>\n",
       "      <td>No</td>\n",
       "    </tr>\n",
       "  </tbody>\n",
       "</table>\n",
       "<p>301717 rows × 18 columns</p>\n",
       "</div>"
      ],
      "text/plain": [
       "       HeartDisease    BMI Smoking AlcoholDrinking Stroke  PhysicalHealth  \\\n",
       "0                No  16.60     Yes              No     No             3.0   \n",
       "1                No  20.34      No              No    Yes             0.0   \n",
       "2                No  26.58     Yes              No     No            20.0   \n",
       "3                No  24.21      No              No     No             0.0   \n",
       "4                No  23.71      No              No     No            28.0   \n",
       "...             ...    ...     ...             ...    ...             ...   \n",
       "319790          Yes  27.41     Yes              No     No             7.0   \n",
       "319791           No  29.84     Yes              No     No             0.0   \n",
       "319792           No  24.24      No              No     No             0.0   \n",
       "319793           No  32.81      No              No     No             0.0   \n",
       "319794           No  46.56      No              No     No             0.0   \n",
       "\n",
       "        MentalHealth DiffWalking     Sex  AgeCategory      Race Diabetic  \\\n",
       "0               30.0          No  Female        55-59     White      Yes   \n",
       "1                0.0          No  Female  80 or older     White       No   \n",
       "2               30.0          No    Male        65-69     White      Yes   \n",
       "3                0.0          No  Female        75-79     White       No   \n",
       "4                0.0         Yes  Female        40-44     White       No   \n",
       "...              ...         ...     ...          ...       ...      ...   \n",
       "319790           0.0         Yes    Male        60-64  Hispanic      Yes   \n",
       "319791           0.0          No    Male        35-39  Hispanic       No   \n",
       "319792           0.0          No  Female        45-49  Hispanic       No   \n",
       "319793           0.0          No  Female        25-29  Hispanic       No   \n",
       "319794           0.0          No  Female  80 or older  Hispanic       No   \n",
       "\n",
       "       PhysicalActivity  GenHealth  SleepTime Asthma KidneyDisease SkinCancer  \n",
       "0                   Yes  Very good        5.0    Yes            No        Yes  \n",
       "1                   Yes  Very good        7.0     No            No         No  \n",
       "2                   Yes       Fair        8.0    Yes            No         No  \n",
       "3                    No       Good        6.0     No            No        Yes  \n",
       "4                   Yes  Very good        8.0     No            No         No  \n",
       "...                 ...        ...        ...    ...           ...        ...  \n",
       "319790               No       Fair        6.0    Yes            No         No  \n",
       "319791              Yes  Very good        5.0    Yes            No         No  \n",
       "319792              Yes       Good        6.0     No            No         No  \n",
       "319793               No       Good       12.0     No            No         No  \n",
       "319794              Yes       Good        8.0     No            No         No  \n",
       "\n",
       "[301717 rows x 18 columns]"
      ]
     },
     "execution_count": 7,
     "metadata": {},
     "output_type": "execute_result"
    }
   ],
   "source": [
    "data = data.drop_duplicates()\n",
    "data"
   ]
  },
  {
   "cell_type": "code",
   "execution_count": 8,
   "id": "15127dce",
   "metadata": {},
   "outputs": [],
   "source": [
    "data.to_csv('Heart_Disease_data_with_outliers.csv')"
   ]
  },
  {
   "cell_type": "markdown",
   "id": "682b05d6",
   "metadata": {},
   "source": [
    "## 5. Summary of data "
   ]
  },
  {
   "cell_type": "code",
   "execution_count": 9,
   "id": "17f7b833",
   "metadata": {},
   "outputs": [
    {
     "data": {
      "text/html": [
       "<div>\n",
       "<style scoped>\n",
       "    .dataframe tbody tr th:only-of-type {\n",
       "        vertical-align: middle;\n",
       "    }\n",
       "\n",
       "    .dataframe tbody tr th {\n",
       "        vertical-align: top;\n",
       "    }\n",
       "\n",
       "    .dataframe thead th {\n",
       "        text-align: right;\n",
       "    }\n",
       "</style>\n",
       "<table border=\"1\" class=\"dataframe\">\n",
       "  <thead>\n",
       "    <tr style=\"text-align: right;\">\n",
       "      <th></th>\n",
       "      <th>BMI</th>\n",
       "      <th>PhysicalHealth</th>\n",
       "      <th>MentalHealth</th>\n",
       "      <th>SleepTime</th>\n",
       "    </tr>\n",
       "  </thead>\n",
       "  <tbody>\n",
       "    <tr>\n",
       "      <th>count</th>\n",
       "      <td>301717.000000</td>\n",
       "      <td>301717.000000</td>\n",
       "      <td>301717.000000</td>\n",
       "      <td>301717.000000</td>\n",
       "    </tr>\n",
       "    <tr>\n",
       "      <th>mean</th>\n",
       "      <td>28.441970</td>\n",
       "      <td>3.572298</td>\n",
       "      <td>4.121475</td>\n",
       "      <td>7.084559</td>\n",
       "    </tr>\n",
       "    <tr>\n",
       "      <th>std</th>\n",
       "      <td>6.468134</td>\n",
       "      <td>8.140656</td>\n",
       "      <td>8.128288</td>\n",
       "      <td>1.467122</td>\n",
       "    </tr>\n",
       "    <tr>\n",
       "      <th>min</th>\n",
       "      <td>12.020000</td>\n",
       "      <td>0.000000</td>\n",
       "      <td>0.000000</td>\n",
       "      <td>1.000000</td>\n",
       "    </tr>\n",
       "    <tr>\n",
       "      <th>25%</th>\n",
       "      <td>24.030000</td>\n",
       "      <td>0.000000</td>\n",
       "      <td>0.000000</td>\n",
       "      <td>6.000000</td>\n",
       "    </tr>\n",
       "    <tr>\n",
       "      <th>50%</th>\n",
       "      <td>27.410000</td>\n",
       "      <td>0.000000</td>\n",
       "      <td>0.000000</td>\n",
       "      <td>7.000000</td>\n",
       "    </tr>\n",
       "    <tr>\n",
       "      <th>75%</th>\n",
       "      <td>31.650000</td>\n",
       "      <td>2.000000</td>\n",
       "      <td>4.000000</td>\n",
       "      <td>8.000000</td>\n",
       "    </tr>\n",
       "    <tr>\n",
       "      <th>max</th>\n",
       "      <td>94.850000</td>\n",
       "      <td>30.000000</td>\n",
       "      <td>30.000000</td>\n",
       "      <td>24.000000</td>\n",
       "    </tr>\n",
       "  </tbody>\n",
       "</table>\n",
       "</div>"
      ],
      "text/plain": [
       "                 BMI  PhysicalHealth   MentalHealth      SleepTime\n",
       "count  301717.000000   301717.000000  301717.000000  301717.000000\n",
       "mean       28.441970        3.572298       4.121475       7.084559\n",
       "std         6.468134        8.140656       8.128288       1.467122\n",
       "min        12.020000        0.000000       0.000000       1.000000\n",
       "25%        24.030000        0.000000       0.000000       6.000000\n",
       "50%        27.410000        0.000000       0.000000       7.000000\n",
       "75%        31.650000        2.000000       4.000000       8.000000\n",
       "max        94.850000       30.000000      30.000000      24.000000"
      ]
     },
     "execution_count": 9,
     "metadata": {},
     "output_type": "execute_result"
    }
   ],
   "source": [
    "data.describe()"
   ]
  },
  {
   "cell_type": "code",
   "execution_count": 10,
   "id": "a97febb9",
   "metadata": {},
   "outputs": [
    {
     "data": {
      "text/html": [
       "<div>\n",
       "<style scoped>\n",
       "    .dataframe tbody tr th:only-of-type {\n",
       "        vertical-align: middle;\n",
       "    }\n",
       "\n",
       "    .dataframe tbody tr th {\n",
       "        vertical-align: top;\n",
       "    }\n",
       "\n",
       "    .dataframe thead th {\n",
       "        text-align: right;\n",
       "    }\n",
       "</style>\n",
       "<table border=\"1\" class=\"dataframe\">\n",
       "  <thead>\n",
       "    <tr style=\"text-align: right;\">\n",
       "      <th></th>\n",
       "      <th>HeartDisease</th>\n",
       "      <th>Smoking</th>\n",
       "      <th>AlcoholDrinking</th>\n",
       "      <th>Stroke</th>\n",
       "      <th>DiffWalking</th>\n",
       "      <th>Sex</th>\n",
       "      <th>AgeCategory</th>\n",
       "      <th>Race</th>\n",
       "      <th>Diabetic</th>\n",
       "      <th>PhysicalActivity</th>\n",
       "      <th>GenHealth</th>\n",
       "      <th>Asthma</th>\n",
       "      <th>KidneyDisease</th>\n",
       "      <th>SkinCancer</th>\n",
       "    </tr>\n",
       "  </thead>\n",
       "  <tbody>\n",
       "    <tr>\n",
       "      <th>count</th>\n",
       "      <td>301717</td>\n",
       "      <td>301717</td>\n",
       "      <td>301717</td>\n",
       "      <td>301717</td>\n",
       "      <td>301717</td>\n",
       "      <td>301717</td>\n",
       "      <td>301717</td>\n",
       "      <td>301717</td>\n",
       "      <td>301717</td>\n",
       "      <td>301717</td>\n",
       "      <td>301717</td>\n",
       "      <td>301717</td>\n",
       "      <td>301717</td>\n",
       "      <td>301717</td>\n",
       "    </tr>\n",
       "    <tr>\n",
       "      <th>unique</th>\n",
       "      <td>2</td>\n",
       "      <td>2</td>\n",
       "      <td>2</td>\n",
       "      <td>2</td>\n",
       "      <td>2</td>\n",
       "      <td>2</td>\n",
       "      <td>13</td>\n",
       "      <td>6</td>\n",
       "      <td>4</td>\n",
       "      <td>2</td>\n",
       "      <td>5</td>\n",
       "      <td>2</td>\n",
       "      <td>2</td>\n",
       "      <td>2</td>\n",
       "    </tr>\n",
       "    <tr>\n",
       "      <th>top</th>\n",
       "      <td>No</td>\n",
       "      <td>No</td>\n",
       "      <td>No</td>\n",
       "      <td>No</td>\n",
       "      <td>No</td>\n",
       "      <td>Female</td>\n",
       "      <td>65-69</td>\n",
       "      <td>White</td>\n",
       "      <td>No</td>\n",
       "      <td>Yes</td>\n",
       "      <td>Very good</td>\n",
       "      <td>No</td>\n",
       "      <td>No</td>\n",
       "      <td>No</td>\n",
       "    </tr>\n",
       "    <tr>\n",
       "      <th>freq</th>\n",
       "      <td>274456</td>\n",
       "      <td>174312</td>\n",
       "      <td>280136</td>\n",
       "      <td>289653</td>\n",
       "      <td>257362</td>\n",
       "      <td>159671</td>\n",
       "      <td>31670</td>\n",
       "      <td>227724</td>\n",
       "      <td>251796</td>\n",
       "      <td>230412</td>\n",
       "      <td>104796</td>\n",
       "      <td>259066</td>\n",
       "      <td>289941</td>\n",
       "      <td>272425</td>\n",
       "    </tr>\n",
       "  </tbody>\n",
       "</table>\n",
       "</div>"
      ],
      "text/plain": [
       "       HeartDisease Smoking AlcoholDrinking  Stroke DiffWalking     Sex  \\\n",
       "count        301717  301717          301717  301717      301717  301717   \n",
       "unique            2       2               2       2           2       2   \n",
       "top              No      No              No      No          No  Female   \n",
       "freq         274456  174312          280136  289653      257362  159671   \n",
       "\n",
       "       AgeCategory    Race Diabetic PhysicalActivity  GenHealth  Asthma  \\\n",
       "count       301717  301717   301717           301717     301717  301717   \n",
       "unique          13       6        4                2          5       2   \n",
       "top          65-69   White       No              Yes  Very good      No   \n",
       "freq         31670  227724   251796           230412     104796  259066   \n",
       "\n",
       "       KidneyDisease SkinCancer  \n",
       "count         301717     301717  \n",
       "unique             2          2  \n",
       "top               No         No  \n",
       "freq          289941     272425  "
      ]
     },
     "execution_count": 10,
     "metadata": {},
     "output_type": "execute_result"
    }
   ],
   "source": [
    "data.describe(include='object')"
   ]
  },
  {
   "cell_type": "code",
   "execution_count": 11,
   "id": "afda619f",
   "metadata": {},
   "outputs": [
    {
     "name": "stdout",
     "output_type": "stream",
     "text": [
      "<class 'pandas.core.frame.DataFrame'>\n",
      "Int64Index: 301717 entries, 0 to 319794\n",
      "Data columns (total 18 columns):\n",
      " #   Column            Non-Null Count   Dtype  \n",
      "---  ------            --------------   -----  \n",
      " 0   HeartDisease      301717 non-null  object \n",
      " 1   BMI               301717 non-null  float64\n",
      " 2   Smoking           301717 non-null  object \n",
      " 3   AlcoholDrinking   301717 non-null  object \n",
      " 4   Stroke            301717 non-null  object \n",
      " 5   PhysicalHealth    301717 non-null  float64\n",
      " 6   MentalHealth      301717 non-null  float64\n",
      " 7   DiffWalking       301717 non-null  object \n",
      " 8   Sex               301717 non-null  object \n",
      " 9   AgeCategory       301717 non-null  object \n",
      " 10  Race              301717 non-null  object \n",
      " 11  Diabetic          301717 non-null  object \n",
      " 12  PhysicalActivity  301717 non-null  object \n",
      " 13  GenHealth         301717 non-null  object \n",
      " 14  SleepTime         301717 non-null  float64\n",
      " 15  Asthma            301717 non-null  object \n",
      " 16  KidneyDisease     301717 non-null  object \n",
      " 17  SkinCancer        301717 non-null  object \n",
      "dtypes: float64(4), object(14)\n",
      "memory usage: 43.7+ MB\n"
     ]
    }
   ],
   "source": [
    "data.info()"
   ]
  },
  {
   "cell_type": "code",
   "execution_count": 12,
   "id": "14fca17e",
   "metadata": {},
   "outputs": [
    {
     "data": {
      "text/plain": [
       "HeartDisease                           Yes\n",
       "BMI                                  94.85\n",
       "Smoking                                Yes\n",
       "AlcoholDrinking                        Yes\n",
       "Stroke                                 Yes\n",
       "PhysicalHealth                        30.0\n",
       "MentalHealth                          30.0\n",
       "DiffWalking                            Yes\n",
       "Sex                                   Male\n",
       "AgeCategory                    80 or older\n",
       "Race                                 White\n",
       "Diabetic            Yes (during pregnancy)\n",
       "PhysicalActivity                       Yes\n",
       "GenHealth                        Very good\n",
       "SleepTime                             24.0\n",
       "Asthma                                 Yes\n",
       "KidneyDisease                          Yes\n",
       "SkinCancer                             Yes\n",
       "dtype: object"
      ]
     },
     "execution_count": 12,
     "metadata": {},
     "output_type": "execute_result"
    }
   ],
   "source": [
    "data.max()"
   ]
  },
  {
   "cell_type": "markdown",
   "id": "999824e5",
   "metadata": {},
   "source": [
    "## 6. About the features"
   ]
  },
  {
   "cell_type": "markdown",
   "id": "46315803",
   "metadata": {},
   "source": [
    "We have total 18 features in that one is dependent variable 'Heart Disease' that is out output and other 17 are input features"
   ]
  },
  {
   "cell_type": "code",
   "execution_count": 13,
   "id": "a0dd9942",
   "metadata": {},
   "outputs": [
    {
     "data": {
      "text/plain": [
       "Index(['HeartDisease', 'BMI', 'Smoking', 'AlcoholDrinking', 'Stroke',\n",
       "       'PhysicalHealth', 'MentalHealth', 'DiffWalking', 'Sex', 'AgeCategory',\n",
       "       'Race', 'Diabetic', 'PhysicalActivity', 'GenHealth', 'SleepTime',\n",
       "       'Asthma', 'KidneyDisease', 'SkinCancer'],\n",
       "      dtype='object')"
      ]
     },
     "execution_count": 13,
     "metadata": {},
     "output_type": "execute_result"
    }
   ],
   "source": [
    "columns = data.columns\n",
    "columns"
   ]
  },
  {
   "cell_type": "markdown",
   "id": "107428d3",
   "metadata": {},
   "source": [
    "### For Smoking"
   ]
  },
  {
   "cell_type": "code",
   "execution_count": 14,
   "id": "345d244c",
   "metadata": {
    "scrolled": true
   },
   "outputs": [
    {
     "data": {
      "text/plain": [
       "No     174312\n",
       "Yes    127405\n",
       "Name: Smoking, dtype: int64"
      ]
     },
     "execution_count": 14,
     "metadata": {},
     "output_type": "execute_result"
    }
   ],
   "source": [
    "pd.value_counts(data['Smoking'])"
   ]
  },
  {
   "cell_type": "code",
   "execution_count": 15,
   "id": "461dd1e7",
   "metadata": {
    "scrolled": false
   },
   "outputs": [
    {
     "data": {
      "text/html": [
       "<div>\n",
       "<style scoped>\n",
       "    .dataframe tbody tr th:only-of-type {\n",
       "        vertical-align: middle;\n",
       "    }\n",
       "\n",
       "    .dataframe tbody tr th {\n",
       "        vertical-align: top;\n",
       "    }\n",
       "\n",
       "    .dataframe thead th {\n",
       "        text-align: right;\n",
       "    }\n",
       "</style>\n",
       "<table border=\"1\" class=\"dataframe\">\n",
       "  <thead>\n",
       "    <tr style=\"text-align: right;\">\n",
       "      <th>HeartDisease</th>\n",
       "      <th>No</th>\n",
       "      <th>Yes</th>\n",
       "      <th>All</th>\n",
       "    </tr>\n",
       "    <tr>\n",
       "      <th>Smoking</th>\n",
       "      <th></th>\n",
       "      <th></th>\n",
       "      <th></th>\n",
       "    </tr>\n",
       "  </thead>\n",
       "  <tbody>\n",
       "    <tr>\n",
       "      <th>No</th>\n",
       "      <td>163028</td>\n",
       "      <td>11284</td>\n",
       "      <td>174312</td>\n",
       "    </tr>\n",
       "    <tr>\n",
       "      <th>Yes</th>\n",
       "      <td>111428</td>\n",
       "      <td>15977</td>\n",
       "      <td>127405</td>\n",
       "    </tr>\n",
       "    <tr>\n",
       "      <th>All</th>\n",
       "      <td>274456</td>\n",
       "      <td>27261</td>\n",
       "      <td>301717</td>\n",
       "    </tr>\n",
       "  </tbody>\n",
       "</table>\n",
       "</div>"
      ],
      "text/plain": [
       "HeartDisease      No    Yes     All\n",
       "Smoking                            \n",
       "No            163028  11284  174312\n",
       "Yes           111428  15977  127405\n",
       "All           274456  27261  301717"
      ]
     },
     "execution_count": 15,
     "metadata": {},
     "output_type": "execute_result"
    }
   ],
   "source": [
    "pd.crosstab(data['Smoking'],data['HeartDisease'],margins=True)"
   ]
  },
  {
   "cell_type": "code",
   "execution_count": 16,
   "id": "94387015",
   "metadata": {},
   "outputs": [
    {
     "data": {
      "image/png": "[encoded data removed]",
      "text/plain": [
       "<Figure size 720x432 with 1 Axes>"
      ]
     },
     "metadata": {
      "needs_background": "light"
     },
     "output_type": "display_data"
    }
   ],
   "source": [
    "plt.figure(figsize=(10,6))\n",
    "sns.countplot(x='Smoking',hue='HeartDisease',data=data,order=['Yes','No'])\n",
    "plt.show()"
   ]
  },
  {
   "cell_type": "markdown",
   "id": "4bc821e8",
   "metadata": {},
   "source": [
    "### For AlcoholDrinking"
   ]
  },
  {
   "cell_type": "code",
   "execution_count": 17,
   "id": "3205de13",
   "metadata": {},
   "outputs": [
    {
     "data": {
      "text/plain": [
       "No     280136\n",
       "Yes     21581\n",
       "Name: AlcoholDrinking, dtype: int64"
      ]
     },
     "execution_count": 17,
     "metadata": {},
     "output_type": "execute_result"
    }
   ],
   "source": [
    "pd.value_counts(data['AlcoholDrinking'])"
   ]
  },
  {
   "cell_type": "code",
   "execution_count": 18,
   "id": "4f6b28a1",
   "metadata": {
    "scrolled": true
   },
   "outputs": [
    {
     "data": {
      "text/html": [
       "<div>\n",
       "<style scoped>\n",
       "    .dataframe tbody tr th:only-of-type {\n",
       "        vertical-align: middle;\n",
       "    }\n",
       "\n",
       "    .dataframe tbody tr th {\n",
       "        vertical-align: top;\n",
       "    }\n",
       "\n",
       "    .dataframe thead th {\n",
       "        text-align: right;\n",
       "    }\n",
       "</style>\n",
       "<table border=\"1\" class=\"dataframe\">\n",
       "  <thead>\n",
       "    <tr style=\"text-align: right;\">\n",
       "      <th>HeartDisease</th>\n",
       "      <th>No</th>\n",
       "      <th>Yes</th>\n",
       "      <th>All</th>\n",
       "    </tr>\n",
       "    <tr>\n",
       "      <th>AlcoholDrinking</th>\n",
       "      <th></th>\n",
       "      <th></th>\n",
       "      <th></th>\n",
       "    </tr>\n",
       "  </thead>\n",
       "  <tbody>\n",
       "    <tr>\n",
       "      <th>No</th>\n",
       "      <td>254016</td>\n",
       "      <td>26120</td>\n",
       "      <td>280136</td>\n",
       "    </tr>\n",
       "    <tr>\n",
       "      <th>Yes</th>\n",
       "      <td>20440</td>\n",
       "      <td>1141</td>\n",
       "      <td>21581</td>\n",
       "    </tr>\n",
       "    <tr>\n",
       "      <th>All</th>\n",
       "      <td>274456</td>\n",
       "      <td>27261</td>\n",
       "      <td>301717</td>\n",
       "    </tr>\n",
       "  </tbody>\n",
       "</table>\n",
       "</div>"
      ],
      "text/plain": [
       "HeartDisease         No    Yes     All\n",
       "AlcoholDrinking                       \n",
       "No               254016  26120  280136\n",
       "Yes               20440   1141   21581\n",
       "All              274456  27261  301717"
      ]
     },
     "execution_count": 18,
     "metadata": {},
     "output_type": "execute_result"
    }
   ],
   "source": [
    "pd.crosstab(data['AlcoholDrinking'],data['HeartDisease'],margins=True)"
   ]
  },
  {
   "cell_type": "code",
   "execution_count": 19,
   "id": "d41b93c1",
   "metadata": {},
   "outputs": [
    {
     "data": {
      "image/png": "[encoded data removed]",
      "text/plain": [
       "<Figure size 720x432 with 1 Axes>"
      ]
     },
     "metadata": {
      "needs_background": "light"
     },
     "output_type": "display_data"
    }
   ],
   "source": [
    "plt.figure(figsize=(10,6))\n",
    "sns.countplot(x='AlcoholDrinking',hue='HeartDisease',data=data,order=['Yes','No'])\n",
    "plt.show()"
   ]
  },
  {
   "cell_type": "markdown",
   "id": "1411b690",
   "metadata": {},
   "source": [
    "###  For Stroke"
   ]
  },
  {
   "cell_type": "code",
   "execution_count": 20,
   "id": "69f773d7",
   "metadata": {},
   "outputs": [
    {
     "data": {
      "text/plain": [
       "No     289653\n",
       "Yes     12064\n",
       "Name: Stroke, dtype: int64"
      ]
     },
     "execution_count": 20,
     "metadata": {},
     "output_type": "execute_result"
    }
   ],
   "source": [
    "pd.value_counts(data['Stroke'])"
   ]
  },
  {
   "cell_type": "code",
   "execution_count": 21,
   "id": "e98dbccd",
   "metadata": {
    "scrolled": true
   },
   "outputs": [
    {
     "data": {
      "text/html": [
       "<div>\n",
       "<style scoped>\n",
       "    .dataframe tbody tr th:only-of-type {\n",
       "        vertical-align: middle;\n",
       "    }\n",
       "\n",
       "    .dataframe tbody tr th {\n",
       "        vertical-align: top;\n",
       "    }\n",
       "\n",
       "    .dataframe thead th {\n",
       "        text-align: right;\n",
       "    }\n",
       "</style>\n",
       "<table border=\"1\" class=\"dataframe\">\n",
       "  <thead>\n",
       "    <tr style=\"text-align: right;\">\n",
       "      <th>HeartDisease</th>\n",
       "      <th>No</th>\n",
       "      <th>Yes</th>\n",
       "      <th>All</th>\n",
       "    </tr>\n",
       "    <tr>\n",
       "      <th>Stroke</th>\n",
       "      <th></th>\n",
       "      <th></th>\n",
       "      <th></th>\n",
       "    </tr>\n",
       "  </thead>\n",
       "  <tbody>\n",
       "    <tr>\n",
       "      <th>No</th>\n",
       "      <td>266781</td>\n",
       "      <td>22872</td>\n",
       "      <td>289653</td>\n",
       "    </tr>\n",
       "    <tr>\n",
       "      <th>Yes</th>\n",
       "      <td>7675</td>\n",
       "      <td>4389</td>\n",
       "      <td>12064</td>\n",
       "    </tr>\n",
       "    <tr>\n",
       "      <th>All</th>\n",
       "      <td>274456</td>\n",
       "      <td>27261</td>\n",
       "      <td>301717</td>\n",
       "    </tr>\n",
       "  </tbody>\n",
       "</table>\n",
       "</div>"
      ],
      "text/plain": [
       "HeartDisease      No    Yes     All\n",
       "Stroke                             \n",
       "No            266781  22872  289653\n",
       "Yes             7675   4389   12064\n",
       "All           274456  27261  301717"
      ]
     },
     "execution_count": 21,
     "metadata": {},
     "output_type": "execute_result"
    }
   ],
   "source": [
    "pd.crosstab(data['Stroke'],data['HeartDisease'],margins=True)"
   ]
  },
  {
   "cell_type": "code",
   "execution_count": 22,
   "id": "b5c06057",
   "metadata": {},
   "outputs": [
    {
     "data": {
      "image/png": "[encoded data removed]",
      "text/plain": [
       "<Figure size 720x432 with 1 Axes>"
      ]
     },
     "metadata": {
      "needs_background": "light"
     },
     "output_type": "display_data"
    }
   ],
   "source": [
    "plt.figure(figsize=(10,6))\n",
    "sns.countplot(x='Stroke',hue='HeartDisease',data=data,order=['Yes','No'])\n",
    "plt.show()"
   ]
  },
  {
   "cell_type": "markdown",
   "id": "b2d61364",
   "metadata": {},
   "source": [
    "### For DiffWalking"
   ]
  },
  {
   "cell_type": "code",
   "execution_count": 23,
   "id": "82cca5fd",
   "metadata": {
    "scrolled": true
   },
   "outputs": [
    {
     "data": {
      "text/plain": [
       "No     257362\n",
       "Yes     44355\n",
       "Name: DiffWalking, dtype: int64"
      ]
     },
     "execution_count": 23,
     "metadata": {},
     "output_type": "execute_result"
    }
   ],
   "source": [
    "pd.value_counts(data['DiffWalking'])"
   ]
  },
  {
   "cell_type": "code",
   "execution_count": 24,
   "id": "35d6cd33",
   "metadata": {
    "scrolled": false
   },
   "outputs": [
    {
     "data": {
      "text/html": [
       "<div>\n",
       "<style scoped>\n",
       "    .dataframe tbody tr th:only-of-type {\n",
       "        vertical-align: middle;\n",
       "    }\n",
       "\n",
       "    .dataframe tbody tr th {\n",
       "        vertical-align: top;\n",
       "    }\n",
       "\n",
       "    .dataframe thead th {\n",
       "        text-align: right;\n",
       "    }\n",
       "</style>\n",
       "<table border=\"1\" class=\"dataframe\">\n",
       "  <thead>\n",
       "    <tr style=\"text-align: right;\">\n",
       "      <th>HeartDisease</th>\n",
       "      <th>No</th>\n",
       "      <th>Yes</th>\n",
       "      <th>All</th>\n",
       "    </tr>\n",
       "    <tr>\n",
       "      <th>DiffWalking</th>\n",
       "      <th></th>\n",
       "      <th></th>\n",
       "      <th></th>\n",
       "    </tr>\n",
       "  </thead>\n",
       "  <tbody>\n",
       "    <tr>\n",
       "      <th>No</th>\n",
       "      <td>240125</td>\n",
       "      <td>17237</td>\n",
       "      <td>257362</td>\n",
       "    </tr>\n",
       "    <tr>\n",
       "      <th>Yes</th>\n",
       "      <td>34331</td>\n",
       "      <td>10024</td>\n",
       "      <td>44355</td>\n",
       "    </tr>\n",
       "    <tr>\n",
       "      <th>All</th>\n",
       "      <td>274456</td>\n",
       "      <td>27261</td>\n",
       "      <td>301717</td>\n",
       "    </tr>\n",
       "  </tbody>\n",
       "</table>\n",
       "</div>"
      ],
      "text/plain": [
       "HeartDisease      No    Yes     All\n",
       "DiffWalking                        \n",
       "No            240125  17237  257362\n",
       "Yes            34331  10024   44355\n",
       "All           274456  27261  301717"
      ]
     },
     "execution_count": 24,
     "metadata": {},
     "output_type": "execute_result"
    }
   ],
   "source": [
    "pd.crosstab(data['DiffWalking'],data['HeartDisease'],margins=True)"
   ]
  },
  {
   "cell_type": "code",
   "execution_count": 25,
   "id": "5e80e62a",
   "metadata": {},
   "outputs": [
    {
     "data": {
      "image/png": "[encoded data removed]",
      "text/plain": [
       "<Figure size 720x432 with 1 Axes>"
      ]
     },
     "metadata": {
      "needs_background": "light"
     },
     "output_type": "display_data"
    }
   ],
   "source": [
    "plt.figure(figsize=(10,6))\n",
    "sns.countplot(x='DiffWalking',hue='HeartDisease',data=data,order=['Yes','No'])\n",
    "plt.show()"
   ]
  },
  {
   "cell_type": "markdown",
   "id": "07d3921f",
   "metadata": {},
   "source": [
    "###  For Sex"
   ]
  },
  {
   "cell_type": "code",
   "execution_count": 26,
   "id": "d724b054",
   "metadata": {},
   "outputs": [
    {
     "data": {
      "text/plain": [
       "Female    159671\n",
       "Male      142046\n",
       "Name: Sex, dtype: int64"
      ]
     },
     "execution_count": 26,
     "metadata": {},
     "output_type": "execute_result"
    }
   ],
   "source": [
    "pd.value_counts(data['Sex'])"
   ]
  },
  {
   "cell_type": "code",
   "execution_count": 27,
   "id": "43cf2c65",
   "metadata": {
    "scrolled": false
   },
   "outputs": [
    {
     "data": {
      "text/html": [
       "<div>\n",
       "<style scoped>\n",
       "    .dataframe tbody tr th:only-of-type {\n",
       "        vertical-align: middle;\n",
       "    }\n",
       "\n",
       "    .dataframe tbody tr th {\n",
       "        vertical-align: top;\n",
       "    }\n",
       "\n",
       "    .dataframe thead th {\n",
       "        text-align: right;\n",
       "    }\n",
       "</style>\n",
       "<table border=\"1\" class=\"dataframe\">\n",
       "  <thead>\n",
       "    <tr style=\"text-align: right;\">\n",
       "      <th>HeartDisease</th>\n",
       "      <th>No</th>\n",
       "      <th>Yes</th>\n",
       "      <th>All</th>\n",
       "    </tr>\n",
       "    <tr>\n",
       "      <th>Sex</th>\n",
       "      <th></th>\n",
       "      <th></th>\n",
       "      <th></th>\n",
       "    </tr>\n",
       "  </thead>\n",
       "  <tbody>\n",
       "    <tr>\n",
       "      <th>Female</th>\n",
       "      <td>148458</td>\n",
       "      <td>11213</td>\n",
       "      <td>159671</td>\n",
       "    </tr>\n",
       "    <tr>\n",
       "      <th>Male</th>\n",
       "      <td>125998</td>\n",
       "      <td>16048</td>\n",
       "      <td>142046</td>\n",
       "    </tr>\n",
       "    <tr>\n",
       "      <th>All</th>\n",
       "      <td>274456</td>\n",
       "      <td>27261</td>\n",
       "      <td>301717</td>\n",
       "    </tr>\n",
       "  </tbody>\n",
       "</table>\n",
       "</div>"
      ],
      "text/plain": [
       "HeartDisease      No    Yes     All\n",
       "Sex                                \n",
       "Female        148458  11213  159671\n",
       "Male          125998  16048  142046\n",
       "All           274456  27261  301717"
      ]
     },
     "execution_count": 27,
     "metadata": {},
     "output_type": "execute_result"
    }
   ],
   "source": [
    "pd.crosstab(data['Sex'],data['HeartDisease'],margins=True)"
   ]
  },
  {
   "cell_type": "code",
   "execution_count": 28,
   "id": "5f1b6f90",
   "metadata": {},
   "outputs": [
    {
     "data": {
      "image/png": "[encoded data removed]",
      "text/plain": [
       "<Figure size 720x432 with 1 Axes>"
      ]
     },
     "metadata": {
      "needs_background": "light"
     },
     "output_type": "display_data"
    }
   ],
   "source": [
    "plt.figure(figsize=(10,6))\n",
    "sns.countplot(x='Sex',hue='HeartDisease',data=data,order=['Male','Female'])\n",
    "plt.show()"
   ]
  },
  {
   "cell_type": "markdown",
   "id": "da71cef9",
   "metadata": {},
   "source": [
    "### For AgeCategory"
   ]
  },
  {
   "cell_type": "code",
   "execution_count": 29,
   "id": "c9ddf5a9",
   "metadata": {
    "scrolled": false
   },
   "outputs": [
    {
     "data": {
      "text/plain": [
       "25-29          16312\n",
       "30-34          17953\n",
       "35-39          19526\n",
       "40-44          19837\n",
       "18-24          19998\n",
       "45-49          20518\n",
       "75-79          20713\n",
       "80 or older    23352\n",
       "50-54          23736\n",
       "55-59          27610\n",
       "70-74          29273\n",
       "60-64          31219\n",
       "65-69          31670\n",
       "Name: AgeCategory, dtype: int64"
      ]
     },
     "execution_count": 29,
     "metadata": {},
     "output_type": "execute_result"
    }
   ],
   "source": [
    "pd.value_counts(data['AgeCategory'],ascending=True)"
   ]
  },
  {
   "cell_type": "code",
   "execution_count": 30,
   "id": "4beab915",
   "metadata": {
    "scrolled": true
   },
   "outputs": [
    {
     "data": {
      "text/html": [
       "<div>\n",
       "<style scoped>\n",
       "    .dataframe tbody tr th:only-of-type {\n",
       "        vertical-align: middle;\n",
       "    }\n",
       "\n",
       "    .dataframe tbody tr th {\n",
       "        vertical-align: top;\n",
       "    }\n",
       "\n",
       "    .dataframe thead th {\n",
       "        text-align: right;\n",
       "    }\n",
       "</style>\n",
       "<table border=\"1\" class=\"dataframe\">\n",
       "  <thead>\n",
       "    <tr style=\"text-align: right;\">\n",
       "      <th>HeartDisease</th>\n",
       "      <th>No</th>\n",
       "      <th>Yes</th>\n",
       "      <th>All</th>\n",
       "    </tr>\n",
       "    <tr>\n",
       "      <th>AgeCategory</th>\n",
       "      <th></th>\n",
       "      <th></th>\n",
       "      <th></th>\n",
       "    </tr>\n",
       "  </thead>\n",
       "  <tbody>\n",
       "    <tr>\n",
       "      <th>18-24</th>\n",
       "      <td>19868</td>\n",
       "      <td>130</td>\n",
       "      <td>19998</td>\n",
       "    </tr>\n",
       "    <tr>\n",
       "      <th>25-29</th>\n",
       "      <td>16179</td>\n",
       "      <td>133</td>\n",
       "      <td>16312</td>\n",
       "    </tr>\n",
       "    <tr>\n",
       "      <th>30-34</th>\n",
       "      <td>17727</td>\n",
       "      <td>226</td>\n",
       "      <td>17953</td>\n",
       "    </tr>\n",
       "    <tr>\n",
       "      <th>35-39</th>\n",
       "      <td>19230</td>\n",
       "      <td>296</td>\n",
       "      <td>19526</td>\n",
       "    </tr>\n",
       "    <tr>\n",
       "      <th>40-44</th>\n",
       "      <td>19351</td>\n",
       "      <td>486</td>\n",
       "      <td>19837</td>\n",
       "    </tr>\n",
       "    <tr>\n",
       "      <th>45-49</th>\n",
       "      <td>19775</td>\n",
       "      <td>743</td>\n",
       "      <td>20518</td>\n",
       "    </tr>\n",
       "    <tr>\n",
       "      <th>50-54</th>\n",
       "      <td>22353</td>\n",
       "      <td>1383</td>\n",
       "      <td>23736</td>\n",
       "    </tr>\n",
       "    <tr>\n",
       "      <th>55-59</th>\n",
       "      <td>25411</td>\n",
       "      <td>2199</td>\n",
       "      <td>27610</td>\n",
       "    </tr>\n",
       "    <tr>\n",
       "      <th>60-64</th>\n",
       "      <td>27898</td>\n",
       "      <td>3321</td>\n",
       "      <td>31219</td>\n",
       "    </tr>\n",
       "    <tr>\n",
       "      <th>65-69</th>\n",
       "      <td>27596</td>\n",
       "      <td>4074</td>\n",
       "      <td>31670</td>\n",
       "    </tr>\n",
       "    <tr>\n",
       "      <th>70-74</th>\n",
       "      <td>24456</td>\n",
       "      <td>4817</td>\n",
       "      <td>29273</td>\n",
       "    </tr>\n",
       "    <tr>\n",
       "      <th>75-79</th>\n",
       "      <td>16686</td>\n",
       "      <td>4027</td>\n",
       "      <td>20713</td>\n",
       "    </tr>\n",
       "    <tr>\n",
       "      <th>80 or older</th>\n",
       "      <td>17926</td>\n",
       "      <td>5426</td>\n",
       "      <td>23352</td>\n",
       "    </tr>\n",
       "    <tr>\n",
       "      <th>All</th>\n",
       "      <td>274456</td>\n",
       "      <td>27261</td>\n",
       "      <td>301717</td>\n",
       "    </tr>\n",
       "  </tbody>\n",
       "</table>\n",
       "</div>"
      ],
      "text/plain": [
       "HeartDisease      No    Yes     All\n",
       "AgeCategory                        \n",
       "18-24          19868    130   19998\n",
       "25-29          16179    133   16312\n",
       "30-34          17727    226   17953\n",
       "35-39          19230    296   19526\n",
       "40-44          19351    486   19837\n",
       "45-49          19775    743   20518\n",
       "50-54          22353   1383   23736\n",
       "55-59          25411   2199   27610\n",
       "60-64          27898   3321   31219\n",
       "65-69          27596   4074   31670\n",
       "70-74          24456   4817   29273\n",
       "75-79          16686   4027   20713\n",
       "80 or older    17926   5426   23352\n",
       "All           274456  27261  301717"
      ]
     },
     "execution_count": 30,
     "metadata": {},
     "output_type": "execute_result"
    }
   ],
   "source": [
    "pd.crosstab(data['AgeCategory'],data['HeartDisease'],margins=True)"
   ]
  },
  {
   "cell_type": "code",
   "execution_count": 31,
   "id": "1741eab6",
   "metadata": {},
   "outputs": [
    {
     "data": {
      "image/png": "[encoded data removed]",
      "text/plain": [
       "<Figure size 1080x432 with 1 Axes>"
      ]
     },
     "metadata": {
      "needs_background": "light"
     },
     "output_type": "display_data"
    }
   ],
   "source": [
    "plt.figure(figsize=(15,6))\n",
    "sns.countplot(x='AgeCategory',hue='HeartDisease',data=data,order=['18-24','25-29','30-34','35-39','40-44','45-49','50-54','55-59','60-64','65-69','70-74','75-79','80 or older'])\n",
    "plt.show()"
   ]
  },
  {
   "cell_type": "markdown",
   "id": "80386293",
   "metadata": {},
   "source": [
    "### For Race"
   ]
  },
  {
   "cell_type": "code",
   "execution_count": 32,
   "id": "db68ee64",
   "metadata": {
    "scrolled": false
   },
   "outputs": [
    {
     "data": {
      "text/plain": [
       "White                             227724\n",
       "Hispanic                           27107\n",
       "Black                              22810\n",
       "Other                              10891\n",
       "Asian                               7993\n",
       "American Indian/Alaskan Native      5192\n",
       "Name: Race, dtype: int64"
      ]
     },
     "execution_count": 32,
     "metadata": {},
     "output_type": "execute_result"
    }
   ],
   "source": [
    "pd.value_counts(data['Race'])"
   ]
  },
  {
   "cell_type": "code",
   "execution_count": 33,
   "id": "e4cff6cf",
   "metadata": {
    "scrolled": false
   },
   "outputs": [
    {
     "data": {
      "text/html": [
       "<div>\n",
       "<style scoped>\n",
       "    .dataframe tbody tr th:only-of-type {\n",
       "        vertical-align: middle;\n",
       "    }\n",
       "\n",
       "    .dataframe tbody tr th {\n",
       "        vertical-align: top;\n",
       "    }\n",
       "\n",
       "    .dataframe thead th {\n",
       "        text-align: right;\n",
       "    }\n",
       "</style>\n",
       "<table border=\"1\" class=\"dataframe\">\n",
       "  <thead>\n",
       "    <tr style=\"text-align: right;\">\n",
       "      <th>HeartDisease</th>\n",
       "      <th>No</th>\n",
       "      <th>Yes</th>\n",
       "      <th>All</th>\n",
       "    </tr>\n",
       "    <tr>\n",
       "      <th>Race</th>\n",
       "      <th></th>\n",
       "      <th></th>\n",
       "      <th></th>\n",
       "    </tr>\n",
       "  </thead>\n",
       "  <tbody>\n",
       "    <tr>\n",
       "      <th>American Indian/Alaskan Native</th>\n",
       "      <td>4650</td>\n",
       "      <td>542</td>\n",
       "      <td>5192</td>\n",
       "    </tr>\n",
       "    <tr>\n",
       "      <th>Asian</th>\n",
       "      <td>7727</td>\n",
       "      <td>266</td>\n",
       "      <td>7993</td>\n",
       "    </tr>\n",
       "    <tr>\n",
       "      <th>Black</th>\n",
       "      <td>21081</td>\n",
       "      <td>1729</td>\n",
       "      <td>22810</td>\n",
       "    </tr>\n",
       "    <tr>\n",
       "      <th>Hispanic</th>\n",
       "      <td>25664</td>\n",
       "      <td>1443</td>\n",
       "      <td>27107</td>\n",
       "    </tr>\n",
       "    <tr>\n",
       "      <th>Other</th>\n",
       "      <td>10005</td>\n",
       "      <td>886</td>\n",
       "      <td>10891</td>\n",
       "    </tr>\n",
       "    <tr>\n",
       "      <th>White</th>\n",
       "      <td>205329</td>\n",
       "      <td>22395</td>\n",
       "      <td>227724</td>\n",
       "    </tr>\n",
       "    <tr>\n",
       "      <th>All</th>\n",
       "      <td>274456</td>\n",
       "      <td>27261</td>\n",
       "      <td>301717</td>\n",
       "    </tr>\n",
       "  </tbody>\n",
       "</table>\n",
       "</div>"
      ],
      "text/plain": [
       "HeartDisease                        No    Yes     All\n",
       "Race                                                 \n",
       "American Indian/Alaskan Native    4650    542    5192\n",
       "Asian                             7727    266    7993\n",
       "Black                            21081   1729   22810\n",
       "Hispanic                         25664   1443   27107\n",
       "Other                            10005    886   10891\n",
       "White                           205329  22395  227724\n",
       "All                             274456  27261  301717"
      ]
     },
     "execution_count": 33,
     "metadata": {},
     "output_type": "execute_result"
    }
   ],
   "source": [
    "pd.crosstab(data['Race'],data['HeartDisease'],margins=True)"
   ]
  },
  {
   "cell_type": "code",
   "execution_count": 34,
   "id": "152e486f",
   "metadata": {},
   "outputs": [
    {
     "data": {
      "image/png": "[encoded data removed]",
      "text/plain": [
       "<Figure size 864x432 with 1 Axes>"
      ]
     },
     "metadata": {
      "needs_background": "light"
     },
     "output_type": "display_data"
    }
   ],
   "source": [
    "plt.figure(figsize=(12,6))\n",
    "sns.countplot(x='Race',hue='HeartDisease',data=data,order=['White','Hispanic','Black','Other','Asian','American Indian/Alaskan Native'])\n",
    "plt.show()"
   ]
  },
  {
   "cell_type": "markdown",
   "id": "1061d745",
   "metadata": {},
   "source": [
    "### For Diabetic"
   ]
  },
  {
   "cell_type": "code",
   "execution_count": 35,
   "id": "ebeefc88",
   "metadata": {
    "scrolled": true
   },
   "outputs": [
    {
     "data": {
      "text/plain": [
       "No                         251796\n",
       "Yes                         40589\n",
       "No, borderline diabetes      6776\n",
       "Yes (during pregnancy)       2556\n",
       "Name: Diabetic, dtype: int64"
      ]
     },
     "execution_count": 35,
     "metadata": {},
     "output_type": "execute_result"
    }
   ],
   "source": [
    "pd.value_counts(data['Diabetic'])"
   ]
  },
  {
   "cell_type": "code",
   "execution_count": 36,
   "id": "8bd875a3",
   "metadata": {
    "scrolled": true
   },
   "outputs": [
    {
     "data": {
      "text/html": [
       "<div>\n",
       "<style scoped>\n",
       "    .dataframe tbody tr th:only-of-type {\n",
       "        vertical-align: middle;\n",
       "    }\n",
       "\n",
       "    .dataframe tbody tr th {\n",
       "        vertical-align: top;\n",
       "    }\n",
       "\n",
       "    .dataframe thead th {\n",
       "        text-align: right;\n",
       "    }\n",
       "</style>\n",
       "<table border=\"1\" class=\"dataframe\">\n",
       "  <thead>\n",
       "    <tr style=\"text-align: right;\">\n",
       "      <th>HeartDisease</th>\n",
       "      <th>No</th>\n",
       "      <th>Yes</th>\n",
       "      <th>All</th>\n",
       "    </tr>\n",
       "    <tr>\n",
       "      <th>Diabetic</th>\n",
       "      <th></th>\n",
       "      <th></th>\n",
       "      <th></th>\n",
       "    </tr>\n",
       "  </thead>\n",
       "  <tbody>\n",
       "    <tr>\n",
       "      <th>No</th>\n",
       "      <td>234380</td>\n",
       "      <td>17416</td>\n",
       "      <td>251796</td>\n",
       "    </tr>\n",
       "    <tr>\n",
       "      <th>No, borderline diabetes</th>\n",
       "      <td>5987</td>\n",
       "      <td>789</td>\n",
       "      <td>6776</td>\n",
       "    </tr>\n",
       "    <tr>\n",
       "      <th>Yes</th>\n",
       "      <td>31641</td>\n",
       "      <td>8948</td>\n",
       "      <td>40589</td>\n",
       "    </tr>\n",
       "    <tr>\n",
       "      <th>Yes (during pregnancy)</th>\n",
       "      <td>2448</td>\n",
       "      <td>108</td>\n",
       "      <td>2556</td>\n",
       "    </tr>\n",
       "    <tr>\n",
       "      <th>All</th>\n",
       "      <td>274456</td>\n",
       "      <td>27261</td>\n",
       "      <td>301717</td>\n",
       "    </tr>\n",
       "  </tbody>\n",
       "</table>\n",
       "</div>"
      ],
      "text/plain": [
       "HeartDisease                 No    Yes     All\n",
       "Diabetic                                      \n",
       "No                       234380  17416  251796\n",
       "No, borderline diabetes    5987    789    6776\n",
       "Yes                       31641   8948   40589\n",
       "Yes (during pregnancy)     2448    108    2556\n",
       "All                      274456  27261  301717"
      ]
     },
     "execution_count": 36,
     "metadata": {},
     "output_type": "execute_result"
    }
   ],
   "source": [
    "pd.crosstab(data['Diabetic'],data['HeartDisease'],margins=True)"
   ]
  },
  {
   "cell_type": "code",
   "execution_count": 37,
   "id": "99910c5b",
   "metadata": {},
   "outputs": [
    {
     "data": {
      "image/png": "[encoded data removed]",
      "text/plain": [
       "<Figure size 720x432 with 1 Axes>"
      ]
     },
     "metadata": {
      "needs_background": "light"
     },
     "output_type": "display_data"
    }
   ],
   "source": [
    "plt.figure(figsize=(10,6))\n",
    "sns.countplot(x='Diabetic',hue='HeartDisease',data=data,order=['Yes','No'])\n",
    "plt.show()"
   ]
  },
  {
   "cell_type": "markdown",
   "id": "f585a062",
   "metadata": {},
   "source": [
    "### For PhysicalActivity"
   ]
  },
  {
   "cell_type": "code",
   "execution_count": 38,
   "id": "39002751",
   "metadata": {
    "scrolled": true
   },
   "outputs": [
    {
     "data": {
      "text/plain": [
       "Yes    230412\n",
       "No      71305\n",
       "Name: PhysicalActivity, dtype: int64"
      ]
     },
     "execution_count": 38,
     "metadata": {},
     "output_type": "execute_result"
    }
   ],
   "source": [
    "pd.value_counts(data['PhysicalActivity'])"
   ]
  },
  {
   "cell_type": "code",
   "execution_count": 39,
   "id": "62e1c1e4",
   "metadata": {
    "scrolled": false
   },
   "outputs": [
    {
     "data": {
      "text/html": [
       "<div>\n",
       "<style scoped>\n",
       "    .dataframe tbody tr th:only-of-type {\n",
       "        vertical-align: middle;\n",
       "    }\n",
       "\n",
       "    .dataframe tbody tr th {\n",
       "        vertical-align: top;\n",
       "    }\n",
       "\n",
       "    .dataframe thead th {\n",
       "        text-align: right;\n",
       "    }\n",
       "</style>\n",
       "<table border=\"1\" class=\"dataframe\">\n",
       "  <thead>\n",
       "    <tr style=\"text-align: right;\">\n",
       "      <th>HeartDisease</th>\n",
       "      <th>No</th>\n",
       "      <th>Yes</th>\n",
       "      <th>All</th>\n",
       "    </tr>\n",
       "    <tr>\n",
       "      <th>PhysicalActivity</th>\n",
       "      <th></th>\n",
       "      <th></th>\n",
       "      <th></th>\n",
       "    </tr>\n",
       "  </thead>\n",
       "  <tbody>\n",
       "    <tr>\n",
       "      <th>No</th>\n",
       "      <td>61423</td>\n",
       "      <td>9882</td>\n",
       "      <td>71305</td>\n",
       "    </tr>\n",
       "    <tr>\n",
       "      <th>Yes</th>\n",
       "      <td>213033</td>\n",
       "      <td>17379</td>\n",
       "      <td>230412</td>\n",
       "    </tr>\n",
       "    <tr>\n",
       "      <th>All</th>\n",
       "      <td>274456</td>\n",
       "      <td>27261</td>\n",
       "      <td>301717</td>\n",
       "    </tr>\n",
       "  </tbody>\n",
       "</table>\n",
       "</div>"
      ],
      "text/plain": [
       "HeartDisease          No    Yes     All\n",
       "PhysicalActivity                       \n",
       "No                 61423   9882   71305\n",
       "Yes               213033  17379  230412\n",
       "All               274456  27261  301717"
      ]
     },
     "execution_count": 39,
     "metadata": {},
     "output_type": "execute_result"
    }
   ],
   "source": [
    "pd.crosstab(data['PhysicalActivity'],data['HeartDisease'],margins=True)"
   ]
  },
  {
   "cell_type": "code",
   "execution_count": 40,
   "id": "e79936e1",
   "metadata": {},
   "outputs": [
    {
     "data": {
      "image/png": "[encoded data removed]",
      "text/plain": [
       "<Figure size 720x432 with 1 Axes>"
      ]
     },
     "metadata": {
      "needs_background": "light"
     },
     "output_type": "display_data"
    }
   ],
   "source": [
    "plt.figure(figsize=(10,6))\n",
    "sns.countplot(x='PhysicalActivity',hue='HeartDisease',data=data,order=['Yes','No'])\n",
    "plt.show()"
   ]
  },
  {
   "cell_type": "markdown",
   "id": "e0116c4d",
   "metadata": {},
   "source": [
    "### For GenHealth"
   ]
  },
  {
   "cell_type": "code",
   "execution_count": 41,
   "id": "211aade2",
   "metadata": {
    "scrolled": true
   },
   "outputs": [
    {
     "data": {
      "text/plain": [
       "Very good    104796\n",
       "Good          91239\n",
       "Excellent     59737\n",
       "Fair          34659\n",
       "Poor          11286\n",
       "Name: GenHealth, dtype: int64"
      ]
     },
     "execution_count": 41,
     "metadata": {},
     "output_type": "execute_result"
    }
   ],
   "source": [
    "pd.value_counts(data['GenHealth'])"
   ]
  },
  {
   "cell_type": "code",
   "execution_count": 42,
   "id": "ea63de30",
   "metadata": {
    "scrolled": false
   },
   "outputs": [
    {
     "data": {
      "text/html": [
       "<div>\n",
       "<style scoped>\n",
       "    .dataframe tbody tr th:only-of-type {\n",
       "        vertical-align: middle;\n",
       "    }\n",
       "\n",
       "    .dataframe tbody tr th {\n",
       "        vertical-align: top;\n",
       "    }\n",
       "\n",
       "    .dataframe thead th {\n",
       "        text-align: right;\n",
       "    }\n",
       "</style>\n",
       "<table border=\"1\" class=\"dataframe\">\n",
       "  <thead>\n",
       "    <tr style=\"text-align: right;\">\n",
       "      <th>HeartDisease</th>\n",
       "      <th>No</th>\n",
       "      <th>Yes</th>\n",
       "      <th>All</th>\n",
       "    </tr>\n",
       "    <tr>\n",
       "      <th>GenHealth</th>\n",
       "      <th></th>\n",
       "      <th></th>\n",
       "      <th></th>\n",
       "    </tr>\n",
       "  </thead>\n",
       "  <tbody>\n",
       "    <tr>\n",
       "      <th>Excellent</th>\n",
       "      <td>58242</td>\n",
       "      <td>1495</td>\n",
       "      <td>59737</td>\n",
       "    </tr>\n",
       "    <tr>\n",
       "      <th>Fair</th>\n",
       "      <td>27576</td>\n",
       "      <td>7083</td>\n",
       "      <td>34659</td>\n",
       "    </tr>\n",
       "    <tr>\n",
       "      <th>Good</th>\n",
       "      <td>81734</td>\n",
       "      <td>9505</td>\n",
       "      <td>91239</td>\n",
       "    </tr>\n",
       "    <tr>\n",
       "      <th>Poor</th>\n",
       "      <td>7436</td>\n",
       "      <td>3850</td>\n",
       "      <td>11286</td>\n",
       "    </tr>\n",
       "    <tr>\n",
       "      <th>Very good</th>\n",
       "      <td>99468</td>\n",
       "      <td>5328</td>\n",
       "      <td>104796</td>\n",
       "    </tr>\n",
       "    <tr>\n",
       "      <th>All</th>\n",
       "      <td>274456</td>\n",
       "      <td>27261</td>\n",
       "      <td>301717</td>\n",
       "    </tr>\n",
       "  </tbody>\n",
       "</table>\n",
       "</div>"
      ],
      "text/plain": [
       "HeartDisease      No    Yes     All\n",
       "GenHealth                          \n",
       "Excellent      58242   1495   59737\n",
       "Fair           27576   7083   34659\n",
       "Good           81734   9505   91239\n",
       "Poor            7436   3850   11286\n",
       "Very good      99468   5328  104796\n",
       "All           274456  27261  301717"
      ]
     },
     "execution_count": 42,
     "metadata": {},
     "output_type": "execute_result"
    }
   ],
   "source": [
    "pd.crosstab(data['GenHealth'],data['HeartDisease'],margins=True)"
   ]
  },
  {
   "cell_type": "code",
   "execution_count": 43,
   "id": "da9c2271",
   "metadata": {},
   "outputs": [
    {
     "data": {
      "image/png": "[encoded data removed]",
      "text/plain": [
       "<Figure size 864x432 with 1 Axes>"
      ]
     },
     "metadata": {
      "needs_background": "light"
     },
     "output_type": "display_data"
    }
   ],
   "source": [
    "plt.figure(figsize=(12,6))\n",
    "sns.countplot(x='GenHealth',hue='HeartDisease',data=data,order=['Very good','Good','Excellent','Fair','Poor'])\n",
    "plt.show()"
   ]
  },
  {
   "cell_type": "markdown",
   "id": "230e31b5",
   "metadata": {},
   "source": [
    "### For Asthma"
   ]
  },
  {
   "cell_type": "code",
   "execution_count": 44,
   "id": "a4129ee8",
   "metadata": {
    "scrolled": true
   },
   "outputs": [
    {
     "data": {
      "text/plain": [
       "No     259066\n",
       "Yes     42651\n",
       "Name: Asthma, dtype: int64"
      ]
     },
     "execution_count": 44,
     "metadata": {},
     "output_type": "execute_result"
    }
   ],
   "source": [
    "pd.value_counts(data['Asthma'])"
   ]
  },
  {
   "cell_type": "code",
   "execution_count": 45,
   "id": "941d3e9d",
   "metadata": {
    "scrolled": false
   },
   "outputs": [
    {
     "data": {
      "text/html": [
       "<div>\n",
       "<style scoped>\n",
       "    .dataframe tbody tr th:only-of-type {\n",
       "        vertical-align: middle;\n",
       "    }\n",
       "\n",
       "    .dataframe tbody tr th {\n",
       "        vertical-align: top;\n",
       "    }\n",
       "\n",
       "    .dataframe thead th {\n",
       "        text-align: right;\n",
       "    }\n",
       "</style>\n",
       "<table border=\"1\" class=\"dataframe\">\n",
       "  <thead>\n",
       "    <tr style=\"text-align: right;\">\n",
       "      <th>HeartDisease</th>\n",
       "      <th>No</th>\n",
       "      <th>Yes</th>\n",
       "      <th>All</th>\n",
       "    </tr>\n",
       "    <tr>\n",
       "      <th>Asthma</th>\n",
       "      <th></th>\n",
       "      <th></th>\n",
       "      <th></th>\n",
       "    </tr>\n",
       "  </thead>\n",
       "  <tbody>\n",
       "    <tr>\n",
       "      <th>No</th>\n",
       "      <td>236737</td>\n",
       "      <td>22329</td>\n",
       "      <td>259066</td>\n",
       "    </tr>\n",
       "    <tr>\n",
       "      <th>Yes</th>\n",
       "      <td>37719</td>\n",
       "      <td>4932</td>\n",
       "      <td>42651</td>\n",
       "    </tr>\n",
       "    <tr>\n",
       "      <th>All</th>\n",
       "      <td>274456</td>\n",
       "      <td>27261</td>\n",
       "      <td>301717</td>\n",
       "    </tr>\n",
       "  </tbody>\n",
       "</table>\n",
       "</div>"
      ],
      "text/plain": [
       "HeartDisease      No    Yes     All\n",
       "Asthma                             \n",
       "No            236737  22329  259066\n",
       "Yes            37719   4932   42651\n",
       "All           274456  27261  301717"
      ]
     },
     "execution_count": 45,
     "metadata": {},
     "output_type": "execute_result"
    }
   ],
   "source": [
    "pd.crosstab(data['Asthma'],data['HeartDisease'],margins=True)"
   ]
  },
  {
   "cell_type": "code",
   "execution_count": 46,
   "id": "45e64766",
   "metadata": {},
   "outputs": [
    {
     "data": {
      "image/png": "[encoded data removed]",
      "text/plain": [
       "<Figure size 720x432 with 1 Axes>"
      ]
     },
     "metadata": {
      "needs_background": "light"
     },
     "output_type": "display_data"
    }
   ],
   "source": [
    "plt.figure(figsize=(10,6))\n",
    "sns.countplot(x='Asthma',hue='HeartDisease',data=data,order=['Yes','No'])\n",
    "plt.show()"
   ]
  },
  {
   "cell_type": "markdown",
   "id": "add6fd47",
   "metadata": {},
   "source": [
    "### For KidneyDisease"
   ]
  },
  {
   "cell_type": "code",
   "execution_count": 47,
   "id": "2b268bd2",
   "metadata": {
    "scrolled": false
   },
   "outputs": [
    {
     "data": {
      "text/plain": [
       "No     289941\n",
       "Yes     11776\n",
       "Name: KidneyDisease, dtype: int64"
      ]
     },
     "execution_count": 47,
     "metadata": {},
     "output_type": "execute_result"
    }
   ],
   "source": [
    "pd.value_counts(data['KidneyDisease'])"
   ]
  },
  {
   "cell_type": "code",
   "execution_count": 48,
   "id": "429adffd",
   "metadata": {
    "scrolled": false
   },
   "outputs": [
    {
     "data": {
      "text/html": [
       "<div>\n",
       "<style scoped>\n",
       "    .dataframe tbody tr th:only-of-type {\n",
       "        vertical-align: middle;\n",
       "    }\n",
       "\n",
       "    .dataframe tbody tr th {\n",
       "        vertical-align: top;\n",
       "    }\n",
       "\n",
       "    .dataframe thead th {\n",
       "        text-align: right;\n",
       "    }\n",
       "</style>\n",
       "<table border=\"1\" class=\"dataframe\">\n",
       "  <thead>\n",
       "    <tr style=\"text-align: right;\">\n",
       "      <th>HeartDisease</th>\n",
       "      <th>No</th>\n",
       "      <th>Yes</th>\n",
       "      <th>All</th>\n",
       "    </tr>\n",
       "    <tr>\n",
       "      <th>KidneyDisease</th>\n",
       "      <th></th>\n",
       "      <th></th>\n",
       "      <th></th>\n",
       "    </tr>\n",
       "  </thead>\n",
       "  <tbody>\n",
       "    <tr>\n",
       "      <th>No</th>\n",
       "      <td>266134</td>\n",
       "      <td>23807</td>\n",
       "      <td>289941</td>\n",
       "    </tr>\n",
       "    <tr>\n",
       "      <th>Yes</th>\n",
       "      <td>8322</td>\n",
       "      <td>3454</td>\n",
       "      <td>11776</td>\n",
       "    </tr>\n",
       "    <tr>\n",
       "      <th>All</th>\n",
       "      <td>274456</td>\n",
       "      <td>27261</td>\n",
       "      <td>301717</td>\n",
       "    </tr>\n",
       "  </tbody>\n",
       "</table>\n",
       "</div>"
      ],
      "text/plain": [
       "HeartDisease       No    Yes     All\n",
       "KidneyDisease                       \n",
       "No             266134  23807  289941\n",
       "Yes              8322   3454   11776\n",
       "All            274456  27261  301717"
      ]
     },
     "execution_count": 48,
     "metadata": {},
     "output_type": "execute_result"
    }
   ],
   "source": [
    "pd.crosstab(data['KidneyDisease'],data['HeartDisease'],margins=True)"
   ]
  },
  {
   "cell_type": "code",
   "execution_count": 49,
   "id": "8978ac21",
   "metadata": {},
   "outputs": [
    {
     "data": {
      "image/png": "[encoded data removed]",
      "text/plain": [
       "<Figure size 720x432 with 1 Axes>"
      ]
     },
     "metadata": {
      "needs_background": "light"
     },
     "output_type": "display_data"
    }
   ],
   "source": [
    "plt.figure(figsize=(10,6))\n",
    "sns.countplot(x='DiffWalking',hue='KidneyDisease',data=data,order=['Yes','No'])\n",
    "plt.show()"
   ]
  },
  {
   "cell_type": "markdown",
   "id": "f5503f38",
   "metadata": {},
   "source": [
    "### For SkinCancer"
   ]
  },
  {
   "cell_type": "code",
   "execution_count": 50,
   "id": "86ec7887",
   "metadata": {
    "scrolled": true
   },
   "outputs": [
    {
     "data": {
      "text/plain": [
       "No     272425\n",
       "Yes     29292\n",
       "Name: SkinCancer, dtype: int64"
      ]
     },
     "execution_count": 50,
     "metadata": {},
     "output_type": "execute_result"
    }
   ],
   "source": [
    "pd.value_counts(data['SkinCancer'])"
   ]
  },
  {
   "cell_type": "code",
   "execution_count": 51,
   "id": "766f43b0",
   "metadata": {
    "scrolled": false
   },
   "outputs": [
    {
     "data": {
      "text/html": [
       "<div>\n",
       "<style scoped>\n",
       "    .dataframe tbody tr th:only-of-type {\n",
       "        vertical-align: middle;\n",
       "    }\n",
       "\n",
       "    .dataframe tbody tr th {\n",
       "        vertical-align: top;\n",
       "    }\n",
       "\n",
       "    .dataframe thead th {\n",
       "        text-align: right;\n",
       "    }\n",
       "</style>\n",
       "<table border=\"1\" class=\"dataframe\">\n",
       "  <thead>\n",
       "    <tr style=\"text-align: right;\">\n",
       "      <th>HeartDisease</th>\n",
       "      <th>No</th>\n",
       "      <th>Yes</th>\n",
       "      <th>All</th>\n",
       "    </tr>\n",
       "    <tr>\n",
       "      <th>SkinCancer</th>\n",
       "      <th></th>\n",
       "      <th></th>\n",
       "      <th></th>\n",
       "    </tr>\n",
       "  </thead>\n",
       "  <tbody>\n",
       "    <tr>\n",
       "      <th>No</th>\n",
       "      <td>250132</td>\n",
       "      <td>22293</td>\n",
       "      <td>272425</td>\n",
       "    </tr>\n",
       "    <tr>\n",
       "      <th>Yes</th>\n",
       "      <td>24324</td>\n",
       "      <td>4968</td>\n",
       "      <td>29292</td>\n",
       "    </tr>\n",
       "    <tr>\n",
       "      <th>All</th>\n",
       "      <td>274456</td>\n",
       "      <td>27261</td>\n",
       "      <td>301717</td>\n",
       "    </tr>\n",
       "  </tbody>\n",
       "</table>\n",
       "</div>"
      ],
      "text/plain": [
       "HeartDisease      No    Yes     All\n",
       "SkinCancer                         \n",
       "No            250132  22293  272425\n",
       "Yes            24324   4968   29292\n",
       "All           274456  27261  301717"
      ]
     },
     "execution_count": 51,
     "metadata": {},
     "output_type": "execute_result"
    }
   ],
   "source": [
    "pd.crosstab(data['SkinCancer'],data['HeartDisease'],margins=True)"
   ]
  },
  {
   "cell_type": "code",
   "execution_count": 52,
   "id": "dad2a65b",
   "metadata": {},
   "outputs": [
    {
     "data": {
      "image/png": "[encoded data removed]",
      "text/plain": [
       "<Figure size 720x432 with 1 Axes>"
      ]
     },
     "metadata": {
      "needs_background": "light"
     },
     "output_type": "display_data"
    }
   ],
   "source": [
    "plt.figure(figsize=(10,6))\n",
    "sns.countplot(x='SkinCancer',hue='HeartDisease',data=data,order=['Yes','No'])\n",
    "plt.show()"
   ]
  },
  {
   "cell_type": "markdown",
   "id": "e2143676",
   "metadata": {},
   "source": [
    "## 7. Distribution of input variables"
   ]
  },
  {
   "cell_type": "code",
   "execution_count": 53,
   "id": "04d7e955",
   "metadata": {},
   "outputs": [
    {
     "data": {
      "text/plain": [
       "HeartDisease         object\n",
       "BMI                 float64\n",
       "Smoking              object\n",
       "AlcoholDrinking      object\n",
       "Stroke               object\n",
       "PhysicalHealth      float64\n",
       "MentalHealth        float64\n",
       "DiffWalking          object\n",
       "Sex                  object\n",
       "AgeCategory          object\n",
       "Race                 object\n",
       "Diabetic             object\n",
       "PhysicalActivity     object\n",
       "GenHealth            object\n",
       "SleepTime           float64\n",
       "Asthma               object\n",
       "KidneyDisease        object\n",
       "SkinCancer           object\n",
       "dtype: object"
      ]
     },
     "execution_count": 53,
     "metadata": {},
     "output_type": "execute_result"
    }
   ],
   "source": [
    "data.dtypes"
   ]
  },
  {
   "cell_type": "code",
   "execution_count": 54,
   "id": "b747c5bd",
   "metadata": {},
   "outputs": [
    {
     "data": {
      "image/png": "[encoded data removed]",
      "text/plain": [
       "<Figure size 432x288 with 1 Axes>"
      ]
     },
     "metadata": {
      "needs_background": "light"
     },
     "output_type": "display_data"
    }
   ],
   "source": [
    "sns.distplot(a=data['BMI'],hist=False)\n",
    "plt.show()"
   ]
  },
  {
   "cell_type": "code",
   "execution_count": 55,
   "id": "e384c79a",
   "metadata": {},
   "outputs": [
    {
     "data": {
      "image/png": "[encoded data removed]",
      "text/plain": [
       "<Figure size 432x288 with 1 Axes>"
      ]
     },
     "metadata": {
      "needs_background": "light"
     },
     "output_type": "display_data"
    }
   ],
   "source": [
    "sns.distplot(a=data['PhysicalHealth'],hist=False)\n",
    "plt.show()"
   ]
  },
  {
   "cell_type": "code",
   "execution_count": 56,
   "id": "c1bae952",
   "metadata": {},
   "outputs": [
    {
     "data": {
      "image/png": "[encoded data removed]",
      "text/plain": [
       "<Figure size 432x288 with 1 Axes>"
      ]
     },
     "metadata": {
      "needs_background": "light"
     },
     "output_type": "display_data"
    }
   ],
   "source": [
    "sns.distplot(a=data['MentalHealth'],hist=False)\n",
    "plt.show()"
   ]
  },
  {
   "cell_type": "code",
   "execution_count": 57,
   "id": "3333b95a",
   "metadata": {},
   "outputs": [
    {
     "data": {
      "image/png": "[encoded data removed]",
      "text/plain": [
       "<Figure size 432x288 with 1 Axes>"
      ]
     },
     "metadata": {
      "needs_background": "light"
     },
     "output_type": "display_data"
    }
   ],
   "source": [
    "sns.distplot(a=data['SleepTime'],hist=False)\n",
    "plt.show()"
   ]
  },
  {
   "cell_type": "markdown",
   "id": "f5824a21",
   "metadata": {},
   "source": [
    "## 8. Finding Outliers"
   ]
  },
  {
   "cell_type": "code",
   "execution_count": 58,
   "id": "49571bba",
   "metadata": {},
   "outputs": [
    {
     "data": {
      "text/html": [
       "<div>\n",
       "<style scoped>\n",
       "    .dataframe tbody tr th:only-of-type {\n",
       "        vertical-align: middle;\n",
       "    }\n",
       "\n",
       "    .dataframe tbody tr th {\n",
       "        vertical-align: top;\n",
       "    }\n",
       "\n",
       "    .dataframe thead th {\n",
       "        text-align: right;\n",
       "    }\n",
       "</style>\n",
       "<table border=\"1\" class=\"dataframe\">\n",
       "  <thead>\n",
       "    <tr style=\"text-align: right;\">\n",
       "      <th></th>\n",
       "      <th>BMI</th>\n",
       "      <th>PhysicalHealth</th>\n",
       "      <th>MentalHealth</th>\n",
       "      <th>SleepTime</th>\n",
       "    </tr>\n",
       "  </thead>\n",
       "  <tbody>\n",
       "    <tr>\n",
       "      <th>count</th>\n",
       "      <td>301717.000000</td>\n",
       "      <td>301717.000000</td>\n",
       "      <td>301717.000000</td>\n",
       "      <td>301717.000000</td>\n",
       "    </tr>\n",
       "    <tr>\n",
       "      <th>mean</th>\n",
       "      <td>28.441970</td>\n",
       "      <td>3.572298</td>\n",
       "      <td>4.121475</td>\n",
       "      <td>7.084559</td>\n",
       "    </tr>\n",
       "    <tr>\n",
       "      <th>std</th>\n",
       "      <td>6.468134</td>\n",
       "      <td>8.140656</td>\n",
       "      <td>8.128288</td>\n",
       "      <td>1.467122</td>\n",
       "    </tr>\n",
       "    <tr>\n",
       "      <th>min</th>\n",
       "      <td>12.020000</td>\n",
       "      <td>0.000000</td>\n",
       "      <td>0.000000</td>\n",
       "      <td>1.000000</td>\n",
       "    </tr>\n",
       "    <tr>\n",
       "      <th>25%</th>\n",
       "      <td>24.030000</td>\n",
       "      <td>0.000000</td>\n",
       "      <td>0.000000</td>\n",
       "      <td>6.000000</td>\n",
       "    </tr>\n",
       "    <tr>\n",
       "      <th>50%</th>\n",
       "      <td>27.410000</td>\n",
       "      <td>0.000000</td>\n",
       "      <td>0.000000</td>\n",
       "      <td>7.000000</td>\n",
       "    </tr>\n",
       "    <tr>\n",
       "      <th>75%</th>\n",
       "      <td>31.650000</td>\n",
       "      <td>2.000000</td>\n",
       "      <td>4.000000</td>\n",
       "      <td>8.000000</td>\n",
       "    </tr>\n",
       "    <tr>\n",
       "      <th>max</th>\n",
       "      <td>94.850000</td>\n",
       "      <td>30.000000</td>\n",
       "      <td>30.000000</td>\n",
       "      <td>24.000000</td>\n",
       "    </tr>\n",
       "  </tbody>\n",
       "</table>\n",
       "</div>"
      ],
      "text/plain": [
       "                 BMI  PhysicalHealth   MentalHealth      SleepTime\n",
       "count  301717.000000   301717.000000  301717.000000  301717.000000\n",
       "mean       28.441970        3.572298       4.121475       7.084559\n",
       "std         6.468134        8.140656       8.128288       1.467122\n",
       "min        12.020000        0.000000       0.000000       1.000000\n",
       "25%        24.030000        0.000000       0.000000       6.000000\n",
       "50%        27.410000        0.000000       0.000000       7.000000\n",
       "75%        31.650000        2.000000       4.000000       8.000000\n",
       "max        94.850000       30.000000      30.000000      24.000000"
      ]
     },
     "execution_count": 58,
     "metadata": {},
     "output_type": "execute_result"
    }
   ],
   "source": [
    "data.describe()"
   ]
  },
  {
   "cell_type": "code",
   "execution_count": 59,
   "id": "35b82cd9",
   "metadata": {},
   "outputs": [
    {
     "data": {
      "image/png": "[encoded data removed]",
      "text/plain": [
       "<Figure size 432x288 with 1 Axes>"
      ]
     },
     "metadata": {
      "needs_background": "light"
     },
     "output_type": "display_data"
    }
   ],
   "source": [
    "sns.boxplot(data=data['BMI'])\n",
    "plt.show()"
   ]
  },
  {
   "cell_type": "code",
   "execution_count": 60,
   "id": "3c7150be",
   "metadata": {},
   "outputs": [
    {
     "data": {
      "image/png": "[encoded data removed]",
      "text/plain": [
       "<Figure size 432x288 with 1 Axes>"
      ]
     },
     "metadata": {
      "needs_background": "light"
     },
     "output_type": "display_data"
    }
   ],
   "source": [
    "sns.boxplot(data=data['PhysicalHealth'])\n",
    "plt.show()"
   ]
  },
  {
   "cell_type": "code",
   "execution_count": 61,
   "id": "540992a7",
   "metadata": {},
   "outputs": [
    {
     "data": {
      "image/png": "[encoded data removed]",
      "text/plain": [
       "<Figure size 432x288 with 1 Axes>"
      ]
     },
     "metadata": {
      "needs_background": "light"
     },
     "output_type": "display_data"
    }
   ],
   "source": [
    "sns.boxplot(data=data['MentalHealth'])\n",
    "plt.show()"
   ]
  },
  {
   "cell_type": "code",
   "execution_count": 62,
   "id": "421eba3c",
   "metadata": {},
   "outputs": [
    {
     "data": {
      "image/png": "[encoded data removed]",
      "text/plain": [
       "<Figure size 432x288 with 1 Axes>"
      ]
     },
     "metadata": {
      "needs_background": "light"
     },
     "output_type": "display_data"
    }
   ],
   "source": [
    "sns.boxplot(data=data['SleepTime'])\n",
    "plt.show()"
   ]
  },
  {
   "cell_type": "code",
   "execution_count": 63,
   "id": "1b473a5b",
   "metadata": {},
   "outputs": [],
   "source": [
    "def finding_outliers(data):\n",
    "    Q1 = data.quantile(0.25)\n",
    "    Q3 = data.quantile(0.75)\n",
    "    IQR = Q3 - Q1\n",
    "    outliers = data[((data<(Q1-1.5*IQR)) | (data>(Q3+1.5*IQR)))]\n",
    "    return outliers\n"
   ]
  },
  {
   "cell_type": "code",
   "execution_count": 64,
   "id": "df0189b2",
   "metadata": {},
   "outputs": [
    {
     "data": {
      "text/html": [
       "<div>\n",
       "<style scoped>\n",
       "    .dataframe tbody tr th:only-of-type {\n",
       "        vertical-align: middle;\n",
       "    }\n",
       "\n",
       "    .dataframe tbody tr th {\n",
       "        vertical-align: top;\n",
       "    }\n",
       "\n",
       "    .dataframe thead th {\n",
       "        text-align: right;\n",
       "    }\n",
       "</style>\n",
       "<table border=\"1\" class=\"dataframe\">\n",
       "  <thead>\n",
       "    <tr style=\"text-align: right;\">\n",
       "      <th></th>\n",
       "      <th>HeartDisease</th>\n",
       "      <th>BMI</th>\n",
       "      <th>Smoking</th>\n",
       "      <th>AlcoholDrinking</th>\n",
       "      <th>Stroke</th>\n",
       "      <th>PhysicalHealth</th>\n",
       "      <th>MentalHealth</th>\n",
       "      <th>DiffWalking</th>\n",
       "      <th>Sex</th>\n",
       "      <th>AgeCategory</th>\n",
       "      <th>Race</th>\n",
       "      <th>Diabetic</th>\n",
       "      <th>PhysicalActivity</th>\n",
       "      <th>GenHealth</th>\n",
       "      <th>SleepTime</th>\n",
       "      <th>Asthma</th>\n",
       "      <th>KidneyDisease</th>\n",
       "      <th>SkinCancer</th>\n",
       "    </tr>\n",
       "  </thead>\n",
       "  <tbody>\n",
       "    <tr>\n",
       "      <th>0</th>\n",
       "      <td>NaN</td>\n",
       "      <td>NaN</td>\n",
       "      <td>NaN</td>\n",
       "      <td>NaN</td>\n",
       "      <td>NaN</td>\n",
       "      <td>NaN</td>\n",
       "      <td>30.0</td>\n",
       "      <td>NaN</td>\n",
       "      <td>NaN</td>\n",
       "      <td>NaN</td>\n",
       "      <td>NaN</td>\n",
       "      <td>NaN</td>\n",
       "      <td>NaN</td>\n",
       "      <td>NaN</td>\n",
       "      <td>NaN</td>\n",
       "      <td>NaN</td>\n",
       "      <td>NaN</td>\n",
       "      <td>NaN</td>\n",
       "    </tr>\n",
       "    <tr>\n",
       "      <th>1</th>\n",
       "      <td>NaN</td>\n",
       "      <td>NaN</td>\n",
       "      <td>NaN</td>\n",
       "      <td>NaN</td>\n",
       "      <td>NaN</td>\n",
       "      <td>NaN</td>\n",
       "      <td>NaN</td>\n",
       "      <td>NaN</td>\n",
       "      <td>NaN</td>\n",
       "      <td>NaN</td>\n",
       "      <td>NaN</td>\n",
       "      <td>NaN</td>\n",
       "      <td>NaN</td>\n",
       "      <td>NaN</td>\n",
       "      <td>NaN</td>\n",
       "      <td>NaN</td>\n",
       "      <td>NaN</td>\n",
       "      <td>NaN</td>\n",
       "    </tr>\n",
       "    <tr>\n",
       "      <th>2</th>\n",
       "      <td>NaN</td>\n",
       "      <td>NaN</td>\n",
       "      <td>NaN</td>\n",
       "      <td>NaN</td>\n",
       "      <td>NaN</td>\n",
       "      <td>20.0</td>\n",
       "      <td>30.0</td>\n",
       "      <td>NaN</td>\n",
       "      <td>NaN</td>\n",
       "      <td>NaN</td>\n",
       "      <td>NaN</td>\n",
       "      <td>NaN</td>\n",
       "      <td>NaN</td>\n",
       "      <td>NaN</td>\n",
       "      <td>NaN</td>\n",
       "      <td>NaN</td>\n",
       "      <td>NaN</td>\n",
       "      <td>NaN</td>\n",
       "    </tr>\n",
       "    <tr>\n",
       "      <th>3</th>\n",
       "      <td>NaN</td>\n",
       "      <td>NaN</td>\n",
       "      <td>NaN</td>\n",
       "      <td>NaN</td>\n",
       "      <td>NaN</td>\n",
       "      <td>NaN</td>\n",
       "      <td>NaN</td>\n",
       "      <td>NaN</td>\n",
       "      <td>NaN</td>\n",
       "      <td>NaN</td>\n",
       "      <td>NaN</td>\n",
       "      <td>NaN</td>\n",
       "      <td>NaN</td>\n",
       "      <td>NaN</td>\n",
       "      <td>NaN</td>\n",
       "      <td>NaN</td>\n",
       "      <td>NaN</td>\n",
       "      <td>NaN</td>\n",
       "    </tr>\n",
       "    <tr>\n",
       "      <th>4</th>\n",
       "      <td>NaN</td>\n",
       "      <td>NaN</td>\n",
       "      <td>NaN</td>\n",
       "      <td>NaN</td>\n",
       "      <td>NaN</td>\n",
       "      <td>28.0</td>\n",
       "      <td>NaN</td>\n",
       "      <td>NaN</td>\n",
       "      <td>NaN</td>\n",
       "      <td>NaN</td>\n",
       "      <td>NaN</td>\n",
       "      <td>NaN</td>\n",
       "      <td>NaN</td>\n",
       "      <td>NaN</td>\n",
       "      <td>NaN</td>\n",
       "      <td>NaN</td>\n",
       "      <td>NaN</td>\n",
       "      <td>NaN</td>\n",
       "    </tr>\n",
       "    <tr>\n",
       "      <th>...</th>\n",
       "      <td>...</td>\n",
       "      <td>...</td>\n",
       "      <td>...</td>\n",
       "      <td>...</td>\n",
       "      <td>...</td>\n",
       "      <td>...</td>\n",
       "      <td>...</td>\n",
       "      <td>...</td>\n",
       "      <td>...</td>\n",
       "      <td>...</td>\n",
       "      <td>...</td>\n",
       "      <td>...</td>\n",
       "      <td>...</td>\n",
       "      <td>...</td>\n",
       "      <td>...</td>\n",
       "      <td>...</td>\n",
       "      <td>...</td>\n",
       "      <td>...</td>\n",
       "    </tr>\n",
       "    <tr>\n",
       "      <th>319790</th>\n",
       "      <td>NaN</td>\n",
       "      <td>NaN</td>\n",
       "      <td>NaN</td>\n",
       "      <td>NaN</td>\n",
       "      <td>NaN</td>\n",
       "      <td>7.0</td>\n",
       "      <td>NaN</td>\n",
       "      <td>NaN</td>\n",
       "      <td>NaN</td>\n",
       "      <td>NaN</td>\n",
       "      <td>NaN</td>\n",
       "      <td>NaN</td>\n",
       "      <td>NaN</td>\n",
       "      <td>NaN</td>\n",
       "      <td>NaN</td>\n",
       "      <td>NaN</td>\n",
       "      <td>NaN</td>\n",
       "      <td>NaN</td>\n",
       "    </tr>\n",
       "    <tr>\n",
       "      <th>319791</th>\n",
       "      <td>NaN</td>\n",
       "      <td>NaN</td>\n",
       "      <td>NaN</td>\n",
       "      <td>NaN</td>\n",
       "      <td>NaN</td>\n",
       "      <td>NaN</td>\n",
       "      <td>NaN</td>\n",
       "      <td>NaN</td>\n",
       "      <td>NaN</td>\n",
       "      <td>NaN</td>\n",
       "      <td>NaN</td>\n",
       "      <td>NaN</td>\n",
       "      <td>NaN</td>\n",
       "      <td>NaN</td>\n",
       "      <td>NaN</td>\n",
       "      <td>NaN</td>\n",
       "      <td>NaN</td>\n",
       "      <td>NaN</td>\n",
       "    </tr>\n",
       "    <tr>\n",
       "      <th>319792</th>\n",
       "      <td>NaN</td>\n",
       "      <td>NaN</td>\n",
       "      <td>NaN</td>\n",
       "      <td>NaN</td>\n",
       "      <td>NaN</td>\n",
       "      <td>NaN</td>\n",
       "      <td>NaN</td>\n",
       "      <td>NaN</td>\n",
       "      <td>NaN</td>\n",
       "      <td>NaN</td>\n",
       "      <td>NaN</td>\n",
       "      <td>NaN</td>\n",
       "      <td>NaN</td>\n",
       "      <td>NaN</td>\n",
       "      <td>NaN</td>\n",
       "      <td>NaN</td>\n",
       "      <td>NaN</td>\n",
       "      <td>NaN</td>\n",
       "    </tr>\n",
       "    <tr>\n",
       "      <th>319793</th>\n",
       "      <td>NaN</td>\n",
       "      <td>NaN</td>\n",
       "      <td>NaN</td>\n",
       "      <td>NaN</td>\n",
       "      <td>NaN</td>\n",
       "      <td>NaN</td>\n",
       "      <td>NaN</td>\n",
       "      <td>NaN</td>\n",
       "      <td>NaN</td>\n",
       "      <td>NaN</td>\n",
       "      <td>NaN</td>\n",
       "      <td>NaN</td>\n",
       "      <td>NaN</td>\n",
       "      <td>NaN</td>\n",
       "      <td>12.0</td>\n",
       "      <td>NaN</td>\n",
       "      <td>NaN</td>\n",
       "      <td>NaN</td>\n",
       "    </tr>\n",
       "    <tr>\n",
       "      <th>319794</th>\n",
       "      <td>NaN</td>\n",
       "      <td>46.56</td>\n",
       "      <td>NaN</td>\n",
       "      <td>NaN</td>\n",
       "      <td>NaN</td>\n",
       "      <td>NaN</td>\n",
       "      <td>NaN</td>\n",
       "      <td>NaN</td>\n",
       "      <td>NaN</td>\n",
       "      <td>NaN</td>\n",
       "      <td>NaN</td>\n",
       "      <td>NaN</td>\n",
       "      <td>NaN</td>\n",
       "      <td>NaN</td>\n",
       "      <td>NaN</td>\n",
       "      <td>NaN</td>\n",
       "      <td>NaN</td>\n",
       "      <td>NaN</td>\n",
       "    </tr>\n",
       "  </tbody>\n",
       "</table>\n",
       "<p>301717 rows × 18 columns</p>\n",
       "</div>"
      ],
      "text/plain": [
       "       HeartDisease    BMI Smoking AlcoholDrinking Stroke  PhysicalHealth  \\\n",
       "0               NaN    NaN     NaN             NaN    NaN             NaN   \n",
       "1               NaN    NaN     NaN             NaN    NaN             NaN   \n",
       "2               NaN    NaN     NaN             NaN    NaN            20.0   \n",
       "3               NaN    NaN     NaN             NaN    NaN             NaN   \n",
       "4               NaN    NaN     NaN             NaN    NaN            28.0   \n",
       "...             ...    ...     ...             ...    ...             ...   \n",
       "319790          NaN    NaN     NaN             NaN    NaN             7.0   \n",
       "319791          NaN    NaN     NaN             NaN    NaN             NaN   \n",
       "319792          NaN    NaN     NaN             NaN    NaN             NaN   \n",
       "319793          NaN    NaN     NaN             NaN    NaN             NaN   \n",
       "319794          NaN  46.56     NaN             NaN    NaN             NaN   \n",
       "\n",
       "        MentalHealth DiffWalking  Sex AgeCategory Race Diabetic  \\\n",
       "0               30.0         NaN  NaN         NaN  NaN      NaN   \n",
       "1                NaN         NaN  NaN         NaN  NaN      NaN   \n",
       "2               30.0         NaN  NaN         NaN  NaN      NaN   \n",
       "3                NaN         NaN  NaN         NaN  NaN      NaN   \n",
       "4                NaN         NaN  NaN         NaN  NaN      NaN   \n",
       "...              ...         ...  ...         ...  ...      ...   \n",
       "319790           NaN         NaN  NaN         NaN  NaN      NaN   \n",
       "319791           NaN         NaN  NaN         NaN  NaN      NaN   \n",
       "319792           NaN         NaN  NaN         NaN  NaN      NaN   \n",
       "319793           NaN         NaN  NaN         NaN  NaN      NaN   \n",
       "319794           NaN         NaN  NaN         NaN  NaN      NaN   \n",
       "\n",
       "       PhysicalActivity GenHealth  SleepTime Asthma KidneyDisease SkinCancer  \n",
       "0                   NaN       NaN        NaN    NaN           NaN        NaN  \n",
       "1                   NaN       NaN        NaN    NaN           NaN        NaN  \n",
       "2                   NaN       NaN        NaN    NaN           NaN        NaN  \n",
       "3                   NaN       NaN        NaN    NaN           NaN        NaN  \n",
       "4                   NaN       NaN        NaN    NaN           NaN        NaN  \n",
       "...                 ...       ...        ...    ...           ...        ...  \n",
       "319790              NaN       NaN        NaN    NaN           NaN        NaN  \n",
       "319791              NaN       NaN        NaN    NaN           NaN        NaN  \n",
       "319792              NaN       NaN        NaN    NaN           NaN        NaN  \n",
       "319793              NaN       NaN       12.0    NaN           NaN        NaN  \n",
       "319794              NaN       NaN        NaN    NaN           NaN        NaN  \n",
       "\n",
       "[301717 rows x 18 columns]"
      ]
     },
     "execution_count": 64,
     "metadata": {},
     "output_type": "execute_result"
    }
   ],
   "source": [
    "outliers = finding_outliers(data)\n",
    "outliers"
   ]
  },
  {
   "cell_type": "code",
   "execution_count": 65,
   "id": "6d6239cb",
   "metadata": {},
   "outputs": [],
   "source": [
    "def drop_outliers(data):\n",
    "    Q1 = data.quantile(0.25)\n",
    "    Q3 = data.quantile(0.75)\n",
    "    IQR = Q3 - Q1\n",
    "    not_outliers = data[~((data<(Q1-1.5*IQR)) | (data>(Q3+1.5*IQR)))]\n",
    "    outliers_droped = not_outliers.dropna().reset_index()\n",
    "    return outliers_droped\n",
    "    "
   ]
  },
  {
   "cell_type": "code",
   "execution_count": 66,
   "id": "7b4ae04e",
   "metadata": {
    "scrolled": false
   },
   "outputs": [
    {
     "data": {
      "text/html": [
       "<div>\n",
       "<style scoped>\n",
       "    .dataframe tbody tr th:only-of-type {\n",
       "        vertical-align: middle;\n",
       "    }\n",
       "\n",
       "    .dataframe tbody tr th {\n",
       "        vertical-align: top;\n",
       "    }\n",
       "\n",
       "    .dataframe thead th {\n",
       "        text-align: right;\n",
       "    }\n",
       "</style>\n",
       "<table border=\"1\" class=\"dataframe\">\n",
       "  <thead>\n",
       "    <tr style=\"text-align: right;\">\n",
       "      <th></th>\n",
       "      <th>index</th>\n",
       "      <th>HeartDisease</th>\n",
       "      <th>BMI</th>\n",
       "      <th>Smoking</th>\n",
       "      <th>AlcoholDrinking</th>\n",
       "      <th>Stroke</th>\n",
       "      <th>PhysicalHealth</th>\n",
       "      <th>MentalHealth</th>\n",
       "      <th>DiffWalking</th>\n",
       "      <th>Sex</th>\n",
       "      <th>AgeCategory</th>\n",
       "      <th>Race</th>\n",
       "      <th>Diabetic</th>\n",
       "      <th>PhysicalActivity</th>\n",
       "      <th>GenHealth</th>\n",
       "      <th>SleepTime</th>\n",
       "      <th>Asthma</th>\n",
       "      <th>KidneyDisease</th>\n",
       "      <th>SkinCancer</th>\n",
       "    </tr>\n",
       "  </thead>\n",
       "  <tbody>\n",
       "    <tr>\n",
       "      <th>0</th>\n",
       "      <td>1</td>\n",
       "      <td>No</td>\n",
       "      <td>20.34</td>\n",
       "      <td>No</td>\n",
       "      <td>No</td>\n",
       "      <td>Yes</td>\n",
       "      <td>0.0</td>\n",
       "      <td>0.0</td>\n",
       "      <td>No</td>\n",
       "      <td>Female</td>\n",
       "      <td>80 or older</td>\n",
       "      <td>White</td>\n",
       "      <td>No</td>\n",
       "      <td>Yes</td>\n",
       "      <td>Very good</td>\n",
       "      <td>7.0</td>\n",
       "      <td>No</td>\n",
       "      <td>No</td>\n",
       "      <td>No</td>\n",
       "    </tr>\n",
       "    <tr>\n",
       "      <th>1</th>\n",
       "      <td>3</td>\n",
       "      <td>No</td>\n",
       "      <td>24.21</td>\n",
       "      <td>No</td>\n",
       "      <td>No</td>\n",
       "      <td>No</td>\n",
       "      <td>0.0</td>\n",
       "      <td>0.0</td>\n",
       "      <td>No</td>\n",
       "      <td>Female</td>\n",
       "      <td>75-79</td>\n",
       "      <td>White</td>\n",
       "      <td>No</td>\n",
       "      <td>No</td>\n",
       "      <td>Good</td>\n",
       "      <td>6.0</td>\n",
       "      <td>No</td>\n",
       "      <td>No</td>\n",
       "      <td>Yes</td>\n",
       "    </tr>\n",
       "    <tr>\n",
       "      <th>2</th>\n",
       "      <td>7</td>\n",
       "      <td>No</td>\n",
       "      <td>31.64</td>\n",
       "      <td>Yes</td>\n",
       "      <td>No</td>\n",
       "      <td>No</td>\n",
       "      <td>5.0</td>\n",
       "      <td>0.0</td>\n",
       "      <td>Yes</td>\n",
       "      <td>Female</td>\n",
       "      <td>80 or older</td>\n",
       "      <td>White</td>\n",
       "      <td>Yes</td>\n",
       "      <td>No</td>\n",
       "      <td>Good</td>\n",
       "      <td>9.0</td>\n",
       "      <td>Yes</td>\n",
       "      <td>No</td>\n",
       "      <td>No</td>\n",
       "    </tr>\n",
       "    <tr>\n",
       "      <th>3</th>\n",
       "      <td>8</td>\n",
       "      <td>No</td>\n",
       "      <td>26.45</td>\n",
       "      <td>No</td>\n",
       "      <td>No</td>\n",
       "      <td>No</td>\n",
       "      <td>0.0</td>\n",
       "      <td>0.0</td>\n",
       "      <td>No</td>\n",
       "      <td>Female</td>\n",
       "      <td>80 or older</td>\n",
       "      <td>White</td>\n",
       "      <td>No, borderline diabetes</td>\n",
       "      <td>No</td>\n",
       "      <td>Fair</td>\n",
       "      <td>5.0</td>\n",
       "      <td>No</td>\n",
       "      <td>Yes</td>\n",
       "      <td>No</td>\n",
       "    </tr>\n",
       "    <tr>\n",
       "      <th>4</th>\n",
       "      <td>9</td>\n",
       "      <td>No</td>\n",
       "      <td>40.69</td>\n",
       "      <td>No</td>\n",
       "      <td>No</td>\n",
       "      <td>No</td>\n",
       "      <td>0.0</td>\n",
       "      <td>0.0</td>\n",
       "      <td>Yes</td>\n",
       "      <td>Male</td>\n",
       "      <td>65-69</td>\n",
       "      <td>White</td>\n",
       "      <td>No</td>\n",
       "      <td>Yes</td>\n",
       "      <td>Good</td>\n",
       "      <td>10.0</td>\n",
       "      <td>No</td>\n",
       "      <td>No</td>\n",
       "      <td>No</td>\n",
       "    </tr>\n",
       "    <tr>\n",
       "      <th>...</th>\n",
       "      <td>...</td>\n",
       "      <td>...</td>\n",
       "      <td>...</td>\n",
       "      <td>...</td>\n",
       "      <td>...</td>\n",
       "      <td>...</td>\n",
       "      <td>...</td>\n",
       "      <td>...</td>\n",
       "      <td>...</td>\n",
       "      <td>...</td>\n",
       "      <td>...</td>\n",
       "      <td>...</td>\n",
       "      <td>...</td>\n",
       "      <td>...</td>\n",
       "      <td>...</td>\n",
       "      <td>...</td>\n",
       "      <td>...</td>\n",
       "      <td>...</td>\n",
       "      <td>...</td>\n",
       "    </tr>\n",
       "    <tr>\n",
       "      <th>222526</th>\n",
       "      <td>319786</td>\n",
       "      <td>Yes</td>\n",
       "      <td>33.20</td>\n",
       "      <td>Yes</td>\n",
       "      <td>No</td>\n",
       "      <td>No</td>\n",
       "      <td>0.0</td>\n",
       "      <td>0.0</td>\n",
       "      <td>No</td>\n",
       "      <td>Female</td>\n",
       "      <td>60-64</td>\n",
       "      <td>Hispanic</td>\n",
       "      <td>Yes</td>\n",
       "      <td>Yes</td>\n",
       "      <td>Very good</td>\n",
       "      <td>8.0</td>\n",
       "      <td>Yes</td>\n",
       "      <td>No</td>\n",
       "      <td>No</td>\n",
       "    </tr>\n",
       "    <tr>\n",
       "      <th>222527</th>\n",
       "      <td>319788</td>\n",
       "      <td>No</td>\n",
       "      <td>23.38</td>\n",
       "      <td>No</td>\n",
       "      <td>No</td>\n",
       "      <td>No</td>\n",
       "      <td>0.0</td>\n",
       "      <td>0.0</td>\n",
       "      <td>No</td>\n",
       "      <td>Female</td>\n",
       "      <td>60-64</td>\n",
       "      <td>Hispanic</td>\n",
       "      <td>No</td>\n",
       "      <td>Yes</td>\n",
       "      <td>Excellent</td>\n",
       "      <td>6.0</td>\n",
       "      <td>No</td>\n",
       "      <td>No</td>\n",
       "      <td>No</td>\n",
       "    </tr>\n",
       "    <tr>\n",
       "      <th>222528</th>\n",
       "      <td>319789</td>\n",
       "      <td>No</td>\n",
       "      <td>22.22</td>\n",
       "      <td>No</td>\n",
       "      <td>No</td>\n",
       "      <td>No</td>\n",
       "      <td>0.0</td>\n",
       "      <td>0.0</td>\n",
       "      <td>No</td>\n",
       "      <td>Female</td>\n",
       "      <td>18-24</td>\n",
       "      <td>Hispanic</td>\n",
       "      <td>No</td>\n",
       "      <td>Yes</td>\n",
       "      <td>Excellent</td>\n",
       "      <td>8.0</td>\n",
       "      <td>No</td>\n",
       "      <td>No</td>\n",
       "      <td>No</td>\n",
       "    </tr>\n",
       "    <tr>\n",
       "      <th>222529</th>\n",
       "      <td>319791</td>\n",
       "      <td>No</td>\n",
       "      <td>29.84</td>\n",
       "      <td>Yes</td>\n",
       "      <td>No</td>\n",
       "      <td>No</td>\n",
       "      <td>0.0</td>\n",
       "      <td>0.0</td>\n",
       "      <td>No</td>\n",
       "      <td>Male</td>\n",
       "      <td>35-39</td>\n",
       "      <td>Hispanic</td>\n",
       "      <td>No</td>\n",
       "      <td>Yes</td>\n",
       "      <td>Very good</td>\n",
       "      <td>5.0</td>\n",
       "      <td>Yes</td>\n",
       "      <td>No</td>\n",
       "      <td>No</td>\n",
       "    </tr>\n",
       "    <tr>\n",
       "      <th>222530</th>\n",
       "      <td>319792</td>\n",
       "      <td>No</td>\n",
       "      <td>24.24</td>\n",
       "      <td>No</td>\n",
       "      <td>No</td>\n",
       "      <td>No</td>\n",
       "      <td>0.0</td>\n",
       "      <td>0.0</td>\n",
       "      <td>No</td>\n",
       "      <td>Female</td>\n",
       "      <td>45-49</td>\n",
       "      <td>Hispanic</td>\n",
       "      <td>No</td>\n",
       "      <td>Yes</td>\n",
       "      <td>Good</td>\n",
       "      <td>6.0</td>\n",
       "      <td>No</td>\n",
       "      <td>No</td>\n",
       "      <td>No</td>\n",
       "    </tr>\n",
       "  </tbody>\n",
       "</table>\n",
       "<p>222531 rows × 19 columns</p>\n",
       "</div>"
      ],
      "text/plain": [
       "         index HeartDisease    BMI Smoking AlcoholDrinking Stroke  \\\n",
       "0            1           No  20.34      No              No    Yes   \n",
       "1            3           No  24.21      No              No     No   \n",
       "2            7           No  31.64     Yes              No     No   \n",
       "3            8           No  26.45      No              No     No   \n",
       "4            9           No  40.69      No              No     No   \n",
       "...        ...          ...    ...     ...             ...    ...   \n",
       "222526  319786          Yes  33.20     Yes              No     No   \n",
       "222527  319788           No  23.38      No              No     No   \n",
       "222528  319789           No  22.22      No              No     No   \n",
       "222529  319791           No  29.84     Yes              No     No   \n",
       "222530  319792           No  24.24      No              No     No   \n",
       "\n",
       "        PhysicalHealth  MentalHealth DiffWalking     Sex  AgeCategory  \\\n",
       "0                  0.0           0.0          No  Female  80 or older   \n",
       "1                  0.0           0.0          No  Female        75-79   \n",
       "2                  5.0           0.0         Yes  Female  80 or older   \n",
       "3                  0.0           0.0          No  Female  80 or older   \n",
       "4                  0.0           0.0         Yes    Male        65-69   \n",
       "...                ...           ...         ...     ...          ...   \n",
       "222526             0.0           0.0          No  Female        60-64   \n",
       "222527             0.0           0.0          No  Female        60-64   \n",
       "222528             0.0           0.0          No  Female        18-24   \n",
       "222529             0.0           0.0          No    Male        35-39   \n",
       "222530             0.0           0.0          No  Female        45-49   \n",
       "\n",
       "            Race                 Diabetic PhysicalActivity  GenHealth  \\\n",
       "0          White                       No              Yes  Very good   \n",
       "1          White                       No               No       Good   \n",
       "2          White                      Yes               No       Good   \n",
       "3          White  No, borderline diabetes               No       Fair   \n",
       "4          White                       No              Yes       Good   \n",
       "...          ...                      ...              ...        ...   \n",
       "222526  Hispanic                      Yes              Yes  Very good   \n",
       "222527  Hispanic                       No              Yes  Excellent   \n",
       "222528  Hispanic                       No              Yes  Excellent   \n",
       "222529  Hispanic                       No              Yes  Very good   \n",
       "222530  Hispanic                       No              Yes       Good   \n",
       "\n",
       "        SleepTime Asthma KidneyDisease SkinCancer  \n",
       "0             7.0     No            No         No  \n",
       "1             6.0     No            No        Yes  \n",
       "2             9.0    Yes            No         No  \n",
       "3             5.0     No           Yes         No  \n",
       "4            10.0     No            No         No  \n",
       "...           ...    ...           ...        ...  \n",
       "222526        8.0    Yes            No         No  \n",
       "222527        6.0     No            No         No  \n",
       "222528        8.0     No            No         No  \n",
       "222529        5.0    Yes            No         No  \n",
       "222530        6.0     No            No         No  \n",
       "\n",
       "[222531 rows x 19 columns]"
      ]
     },
     "execution_count": 66,
     "metadata": {},
     "output_type": "execute_result"
    }
   ],
   "source": [
    "without_outlier_data = drop_outliers(data)\n",
    "without_outlier_data"
   ]
  },
  {
   "cell_type": "code",
   "execution_count": 67,
   "id": "49f5c028",
   "metadata": {},
   "outputs": [],
   "source": [
    "del without_outlier_data['index']"
   ]
  },
  {
   "cell_type": "code",
   "execution_count": 68,
   "id": "349df8cd",
   "metadata": {},
   "outputs": [],
   "source": [
    "without_outlier_data.to_csv('Heart_Disease_data_without_outliers.csv')"
   ]
  },
  {
   "cell_type": "code",
   "execution_count": 69,
   "id": "8045183e",
   "metadata": {},
   "outputs": [
    {
     "data": {
      "text/plain": [
       "79186"
      ]
     },
     "execution_count": 69,
     "metadata": {},
     "output_type": "execute_result"
    }
   ],
   "source": [
    "301717 -222531"
   ]
  },
  {
   "cell_type": "markdown",
   "id": "19760ea0",
   "metadata": {},
   "source": [
    "If we drop **outliers** then we will miss 79186 observations that means we are droping 25% of our data so we cant drop those many observations also if we drop outliers we will miss the major information about person **BMI** so we will work with data with outliers."
   ]
  },
  {
   "cell_type": "markdown",
   "id": "1704e921",
   "metadata": {},
   "source": [
    "## 8. Cheaking for imbalence "
   ]
  },
  {
   "cell_type": "code",
   "execution_count": 70,
   "id": "62cba7bd",
   "metadata": {},
   "outputs": [
    {
     "data": {
      "text/plain": [
       "(301717, 18)"
      ]
     },
     "execution_count": 70,
     "metadata": {},
     "output_type": "execute_result"
    }
   ],
   "source": [
    "data.shape"
   ]
  },
  {
   "cell_type": "code",
   "execution_count": 71,
   "id": "8d6e6b5a",
   "metadata": {},
   "outputs": [
    {
     "data": {
      "text/plain": [
       "No     274456\n",
       "Yes     27261\n",
       "Name: HeartDisease, dtype: int64"
      ]
     },
     "execution_count": 71,
     "metadata": {},
     "output_type": "execute_result"
    }
   ],
   "source": [
    "pd.value_counts(data['HeartDisease'])"
   ]
  },
  {
   "cell_type": "code",
   "execution_count": 72,
   "id": "ef17995b",
   "metadata": {},
   "outputs": [],
   "source": [
    "le = LabelEncoder()\n",
    "data['HeartDisease'] = le.fit_transform(data['HeartDisease'])"
   ]
  },
  {
   "cell_type": "code",
   "execution_count": 73,
   "id": "e5cff04d",
   "metadata": {},
   "outputs": [
    {
     "data": {
      "image/png": "[encoded data removed]",
      "text/plain": [
       "<Figure size 720x576 with 1 Axes>"
      ]
     },
     "metadata": {},
     "output_type": "display_data"
    }
   ],
   "source": [
    "plt.figure(figsize=(10,8))\n",
    "plt.pie(x=data['HeartDisease'].value_counts(),explode=(0.05,0),autopct='%1.0f%%',labels=['No','Yes'])\n",
    "plt.show()"
   ]
  },
  {
   "cell_type": "markdown",
   "id": "283acfb1",
   "metadata": {},
   "source": [
    "Here we have 274456 observations who dont have Heart disease and only 27261 observations have Heart disease so ita a highly imbalenced data with a proportion of 10:1"
   ]
  },
  {
   "cell_type": "markdown",
   "id": "c2822394",
   "metadata": {},
   "source": [
    "##### Using over_sampling"
   ]
  },
  {
   "cell_type": "code",
   "execution_count": 74,
   "id": "20ba6a7c",
   "metadata": {},
   "outputs": [
    {
     "name": "stdout",
     "output_type": "stream",
     "text": [
      "Class Yes : (27261, 18)\n",
      "Class No  : (274456, 18)\n"
     ]
    }
   ],
   "source": [
    "class_count_yes,class_count_no = data['HeartDisease'].value_counts()\n",
    "class_yes  = data[data['HeartDisease']==1]\n",
    "class_no   = data[data['HeartDisease']==0]\n",
    "print('Class Yes :',class_yes.shape)\n",
    "print('Class No  :',class_no.shape)"
   ]
  },
  {
   "cell_type": "code",
   "execution_count": 75,
   "id": "81134a4c",
   "metadata": {},
   "outputs": [],
   "source": [
    "class_yes_over = class_yes.sample(n=274456,random_state=15,replace=True)\n",
    "final_data = pd.concat([class_yes_over,class_no],axis=0)"
   ]
  },
  {
   "cell_type": "code",
   "execution_count": 76,
   "id": "e845ea01",
   "metadata": {},
   "outputs": [
    {
     "data": {
      "text/plain": [
       "(548912, 18)"
      ]
     },
     "execution_count": 76,
     "metadata": {},
     "output_type": "execute_result"
    }
   ],
   "source": [
    "final_data.shape"
   ]
  },
  {
   "cell_type": "code",
   "execution_count": 77,
   "id": "ba00da4f",
   "metadata": {},
   "outputs": [
    {
     "data": {
      "text/plain": [
       "HeartDisease\n",
       "0    274456\n",
       "1    274456\n",
       "dtype: int64"
      ]
     },
     "execution_count": 77,
     "metadata": {},
     "output_type": "execute_result"
    }
   ],
   "source": [
    "final_data.value_counts(final_data['HeartDisease'])"
   ]
  },
  {
   "cell_type": "code",
   "execution_count": 78,
   "id": "020fe5cb",
   "metadata": {},
   "outputs": [
    {
     "data": {
      "text/html": [
       "<div>\n",
       "<style scoped>\n",
       "    .dataframe tbody tr th:only-of-type {\n",
       "        vertical-align: middle;\n",
       "    }\n",
       "\n",
       "    .dataframe tbody tr th {\n",
       "        vertical-align: top;\n",
       "    }\n",
       "\n",
       "    .dataframe thead th {\n",
       "        text-align: right;\n",
       "    }\n",
       "</style>\n",
       "<table border=\"1\" class=\"dataframe\">\n",
       "  <thead>\n",
       "    <tr style=\"text-align: right;\">\n",
       "      <th></th>\n",
       "      <th>HeartDisease</th>\n",
       "      <th>BMI</th>\n",
       "      <th>Smoking</th>\n",
       "      <th>AlcoholDrinking</th>\n",
       "      <th>Stroke</th>\n",
       "      <th>PhysicalHealth</th>\n",
       "      <th>MentalHealth</th>\n",
       "      <th>DiffWalking</th>\n",
       "      <th>Sex</th>\n",
       "      <th>AgeCategory</th>\n",
       "      <th>Race</th>\n",
       "      <th>Diabetic</th>\n",
       "      <th>PhysicalActivity</th>\n",
       "      <th>GenHealth</th>\n",
       "      <th>SleepTime</th>\n",
       "      <th>Asthma</th>\n",
       "      <th>KidneyDisease</th>\n",
       "      <th>SkinCancer</th>\n",
       "    </tr>\n",
       "  </thead>\n",
       "  <tbody>\n",
       "    <tr>\n",
       "      <th>89800</th>\n",
       "      <td>1</td>\n",
       "      <td>35.31</td>\n",
       "      <td>No</td>\n",
       "      <td>No</td>\n",
       "      <td>No</td>\n",
       "      <td>14.0</td>\n",
       "      <td>0.0</td>\n",
       "      <td>No</td>\n",
       "      <td>Male</td>\n",
       "      <td>70-74</td>\n",
       "      <td>White</td>\n",
       "      <td>No</td>\n",
       "      <td>Yes</td>\n",
       "      <td>Very good</td>\n",
       "      <td>9.0</td>\n",
       "      <td>No</td>\n",
       "      <td>No</td>\n",
       "      <td>Yes</td>\n",
       "    </tr>\n",
       "    <tr>\n",
       "      <th>235744</th>\n",
       "      <td>1</td>\n",
       "      <td>24.33</td>\n",
       "      <td>Yes</td>\n",
       "      <td>No</td>\n",
       "      <td>No</td>\n",
       "      <td>0.0</td>\n",
       "      <td>0.0</td>\n",
       "      <td>No</td>\n",
       "      <td>Male</td>\n",
       "      <td>75-79</td>\n",
       "      <td>White</td>\n",
       "      <td>Yes</td>\n",
       "      <td>Yes</td>\n",
       "      <td>Very good</td>\n",
       "      <td>10.0</td>\n",
       "      <td>No</td>\n",
       "      <td>No</td>\n",
       "      <td>No</td>\n",
       "    </tr>\n",
       "    <tr>\n",
       "      <th>94264</th>\n",
       "      <td>1</td>\n",
       "      <td>30.79</td>\n",
       "      <td>Yes</td>\n",
       "      <td>No</td>\n",
       "      <td>No</td>\n",
       "      <td>4.0</td>\n",
       "      <td>30.0</td>\n",
       "      <td>Yes</td>\n",
       "      <td>Male</td>\n",
       "      <td>55-59</td>\n",
       "      <td>White</td>\n",
       "      <td>No</td>\n",
       "      <td>Yes</td>\n",
       "      <td>Good</td>\n",
       "      <td>6.0</td>\n",
       "      <td>No</td>\n",
       "      <td>No</td>\n",
       "      <td>No</td>\n",
       "    </tr>\n",
       "    <tr>\n",
       "      <th>31764</th>\n",
       "      <td>1</td>\n",
       "      <td>34.44</td>\n",
       "      <td>Yes</td>\n",
       "      <td>No</td>\n",
       "      <td>No</td>\n",
       "      <td>0.0</td>\n",
       "      <td>0.0</td>\n",
       "      <td>No</td>\n",
       "      <td>Male</td>\n",
       "      <td>60-64</td>\n",
       "      <td>White</td>\n",
       "      <td>Yes</td>\n",
       "      <td>Yes</td>\n",
       "      <td>Good</td>\n",
       "      <td>8.0</td>\n",
       "      <td>No</td>\n",
       "      <td>No</td>\n",
       "      <td>No</td>\n",
       "    </tr>\n",
       "    <tr>\n",
       "      <th>189719</th>\n",
       "      <td>1</td>\n",
       "      <td>29.65</td>\n",
       "      <td>Yes</td>\n",
       "      <td>No</td>\n",
       "      <td>No</td>\n",
       "      <td>0.0</td>\n",
       "      <td>0.0</td>\n",
       "      <td>No</td>\n",
       "      <td>Male</td>\n",
       "      <td>55-59</td>\n",
       "      <td>White</td>\n",
       "      <td>No, borderline diabetes</td>\n",
       "      <td>Yes</td>\n",
       "      <td>Good</td>\n",
       "      <td>7.0</td>\n",
       "      <td>No</td>\n",
       "      <td>No</td>\n",
       "      <td>No</td>\n",
       "    </tr>\n",
       "    <tr>\n",
       "      <th>...</th>\n",
       "      <td>...</td>\n",
       "      <td>...</td>\n",
       "      <td>...</td>\n",
       "      <td>...</td>\n",
       "      <td>...</td>\n",
       "      <td>...</td>\n",
       "      <td>...</td>\n",
       "      <td>...</td>\n",
       "      <td>...</td>\n",
       "      <td>...</td>\n",
       "      <td>...</td>\n",
       "      <td>...</td>\n",
       "      <td>...</td>\n",
       "      <td>...</td>\n",
       "      <td>...</td>\n",
       "      <td>...</td>\n",
       "      <td>...</td>\n",
       "      <td>...</td>\n",
       "    </tr>\n",
       "    <tr>\n",
       "      <th>319789</th>\n",
       "      <td>0</td>\n",
       "      <td>22.22</td>\n",
       "      <td>No</td>\n",
       "      <td>No</td>\n",
       "      <td>No</td>\n",
       "      <td>0.0</td>\n",
       "      <td>0.0</td>\n",
       "      <td>No</td>\n",
       "      <td>Female</td>\n",
       "      <td>18-24</td>\n",
       "      <td>Hispanic</td>\n",
       "      <td>No</td>\n",
       "      <td>Yes</td>\n",
       "      <td>Excellent</td>\n",
       "      <td>8.0</td>\n",
       "      <td>No</td>\n",
       "      <td>No</td>\n",
       "      <td>No</td>\n",
       "    </tr>\n",
       "    <tr>\n",
       "      <th>319791</th>\n",
       "      <td>0</td>\n",
       "      <td>29.84</td>\n",
       "      <td>Yes</td>\n",
       "      <td>No</td>\n",
       "      <td>No</td>\n",
       "      <td>0.0</td>\n",
       "      <td>0.0</td>\n",
       "      <td>No</td>\n",
       "      <td>Male</td>\n",
       "      <td>35-39</td>\n",
       "      <td>Hispanic</td>\n",
       "      <td>No</td>\n",
       "      <td>Yes</td>\n",
       "      <td>Very good</td>\n",
       "      <td>5.0</td>\n",
       "      <td>Yes</td>\n",
       "      <td>No</td>\n",
       "      <td>No</td>\n",
       "    </tr>\n",
       "    <tr>\n",
       "      <th>319792</th>\n",
       "      <td>0</td>\n",
       "      <td>24.24</td>\n",
       "      <td>No</td>\n",
       "      <td>No</td>\n",
       "      <td>No</td>\n",
       "      <td>0.0</td>\n",
       "      <td>0.0</td>\n",
       "      <td>No</td>\n",
       "      <td>Female</td>\n",
       "      <td>45-49</td>\n",
       "      <td>Hispanic</td>\n",
       "      <td>No</td>\n",
       "      <td>Yes</td>\n",
       "      <td>Good</td>\n",
       "      <td>6.0</td>\n",
       "      <td>No</td>\n",
       "      <td>No</td>\n",
       "      <td>No</td>\n",
       "    </tr>\n",
       "    <tr>\n",
       "      <th>319793</th>\n",
       "      <td>0</td>\n",
       "      <td>32.81</td>\n",
       "      <td>No</td>\n",
       "      <td>No</td>\n",
       "      <td>No</td>\n",
       "      <td>0.0</td>\n",
       "      <td>0.0</td>\n",
       "      <td>No</td>\n",
       "      <td>Female</td>\n",
       "      <td>25-29</td>\n",
       "      <td>Hispanic</td>\n",
       "      <td>No</td>\n",
       "      <td>No</td>\n",
       "      <td>Good</td>\n",
       "      <td>12.0</td>\n",
       "      <td>No</td>\n",
       "      <td>No</td>\n",
       "      <td>No</td>\n",
       "    </tr>\n",
       "    <tr>\n",
       "      <th>319794</th>\n",
       "      <td>0</td>\n",
       "      <td>46.56</td>\n",
       "      <td>No</td>\n",
       "      <td>No</td>\n",
       "      <td>No</td>\n",
       "      <td>0.0</td>\n",
       "      <td>0.0</td>\n",
       "      <td>No</td>\n",
       "      <td>Female</td>\n",
       "      <td>80 or older</td>\n",
       "      <td>Hispanic</td>\n",
       "      <td>No</td>\n",
       "      <td>Yes</td>\n",
       "      <td>Good</td>\n",
       "      <td>8.0</td>\n",
       "      <td>No</td>\n",
       "      <td>No</td>\n",
       "      <td>No</td>\n",
       "    </tr>\n",
       "  </tbody>\n",
       "</table>\n",
       "<p>548912 rows × 18 columns</p>\n",
       "</div>"
      ],
      "text/plain": [
       "        HeartDisease    BMI Smoking AlcoholDrinking Stroke  PhysicalHealth  \\\n",
       "89800              1  35.31      No              No     No            14.0   \n",
       "235744             1  24.33     Yes              No     No             0.0   \n",
       "94264              1  30.79     Yes              No     No             4.0   \n",
       "31764              1  34.44     Yes              No     No             0.0   \n",
       "189719             1  29.65     Yes              No     No             0.0   \n",
       "...              ...    ...     ...             ...    ...             ...   \n",
       "319789             0  22.22      No              No     No             0.0   \n",
       "319791             0  29.84     Yes              No     No             0.0   \n",
       "319792             0  24.24      No              No     No             0.0   \n",
       "319793             0  32.81      No              No     No             0.0   \n",
       "319794             0  46.56      No              No     No             0.0   \n",
       "\n",
       "        MentalHealth DiffWalking     Sex  AgeCategory      Race  \\\n",
       "89800            0.0          No    Male        70-74     White   \n",
       "235744           0.0          No    Male        75-79     White   \n",
       "94264           30.0         Yes    Male        55-59     White   \n",
       "31764            0.0          No    Male        60-64     White   \n",
       "189719           0.0          No    Male        55-59     White   \n",
       "...              ...         ...     ...          ...       ...   \n",
       "319789           0.0          No  Female        18-24  Hispanic   \n",
       "319791           0.0          No    Male        35-39  Hispanic   \n",
       "319792           0.0          No  Female        45-49  Hispanic   \n",
       "319793           0.0          No  Female        25-29  Hispanic   \n",
       "319794           0.0          No  Female  80 or older  Hispanic   \n",
       "\n",
       "                       Diabetic PhysicalActivity  GenHealth  SleepTime Asthma  \\\n",
       "89800                        No              Yes  Very good        9.0     No   \n",
       "235744                      Yes              Yes  Very good       10.0     No   \n",
       "94264                        No              Yes       Good        6.0     No   \n",
       "31764                       Yes              Yes       Good        8.0     No   \n",
       "189719  No, borderline diabetes              Yes       Good        7.0     No   \n",
       "...                         ...              ...        ...        ...    ...   \n",
       "319789                       No              Yes  Excellent        8.0     No   \n",
       "319791                       No              Yes  Very good        5.0    Yes   \n",
       "319792                       No              Yes       Good        6.0     No   \n",
       "319793                       No               No       Good       12.0     No   \n",
       "319794                       No              Yes       Good        8.0     No   \n",
       "\n",
       "       KidneyDisease SkinCancer  \n",
       "89800             No        Yes  \n",
       "235744            No         No  \n",
       "94264             No         No  \n",
       "31764             No         No  \n",
       "189719            No         No  \n",
       "...              ...        ...  \n",
       "319789            No         No  \n",
       "319791            No         No  \n",
       "319792            No         No  \n",
       "319793            No         No  \n",
       "319794            No         No  \n",
       "\n",
       "[548912 rows x 18 columns]"
      ]
     },
     "execution_count": 78,
     "metadata": {},
     "output_type": "execute_result"
    }
   ],
   "source": [
    "final_data"
   ]
  },
  {
   "cell_type": "code",
   "execution_count": 79,
   "id": "89ba1bad",
   "metadata": {},
   "outputs": [],
   "source": [
    "final_data.to_csv('cleaned_heart_disease.csv')"
   ]
  },
  {
   "cell_type": "code",
   "execution_count": 80,
   "id": "0d51f578",
   "metadata": {},
   "outputs": [
    {
     "data": {
      "image/png": "[encoded data removed]",
      "text/plain": [
       "<Figure size 720x576 with 1 Axes>"
      ]
     },
     "metadata": {},
     "output_type": "display_data"
    }
   ],
   "source": [
    "plt.figure(figsize=(10,8))\n",
    "plt.pie(x=final_data['HeartDisease'].value_counts(),explode=(0.05,0),autopct='%1.0f%%',labels=['Yes','No'])\n",
    "plt.show()"
   ]
  },
  {
   "cell_type": "markdown",
   "id": "bfee48a9",
   "metadata": {},
   "source": [
    "# 9. Corelation between the features and Feature importance"
   ]
  },
  {
   "cell_type": "markdown",
   "id": "8f67f601",
   "metadata": {},
   "source": [
    "### Encoding the object features"
   ]
  },
  {
   "cell_type": "code",
   "execution_count": 81,
   "id": "e0c18b70",
   "metadata": {},
   "outputs": [],
   "source": [
    "non_numeric_data = final_data.select_dtypes('object')\n",
    "non_numeric_data = non_numeric_data.columns.values\n",
    "for col in non_numeric_data:\n",
    "    final_data[col] = LabelEncoder().fit_transform(final_data[col])"
   ]
  },
  {
   "cell_type": "code",
   "execution_count": 82,
   "id": "9aaf7bf4",
   "metadata": {},
   "outputs": [
    {
     "data": {
      "text/plain": [
       "HeartDisease          int32\n",
       "BMI                 float64\n",
       "Smoking               int32\n",
       "AlcoholDrinking       int32\n",
       "Stroke                int32\n",
       "PhysicalHealth      float64\n",
       "MentalHealth        float64\n",
       "DiffWalking           int32\n",
       "Sex                   int32\n",
       "AgeCategory           int32\n",
       "Race                  int32\n",
       "Diabetic              int32\n",
       "PhysicalActivity      int32\n",
       "GenHealth             int32\n",
       "SleepTime           float64\n",
       "Asthma                int32\n",
       "KidneyDisease         int32\n",
       "SkinCancer            int32\n",
       "dtype: object"
      ]
     },
     "execution_count": 82,
     "metadata": {},
     "output_type": "execute_result"
    }
   ],
   "source": [
    "final_data.dtypes"
   ]
  },
  {
   "cell_type": "markdown",
   "id": "bd383182",
   "metadata": {},
   "source": [
    "### Seperating Input and Output features"
   ]
  },
  {
   "cell_type": "code",
   "execution_count": 83,
   "id": "e3e8bded",
   "metadata": {},
   "outputs": [],
   "source": [
    "X = final_data.drop(columns='HeartDisease')\n",
    "y = final_data[['HeartDisease']]"
   ]
  },
  {
   "cell_type": "code",
   "execution_count": 84,
   "id": "41d5fb00",
   "metadata": {},
   "outputs": [
    {
     "data": {
      "text/plain": [
       "((548912, 17), (548912, 1))"
      ]
     },
     "execution_count": 84,
     "metadata": {},
     "output_type": "execute_result"
    }
   ],
   "source": [
    "X.shape,y.shape"
   ]
  },
  {
   "cell_type": "markdown",
   "id": "36a46778",
   "metadata": {},
   "source": [
    "### Scaling Input features"
   ]
  },
  {
   "cell_type": "code",
   "execution_count": 85,
   "id": "a6690d80",
   "metadata": {
    "scrolled": true
   },
   "outputs": [
    {
     "data": {
      "text/html": [
       "<div>\n",
       "<style scoped>\n",
       "    .dataframe tbody tr th:only-of-type {\n",
       "        vertical-align: middle;\n",
       "    }\n",
       "\n",
       "    .dataframe tbody tr th {\n",
       "        vertical-align: top;\n",
       "    }\n",
       "\n",
       "    .dataframe thead th {\n",
       "        text-align: right;\n",
       "    }\n",
       "</style>\n",
       "<table border=\"1\" class=\"dataframe\">\n",
       "  <thead>\n",
       "    <tr style=\"text-align: right;\">\n",
       "      <th></th>\n",
       "      <th>BMI</th>\n",
       "      <th>Smoking</th>\n",
       "      <th>AlcoholDrinking</th>\n",
       "      <th>Stroke</th>\n",
       "      <th>PhysicalHealth</th>\n",
       "      <th>MentalHealth</th>\n",
       "      <th>DiffWalking</th>\n",
       "      <th>Sex</th>\n",
       "      <th>AgeCategory</th>\n",
       "      <th>Race</th>\n",
       "      <th>Diabetic</th>\n",
       "      <th>PhysicalActivity</th>\n",
       "      <th>GenHealth</th>\n",
       "      <th>SleepTime</th>\n",
       "      <th>Asthma</th>\n",
       "      <th>KidneyDisease</th>\n",
       "      <th>SkinCancer</th>\n",
       "    </tr>\n",
       "  </thead>\n",
       "  <tbody>\n",
       "    <tr>\n",
       "      <th>0</th>\n",
       "      <td>0.983221</td>\n",
       "      <td>-0.992399</td>\n",
       "      <td>-0.248702</td>\n",
       "      <td>-0.323841</td>\n",
       "      <td>0.849362</td>\n",
       "      <td>-0.505848</td>\n",
       "      <td>-0.571342</td>\n",
       "      <td>0.952712</td>\n",
       "      <td>0.668713</td>\n",
       "      <td>0.470376</td>\n",
       "      <td>-0.571457</td>\n",
       "      <td>0.644088</td>\n",
       "      <td>1.316353</td>\n",
       "      <td>1.172006</td>\n",
       "      <td>-0.434731</td>\n",
       "      <td>-0.291385</td>\n",
       "      <td>2.524910</td>\n",
       "    </tr>\n",
       "    <tr>\n",
       "      <th>1</th>\n",
       "      <td>-0.696216</td>\n",
       "      <td>1.007659</td>\n",
       "      <td>-0.248702</td>\n",
       "      <td>-0.323841</td>\n",
       "      <td>-0.547890</td>\n",
       "      <td>-0.505848</td>\n",
       "      <td>-0.571342</td>\n",
       "      <td>0.952712</td>\n",
       "      <td>0.963659</td>\n",
       "      <td>0.470376</td>\n",
       "      <td>1.763659</td>\n",
       "      <td>0.644088</td>\n",
       "      <td>1.316353</td>\n",
       "      <td>1.790479</td>\n",
       "      <td>-0.434731</td>\n",
       "      <td>-0.291385</td>\n",
       "      <td>-0.396054</td>\n",
       "    </tr>\n",
       "    <tr>\n",
       "      <th>2</th>\n",
       "      <td>0.291868</td>\n",
       "      <td>1.007659</td>\n",
       "      <td>-0.248702</td>\n",
       "      <td>-0.323841</td>\n",
       "      <td>-0.148675</td>\n",
       "      <td>2.972204</td>\n",
       "      <td>1.750265</td>\n",
       "      <td>0.952712</td>\n",
       "      <td>-0.216125</td>\n",
       "      <td>0.470376</td>\n",
       "      <td>-0.571457</td>\n",
       "      <td>0.644088</td>\n",
       "      <td>-0.143434</td>\n",
       "      <td>-0.683415</td>\n",
       "      <td>-0.434731</td>\n",
       "      <td>-0.291385</td>\n",
       "      <td>-0.396054</td>\n",
       "    </tr>\n",
       "    <tr>\n",
       "      <th>3</th>\n",
       "      <td>0.850151</td>\n",
       "      <td>1.007659</td>\n",
       "      <td>-0.248702</td>\n",
       "      <td>-0.323841</td>\n",
       "      <td>-0.547890</td>\n",
       "      <td>-0.505848</td>\n",
       "      <td>-0.571342</td>\n",
       "      <td>0.952712</td>\n",
       "      <td>0.078821</td>\n",
       "      <td>0.470376</td>\n",
       "      <td>1.763659</td>\n",
       "      <td>0.644088</td>\n",
       "      <td>-0.143434</td>\n",
       "      <td>0.553532</td>\n",
       "      <td>-0.434731</td>\n",
       "      <td>-0.291385</td>\n",
       "      <td>-0.396054</td>\n",
       "    </tr>\n",
       "    <tr>\n",
       "      <th>4</th>\n",
       "      <td>0.117501</td>\n",
       "      <td>1.007659</td>\n",
       "      <td>-0.248702</td>\n",
       "      <td>-0.323841</td>\n",
       "      <td>-0.547890</td>\n",
       "      <td>-0.505848</td>\n",
       "      <td>-0.571342</td>\n",
       "      <td>0.952712</td>\n",
       "      <td>-0.216125</td>\n",
       "      <td>0.470376</td>\n",
       "      <td>0.596101</td>\n",
       "      <td>0.644088</td>\n",
       "      <td>-0.143434</td>\n",
       "      <td>-0.064941</td>\n",
       "      <td>-0.434731</td>\n",
       "      <td>-0.291385</td>\n",
       "      <td>-0.396054</td>\n",
       "    </tr>\n",
       "    <tr>\n",
       "      <th>...</th>\n",
       "      <td>...</td>\n",
       "      <td>...</td>\n",
       "      <td>...</td>\n",
       "      <td>...</td>\n",
       "      <td>...</td>\n",
       "      <td>...</td>\n",
       "      <td>...</td>\n",
       "      <td>...</td>\n",
       "      <td>...</td>\n",
       "      <td>...</td>\n",
       "      <td>...</td>\n",
       "      <td>...</td>\n",
       "      <td>...</td>\n",
       "      <td>...</td>\n",
       "      <td>...</td>\n",
       "      <td>...</td>\n",
       "      <td>...</td>\n",
       "    </tr>\n",
       "    <tr>\n",
       "      <th>548907</th>\n",
       "      <td>-1.018949</td>\n",
       "      <td>-0.992399</td>\n",
       "      <td>-0.248702</td>\n",
       "      <td>-0.323841</td>\n",
       "      <td>-0.547890</td>\n",
       "      <td>-0.505848</td>\n",
       "      <td>-0.571342</td>\n",
       "      <td>-1.049635</td>\n",
       "      <td>-2.280745</td>\n",
       "      <td>-1.213574</td>\n",
       "      <td>-0.571457</td>\n",
       "      <td>0.644088</td>\n",
       "      <td>-1.603222</td>\n",
       "      <td>0.553532</td>\n",
       "      <td>-0.434731</td>\n",
       "      <td>-0.291385</td>\n",
       "      <td>-0.396054</td>\n",
       "    </tr>\n",
       "    <tr>\n",
       "      <th>548908</th>\n",
       "      <td>0.146562</td>\n",
       "      <td>1.007659</td>\n",
       "      <td>-0.248702</td>\n",
       "      <td>-0.323841</td>\n",
       "      <td>-0.547890</td>\n",
       "      <td>-0.505848</td>\n",
       "      <td>-0.571342</td>\n",
       "      <td>0.952712</td>\n",
       "      <td>-1.395908</td>\n",
       "      <td>-1.213574</td>\n",
       "      <td>-0.571457</td>\n",
       "      <td>0.644088</td>\n",
       "      <td>1.316353</td>\n",
       "      <td>-1.301888</td>\n",
       "      <td>2.300273</td>\n",
       "      <td>-0.291385</td>\n",
       "      <td>-0.396054</td>\n",
       "    </tr>\n",
       "    <tr>\n",
       "      <th>548909</th>\n",
       "      <td>-0.709982</td>\n",
       "      <td>-0.992399</td>\n",
       "      <td>-0.248702</td>\n",
       "      <td>-0.323841</td>\n",
       "      <td>-0.547890</td>\n",
       "      <td>-0.505848</td>\n",
       "      <td>-0.571342</td>\n",
       "      <td>-1.049635</td>\n",
       "      <td>-0.806016</td>\n",
       "      <td>-1.213574</td>\n",
       "      <td>-0.571457</td>\n",
       "      <td>0.644088</td>\n",
       "      <td>-0.143434</td>\n",
       "      <td>-0.683415</td>\n",
       "      <td>-0.434731</td>\n",
       "      <td>-0.291385</td>\n",
       "      <td>-0.396054</td>\n",
       "    </tr>\n",
       "    <tr>\n",
       "      <th>548910</th>\n",
       "      <td>0.600836</td>\n",
       "      <td>-0.992399</td>\n",
       "      <td>-0.248702</td>\n",
       "      <td>-0.323841</td>\n",
       "      <td>-0.547890</td>\n",
       "      <td>-0.505848</td>\n",
       "      <td>-0.571342</td>\n",
       "      <td>-1.049635</td>\n",
       "      <td>-1.985799</td>\n",
       "      <td>-1.213574</td>\n",
       "      <td>-0.571457</td>\n",
       "      <td>-1.552583</td>\n",
       "      <td>-0.143434</td>\n",
       "      <td>3.027426</td>\n",
       "      <td>-0.434731</td>\n",
       "      <td>-0.291385</td>\n",
       "      <td>-0.396054</td>\n",
       "    </tr>\n",
       "    <tr>\n",
       "      <th>548911</th>\n",
       "      <td>2.703956</td>\n",
       "      <td>-0.992399</td>\n",
       "      <td>-0.248702</td>\n",
       "      <td>-0.323841</td>\n",
       "      <td>-0.547890</td>\n",
       "      <td>-0.505848</td>\n",
       "      <td>-0.571342</td>\n",
       "      <td>-1.049635</td>\n",
       "      <td>1.258604</td>\n",
       "      <td>-1.213574</td>\n",
       "      <td>-0.571457</td>\n",
       "      <td>0.644088</td>\n",
       "      <td>-0.143434</td>\n",
       "      <td>0.553532</td>\n",
       "      <td>-0.434731</td>\n",
       "      <td>-0.291385</td>\n",
       "      <td>-0.396054</td>\n",
       "    </tr>\n",
       "  </tbody>\n",
       "</table>\n",
       "<p>548912 rows × 17 columns</p>\n",
       "</div>"
      ],
      "text/plain": [
       "             BMI   Smoking  AlcoholDrinking    Stroke  PhysicalHealth  \\\n",
       "0       0.983221 -0.992399        -0.248702 -0.323841        0.849362   \n",
       "1      -0.696216  1.007659        -0.248702 -0.323841       -0.547890   \n",
       "2       0.291868  1.007659        -0.248702 -0.323841       -0.148675   \n",
       "3       0.850151  1.007659        -0.248702 -0.323841       -0.547890   \n",
       "4       0.117501  1.007659        -0.248702 -0.323841       -0.547890   \n",
       "...          ...       ...              ...       ...             ...   \n",
       "548907 -1.018949 -0.992399        -0.248702 -0.323841       -0.547890   \n",
       "548908  0.146562  1.007659        -0.248702 -0.323841       -0.547890   \n",
       "548909 -0.709982 -0.992399        -0.248702 -0.323841       -0.547890   \n",
       "548910  0.600836 -0.992399        -0.248702 -0.323841       -0.547890   \n",
       "548911  2.703956 -0.992399        -0.248702 -0.323841       -0.547890   \n",
       "\n",
       "        MentalHealth  DiffWalking       Sex  AgeCategory      Race  Diabetic  \\\n",
       "0          -0.505848    -0.571342  0.952712     0.668713  0.470376 -0.571457   \n",
       "1          -0.505848    -0.571342  0.952712     0.963659  0.470376  1.763659   \n",
       "2           2.972204     1.750265  0.952712    -0.216125  0.470376 -0.571457   \n",
       "3          -0.505848    -0.571342  0.952712     0.078821  0.470376  1.763659   \n",
       "4          -0.505848    -0.571342  0.952712    -0.216125  0.470376  0.596101   \n",
       "...              ...          ...       ...          ...       ...       ...   \n",
       "548907     -0.505848    -0.571342 -1.049635    -2.280745 -1.213574 -0.571457   \n",
       "548908     -0.505848    -0.571342  0.952712    -1.395908 -1.213574 -0.571457   \n",
       "548909     -0.505848    -0.571342 -1.049635    -0.806016 -1.213574 -0.571457   \n",
       "548910     -0.505848    -0.571342 -1.049635    -1.985799 -1.213574 -0.571457   \n",
       "548911     -0.505848    -0.571342 -1.049635     1.258604 -1.213574 -0.571457   \n",
       "\n",
       "        PhysicalActivity  GenHealth  SleepTime    Asthma  KidneyDisease  \\\n",
       "0               0.644088   1.316353   1.172006 -0.434731      -0.291385   \n",
       "1               0.644088   1.316353   1.790479 -0.434731      -0.291385   \n",
       "2               0.644088  -0.143434  -0.683415 -0.434731      -0.291385   \n",
       "3               0.644088  -0.143434   0.553532 -0.434731      -0.291385   \n",
       "4               0.644088  -0.143434  -0.064941 -0.434731      -0.291385   \n",
       "...                  ...        ...        ...       ...            ...   \n",
       "548907          0.644088  -1.603222   0.553532 -0.434731      -0.291385   \n",
       "548908          0.644088   1.316353  -1.301888  2.300273      -0.291385   \n",
       "548909          0.644088  -0.143434  -0.683415 -0.434731      -0.291385   \n",
       "548910         -1.552583  -0.143434   3.027426 -0.434731      -0.291385   \n",
       "548911          0.644088  -0.143434   0.553532 -0.434731      -0.291385   \n",
       "\n",
       "        SkinCancer  \n",
       "0         2.524910  \n",
       "1        -0.396054  \n",
       "2        -0.396054  \n",
       "3        -0.396054  \n",
       "4        -0.396054  \n",
       "...            ...  \n",
       "548907   -0.396054  \n",
       "548908   -0.396054  \n",
       "548909   -0.396054  \n",
       "548910   -0.396054  \n",
       "548911   -0.396054  \n",
       "\n",
       "[548912 rows x 17 columns]"
      ]
     },
     "execution_count": 85,
     "metadata": {},
     "output_type": "execute_result"
    }
   ],
   "source": [
    "X_scaled = StandardScaler()\n",
    "X_scaled = X_scaled.fit_transform(X)\n",
    "X_scaled = pd.DataFrame(data=X_scaled,columns=X.columns)\n",
    "X_scaled"
   ]
  },
  {
   "cell_type": "markdown",
   "id": "9b36904e",
   "metadata": {},
   "source": [
    "### Check Corelation between input features"
   ]
  },
  {
   "cell_type": "code",
   "execution_count": 86,
   "id": "9295730a",
   "metadata": {},
   "outputs": [
    {
     "data": {
      "text/html": [
       "<div>\n",
       "<style scoped>\n",
       "    .dataframe tbody tr th:only-of-type {\n",
       "        vertical-align: middle;\n",
       "    }\n",
       "\n",
       "    .dataframe tbody tr th {\n",
       "        vertical-align: top;\n",
       "    }\n",
       "\n",
       "    .dataframe thead th {\n",
       "        text-align: right;\n",
       "    }\n",
       "</style>\n",
       "<table border=\"1\" class=\"dataframe\">\n",
       "  <thead>\n",
       "    <tr style=\"text-align: right;\">\n",
       "      <th></th>\n",
       "      <th>BMI</th>\n",
       "      <th>Smoking</th>\n",
       "      <th>AlcoholDrinking</th>\n",
       "      <th>Stroke</th>\n",
       "      <th>PhysicalHealth</th>\n",
       "      <th>MentalHealth</th>\n",
       "      <th>DiffWalking</th>\n",
       "      <th>Sex</th>\n",
       "      <th>AgeCategory</th>\n",
       "      <th>Race</th>\n",
       "      <th>Diabetic</th>\n",
       "      <th>PhysicalActivity</th>\n",
       "      <th>GenHealth</th>\n",
       "      <th>SleepTime</th>\n",
       "      <th>Asthma</th>\n",
       "      <th>KidneyDisease</th>\n",
       "      <th>SkinCancer</th>\n",
       "    </tr>\n",
       "  </thead>\n",
       "  <tbody>\n",
       "    <tr>\n",
       "      <th>BMI</th>\n",
       "      <td>1.000000</td>\n",
       "      <td>0.010807</td>\n",
       "      <td>-0.036629</td>\n",
       "      <td>0.018309</td>\n",
       "      <td>0.115981</td>\n",
       "      <td>0.064485</td>\n",
       "      <td>0.193465</td>\n",
       "      <td>0.024533</td>\n",
       "      <td>-0.032044</td>\n",
       "      <td>-0.033015</td>\n",
       "      <td>0.226998</td>\n",
       "      <td>-0.154230</td>\n",
       "      <td>-0.002648</td>\n",
       "      <td>-0.045275</td>\n",
       "      <td>0.104138</td>\n",
       "      <td>0.069324</td>\n",
       "      <td>-0.039570</td>\n",
       "    </tr>\n",
       "    <tr>\n",
       "      <th>Smoking</th>\n",
       "      <td>0.010807</td>\n",
       "      <td>1.000000</td>\n",
       "      <td>0.086496</td>\n",
       "      <td>0.072360</td>\n",
       "      <td>0.125047</td>\n",
       "      <td>0.079003</td>\n",
       "      <td>0.129124</td>\n",
       "      <td>0.111410</td>\n",
       "      <td>0.128528</td>\n",
       "      <td>0.069721</td>\n",
       "      <td>0.068269</td>\n",
       "      <td>-0.101718</td>\n",
       "      <td>-0.004715</td>\n",
       "      <td>-0.019026</td>\n",
       "      <td>0.028789</td>\n",
       "      <td>0.032843</td>\n",
       "      <td>0.028666</td>\n",
       "    </tr>\n",
       "    <tr>\n",
       "      <th>AlcoholDrinking</th>\n",
       "      <td>-0.036629</td>\n",
       "      <td>0.086496</td>\n",
       "      <td>1.000000</td>\n",
       "      <td>-0.026801</td>\n",
       "      <td>-0.028720</td>\n",
       "      <td>0.042001</td>\n",
       "      <td>-0.048030</td>\n",
       "      <td>0.001435</td>\n",
       "      <td>-0.086096</td>\n",
       "      <td>0.031269</td>\n",
       "      <td>-0.072421</td>\n",
       "      <td>0.020454</td>\n",
       "      <td>0.004909</td>\n",
       "      <td>-0.001416</td>\n",
       "      <td>-0.008835</td>\n",
       "      <td>-0.039829</td>\n",
       "      <td>-0.013049</td>\n",
       "    </tr>\n",
       "    <tr>\n",
       "      <th>Stroke</th>\n",
       "      <td>0.018309</td>\n",
       "      <td>0.072360</td>\n",
       "      <td>-0.026801</td>\n",
       "      <td>1.000000</td>\n",
       "      <td>0.168972</td>\n",
       "      <td>0.071709</td>\n",
       "      <td>0.202147</td>\n",
       "      <td>0.000573</td>\n",
       "      <td>0.143093</td>\n",
       "      <td>-0.022078</td>\n",
       "      <td>0.122976</td>\n",
       "      <td>-0.102348</td>\n",
       "      <td>-0.027255</td>\n",
       "      <td>0.010088</td>\n",
       "      <td>0.057889</td>\n",
       "      <td>0.108779</td>\n",
       "      <td>0.046323</td>\n",
       "    </tr>\n",
       "    <tr>\n",
       "      <th>PhysicalHealth</th>\n",
       "      <td>0.115981</td>\n",
       "      <td>0.125047</td>\n",
       "      <td>-0.028720</td>\n",
       "      <td>0.168972</td>\n",
       "      <td>1.000000</td>\n",
       "      <td>0.316311</td>\n",
       "      <td>0.450294</td>\n",
       "      <td>-0.041839</td>\n",
       "      <td>0.116187</td>\n",
       "      <td>0.002898</td>\n",
       "      <td>0.176989</td>\n",
       "      <td>-0.267673</td>\n",
       "      <td>-0.035747</td>\n",
       "      <td>-0.070309</td>\n",
       "      <td>0.134828</td>\n",
       "      <td>0.175077</td>\n",
       "      <td>0.037976</td>\n",
       "    </tr>\n",
       "    <tr>\n",
       "      <th>MentalHealth</th>\n",
       "      <td>0.064485</td>\n",
       "      <td>0.079003</td>\n",
       "      <td>0.042001</td>\n",
       "      <td>0.071709</td>\n",
       "      <td>0.316311</td>\n",
       "      <td>1.000000</td>\n",
       "      <td>0.183654</td>\n",
       "      <td>-0.112307</td>\n",
       "      <td>-0.150686</td>\n",
       "      <td>-0.029838</td>\n",
       "      <td>0.045294</td>\n",
       "      <td>-0.116217</td>\n",
       "      <td>-0.013204</td>\n",
       "      <td>-0.120818</td>\n",
       "      <td>0.118905</td>\n",
       "      <td>0.054292</td>\n",
       "      <td>-0.035767</td>\n",
       "    </tr>\n",
       "    <tr>\n",
       "      <th>DiffWalking</th>\n",
       "      <td>0.193465</td>\n",
       "      <td>0.129124</td>\n",
       "      <td>-0.048030</td>\n",
       "      <td>0.202147</td>\n",
       "      <td>0.450294</td>\n",
       "      <td>0.183654</td>\n",
       "      <td>1.000000</td>\n",
       "      <td>-0.077985</td>\n",
       "      <td>0.246551</td>\n",
       "      <td>-0.015057</td>\n",
       "      <td>0.229825</td>\n",
       "      <td>-0.318583</td>\n",
       "      <td>-0.060724</td>\n",
       "      <td>-0.032492</td>\n",
       "      <td>0.132067</td>\n",
       "      <td>0.185334</td>\n",
       "      <td>0.062582</td>\n",
       "    </tr>\n",
       "    <tr>\n",
       "      <th>Sex</th>\n",
       "      <td>0.024533</td>\n",
       "      <td>0.111410</td>\n",
       "      <td>0.001435</td>\n",
       "      <td>0.000573</td>\n",
       "      <td>-0.041839</td>\n",
       "      <td>-0.112307</td>\n",
       "      <td>-0.077985</td>\n",
       "      <td>1.000000</td>\n",
       "      <td>0.008104</td>\n",
       "      <td>0.049830</td>\n",
       "      <td>0.018332</td>\n",
       "      <td>0.062998</td>\n",
       "      <td>0.002510</td>\n",
       "      <td>0.006975</td>\n",
       "      <td>-0.088751</td>\n",
       "      <td>-0.010725</td>\n",
       "      <td>0.058787</td>\n",
       "    </tr>\n",
       "    <tr>\n",
       "      <th>AgeCategory</th>\n",
       "      <td>-0.032044</td>\n",
       "      <td>0.128528</td>\n",
       "      <td>-0.086096</td>\n",
       "      <td>0.143093</td>\n",
       "      <td>0.116187</td>\n",
       "      <td>-0.150686</td>\n",
       "      <td>0.246551</td>\n",
       "      <td>0.008104</td>\n",
       "      <td>1.000000</td>\n",
       "      <td>0.179710</td>\n",
       "      <td>0.196317</td>\n",
       "      <td>-0.135919</td>\n",
       "      <td>0.025250</td>\n",
       "      <td>0.118753</td>\n",
       "      <td>-0.055354</td>\n",
       "      <td>0.138683</td>\n",
       "      <td>0.264601</td>\n",
       "    </tr>\n",
       "    <tr>\n",
       "      <th>Race</th>\n",
       "      <td>-0.033015</td>\n",
       "      <td>0.069721</td>\n",
       "      <td>0.031269</td>\n",
       "      <td>-0.022078</td>\n",
       "      <td>0.002898</td>\n",
       "      <td>-0.029838</td>\n",
       "      <td>-0.015057</td>\n",
       "      <td>0.049830</td>\n",
       "      <td>0.179710</td>\n",
       "      <td>1.000000</td>\n",
       "      <td>-0.040713</td>\n",
       "      <td>0.034977</td>\n",
       "      <td>0.050652</td>\n",
       "      <td>0.039882</td>\n",
       "      <td>-0.033537</td>\n",
       "      <td>0.007298</td>\n",
       "      <td>0.151490</td>\n",
       "    </tr>\n",
       "    <tr>\n",
       "      <th>Diabetic</th>\n",
       "      <td>0.226998</td>\n",
       "      <td>0.068269</td>\n",
       "      <td>-0.072421</td>\n",
       "      <td>0.122976</td>\n",
       "      <td>0.176989</td>\n",
       "      <td>0.045294</td>\n",
       "      <td>0.229825</td>\n",
       "      <td>0.018332</td>\n",
       "      <td>0.196317</td>\n",
       "      <td>-0.040713</td>\n",
       "      <td>1.000000</td>\n",
       "      <td>-0.152905</td>\n",
       "      <td>-0.037514</td>\n",
       "      <td>-0.002933</td>\n",
       "      <td>0.063252</td>\n",
       "      <td>0.181036</td>\n",
       "      <td>0.029561</td>\n",
       "    </tr>\n",
       "    <tr>\n",
       "      <th>PhysicalActivity</th>\n",
       "      <td>-0.154230</td>\n",
       "      <td>-0.101718</td>\n",
       "      <td>0.020454</td>\n",
       "      <td>-0.102348</td>\n",
       "      <td>-0.267673</td>\n",
       "      <td>-0.116217</td>\n",
       "      <td>-0.318583</td>\n",
       "      <td>0.062998</td>\n",
       "      <td>-0.135919</td>\n",
       "      <td>0.034977</td>\n",
       "      <td>-0.152905</td>\n",
       "      <td>1.000000</td>\n",
       "      <td>0.038262</td>\n",
       "      <td>0.008043</td>\n",
       "      <td>-0.058473</td>\n",
       "      <td>-0.110711</td>\n",
       "      <td>0.000617</td>\n",
       "    </tr>\n",
       "    <tr>\n",
       "      <th>GenHealth</th>\n",
       "      <td>-0.002648</td>\n",
       "      <td>-0.004715</td>\n",
       "      <td>0.004909</td>\n",
       "      <td>-0.027255</td>\n",
       "      <td>-0.035747</td>\n",
       "      <td>-0.013204</td>\n",
       "      <td>-0.060724</td>\n",
       "      <td>0.002510</td>\n",
       "      <td>0.025250</td>\n",
       "      <td>0.050652</td>\n",
       "      <td>-0.037514</td>\n",
       "      <td>0.038262</td>\n",
       "      <td>1.000000</td>\n",
       "      <td>0.000519</td>\n",
       "      <td>-0.006706</td>\n",
       "      <td>-0.022085</td>\n",
       "      <td>0.011349</td>\n",
       "    </tr>\n",
       "    <tr>\n",
       "      <th>SleepTime</th>\n",
       "      <td>-0.045275</td>\n",
       "      <td>-0.019026</td>\n",
       "      <td>-0.001416</td>\n",
       "      <td>0.010088</td>\n",
       "      <td>-0.070309</td>\n",
       "      <td>-0.120818</td>\n",
       "      <td>-0.032492</td>\n",
       "      <td>0.006975</td>\n",
       "      <td>0.118753</td>\n",
       "      <td>0.039882</td>\n",
       "      <td>-0.002933</td>\n",
       "      <td>0.008043</td>\n",
       "      <td>0.000519</td>\n",
       "      <td>1.000000</td>\n",
       "      <td>-0.054068</td>\n",
       "      <td>0.002611</td>\n",
       "      <td>0.041613</td>\n",
       "    </tr>\n",
       "    <tr>\n",
       "      <th>Asthma</th>\n",
       "      <td>0.104138</td>\n",
       "      <td>0.028789</td>\n",
       "      <td>-0.008835</td>\n",
       "      <td>0.057889</td>\n",
       "      <td>0.134828</td>\n",
       "      <td>0.118905</td>\n",
       "      <td>0.132067</td>\n",
       "      <td>-0.088751</td>\n",
       "      <td>-0.055354</td>\n",
       "      <td>-0.033537</td>\n",
       "      <td>0.063252</td>\n",
       "      <td>-0.058473</td>\n",
       "      <td>-0.006706</td>\n",
       "      <td>-0.054068</td>\n",
       "      <td>1.000000</td>\n",
       "      <td>0.056374</td>\n",
       "      <td>-0.006625</td>\n",
       "    </tr>\n",
       "    <tr>\n",
       "      <th>KidneyDisease</th>\n",
       "      <td>0.069324</td>\n",
       "      <td>0.032843</td>\n",
       "      <td>-0.039829</td>\n",
       "      <td>0.108779</td>\n",
       "      <td>0.175077</td>\n",
       "      <td>0.054292</td>\n",
       "      <td>0.185334</td>\n",
       "      <td>-0.010725</td>\n",
       "      <td>0.138683</td>\n",
       "      <td>0.007298</td>\n",
       "      <td>0.181036</td>\n",
       "      <td>-0.110711</td>\n",
       "      <td>-0.022085</td>\n",
       "      <td>0.002611</td>\n",
       "      <td>0.056374</td>\n",
       "      <td>1.000000</td>\n",
       "      <td>0.071432</td>\n",
       "    </tr>\n",
       "    <tr>\n",
       "      <th>SkinCancer</th>\n",
       "      <td>-0.039570</td>\n",
       "      <td>0.028666</td>\n",
       "      <td>-0.013049</td>\n",
       "      <td>0.046323</td>\n",
       "      <td>0.037976</td>\n",
       "      <td>-0.035767</td>\n",
       "      <td>0.062582</td>\n",
       "      <td>0.058787</td>\n",
       "      <td>0.264601</td>\n",
       "      <td>0.151490</td>\n",
       "      <td>0.029561</td>\n",
       "      <td>0.000617</td>\n",
       "      <td>0.011349</td>\n",
       "      <td>0.041613</td>\n",
       "      <td>-0.006625</td>\n",
       "      <td>0.071432</td>\n",
       "      <td>1.000000</td>\n",
       "    </tr>\n",
       "  </tbody>\n",
       "</table>\n",
       "</div>"
      ],
      "text/plain": [
       "                       BMI   Smoking  AlcoholDrinking    Stroke  \\\n",
       "BMI               1.000000  0.010807        -0.036629  0.018309   \n",
       "Smoking           0.010807  1.000000         0.086496  0.072360   \n",
       "AlcoholDrinking  -0.036629  0.086496         1.000000 -0.026801   \n",
       "Stroke            0.018309  0.072360        -0.026801  1.000000   \n",
       "PhysicalHealth    0.115981  0.125047        -0.028720  0.168972   \n",
       "MentalHealth      0.064485  0.079003         0.042001  0.071709   \n",
       "DiffWalking       0.193465  0.129124        -0.048030  0.202147   \n",
       "Sex               0.024533  0.111410         0.001435  0.000573   \n",
       "AgeCategory      -0.032044  0.128528        -0.086096  0.143093   \n",
       "Race             -0.033015  0.069721         0.031269 -0.022078   \n",
       "Diabetic          0.226998  0.068269        -0.072421  0.122976   \n",
       "PhysicalActivity -0.154230 -0.101718         0.020454 -0.102348   \n",
       "GenHealth        -0.002648 -0.004715         0.004909 -0.027255   \n",
       "SleepTime        -0.045275 -0.019026        -0.001416  0.010088   \n",
       "Asthma            0.104138  0.028789        -0.008835  0.057889   \n",
       "KidneyDisease     0.069324  0.032843        -0.039829  0.108779   \n",
       "SkinCancer       -0.039570  0.028666        -0.013049  0.046323   \n",
       "\n",
       "                  PhysicalHealth  MentalHealth  DiffWalking       Sex  \\\n",
       "BMI                     0.115981      0.064485     0.193465  0.024533   \n",
       "Smoking                 0.125047      0.079003     0.129124  0.111410   \n",
       "AlcoholDrinking        -0.028720      0.042001    -0.048030  0.001435   \n",
       "Stroke                  0.168972      0.071709     0.202147  0.000573   \n",
       "PhysicalHealth          1.000000      0.316311     0.450294 -0.041839   \n",
       "MentalHealth            0.316311      1.000000     0.183654 -0.112307   \n",
       "DiffWalking             0.450294      0.183654     1.000000 -0.077985   \n",
       "Sex                    -0.041839     -0.112307    -0.077985  1.000000   \n",
       "AgeCategory             0.116187     -0.150686     0.246551  0.008104   \n",
       "Race                    0.002898     -0.029838    -0.015057  0.049830   \n",
       "Diabetic                0.176989      0.045294     0.229825  0.018332   \n",
       "PhysicalActivity       -0.267673     -0.116217    -0.318583  0.062998   \n",
       "GenHealth              -0.035747     -0.013204    -0.060724  0.002510   \n",
       "SleepTime              -0.070309     -0.120818    -0.032492  0.006975   \n",
       "Asthma                  0.134828      0.118905     0.132067 -0.088751   \n",
       "KidneyDisease           0.175077      0.054292     0.185334 -0.010725   \n",
       "SkinCancer              0.037976     -0.035767     0.062582  0.058787   \n",
       "\n",
       "                  AgeCategory      Race  Diabetic  PhysicalActivity  \\\n",
       "BMI                 -0.032044 -0.033015  0.226998         -0.154230   \n",
       "Smoking              0.128528  0.069721  0.068269         -0.101718   \n",
       "AlcoholDrinking     -0.086096  0.031269 -0.072421          0.020454   \n",
       "Stroke               0.143093 -0.022078  0.122976         -0.102348   \n",
       "PhysicalHealth       0.116187  0.002898  0.176989         -0.267673   \n",
       "MentalHealth        -0.150686 -0.029838  0.045294         -0.116217   \n",
       "DiffWalking          0.246551 -0.015057  0.229825         -0.318583   \n",
       "Sex                  0.008104  0.049830  0.018332          0.062998   \n",
       "AgeCategory          1.000000  0.179710  0.196317         -0.135919   \n",
       "Race                 0.179710  1.000000 -0.040713          0.034977   \n",
       "Diabetic             0.196317 -0.040713  1.000000         -0.152905   \n",
       "PhysicalActivity    -0.135919  0.034977 -0.152905          1.000000   \n",
       "GenHealth            0.025250  0.050652 -0.037514          0.038262   \n",
       "SleepTime            0.118753  0.039882 -0.002933          0.008043   \n",
       "Asthma              -0.055354 -0.033537  0.063252         -0.058473   \n",
       "KidneyDisease        0.138683  0.007298  0.181036         -0.110711   \n",
       "SkinCancer           0.264601  0.151490  0.029561          0.000617   \n",
       "\n",
       "                  GenHealth  SleepTime    Asthma  KidneyDisease  SkinCancer  \n",
       "BMI               -0.002648  -0.045275  0.104138       0.069324   -0.039570  \n",
       "Smoking           -0.004715  -0.019026  0.028789       0.032843    0.028666  \n",
       "AlcoholDrinking    0.004909  -0.001416 -0.008835      -0.039829   -0.013049  \n",
       "Stroke            -0.027255   0.010088  0.057889       0.108779    0.046323  \n",
       "PhysicalHealth    -0.035747  -0.070309  0.134828       0.175077    0.037976  \n",
       "MentalHealth      -0.013204  -0.120818  0.118905       0.054292   -0.035767  \n",
       "DiffWalking       -0.060724  -0.032492  0.132067       0.185334    0.062582  \n",
       "Sex                0.002510   0.006975 -0.088751      -0.010725    0.058787  \n",
       "AgeCategory        0.025250   0.118753 -0.055354       0.138683    0.264601  \n",
       "Race               0.050652   0.039882 -0.033537       0.007298    0.151490  \n",
       "Diabetic          -0.037514  -0.002933  0.063252       0.181036    0.029561  \n",
       "PhysicalActivity   0.038262   0.008043 -0.058473      -0.110711    0.000617  \n",
       "GenHealth          1.000000   0.000519 -0.006706      -0.022085    0.011349  \n",
       "SleepTime          0.000519   1.000000 -0.054068       0.002611    0.041613  \n",
       "Asthma            -0.006706  -0.054068  1.000000       0.056374   -0.006625  \n",
       "KidneyDisease     -0.022085   0.002611  0.056374       1.000000    0.071432  \n",
       "SkinCancer         0.011349   0.041613 -0.006625       0.071432    1.000000  "
      ]
     },
     "execution_count": 86,
     "metadata": {},
     "output_type": "execute_result"
    }
   ],
   "source": [
    "corr_matrix = X_scaled.corr()\n",
    "corr_matrix"
   ]
  },
  {
   "cell_type": "code",
   "execution_count": 87,
   "id": "4dbe3c67",
   "metadata": {},
   "outputs": [
    {
     "data": {
      "image/png": "[encoded data removed]",
      "text/plain": [
       "<Figure size 1080x576 with 2 Axes>"
      ]
     },
     "metadata": {
      "needs_background": "light"
     },
     "output_type": "display_data"
    }
   ],
   "source": [
    "plt.figure(figsize=(15,8))\n",
    "sns.heatmap(corr_matrix,annot=True)\n",
    "plt.show()"
   ]
  },
  {
   "cell_type": "markdown",
   "id": "2a7e46bb",
   "metadata": {},
   "source": [
    "There is no multicoliniarity between the input features"
   ]
  },
  {
   "cell_type": "markdown",
   "id": "dd63d335",
   "metadata": {},
   "source": [
    "### Dividing the data set for training and testing"
   ]
  },
  {
   "cell_type": "code",
   "execution_count": 88,
   "id": "0357b653",
   "metadata": {},
   "outputs": [],
   "source": [
    "X_train,X_test,y_train,y_test = train_test_split(X_scaled,y,random_state=12,stratify=y)"
   ]
  },
  {
   "cell_type": "code",
   "execution_count": 89,
   "id": "c7e59c52",
   "metadata": {},
   "outputs": [
    {
     "data": {
      "text/plain": [
       "((411684, 17), (137228, 17), (411684, 1), (137228, 1))"
      ]
     },
     "execution_count": 89,
     "metadata": {},
     "output_type": "execute_result"
    }
   ],
   "source": [
    "X_train.shape,X_test.shape,y_train.shape,y_test.shape"
   ]
  },
  {
   "cell_type": "markdown",
   "id": "3e2cfce2",
   "metadata": {},
   "source": [
    "### Checking for feature importance using DecisionTreeClassifier"
   ]
  },
  {
   "cell_type": "code",
   "execution_count": 90,
   "id": "36a8d750",
   "metadata": {},
   "outputs": [
    {
     "data": {
      "text/plain": [
       "DecisionTreeClassifier()"
      ]
     },
     "execution_count": 90,
     "metadata": {},
     "output_type": "execute_result"
    }
   ],
   "source": [
    "dt_model = DecisionTreeClassifier()\n",
    "dt_model.fit(X_train,y_train)"
   ]
  },
  {
   "cell_type": "code",
   "execution_count": 91,
   "id": "2d5a2a2c",
   "metadata": {},
   "outputs": [
    {
     "data": {
      "text/html": [
       "<div>\n",
       "<style scoped>\n",
       "    .dataframe tbody tr th:only-of-type {\n",
       "        vertical-align: middle;\n",
       "    }\n",
       "\n",
       "    .dataframe tbody tr th {\n",
       "        vertical-align: top;\n",
       "    }\n",
       "\n",
       "    .dataframe thead th {\n",
       "        text-align: right;\n",
       "    }\n",
       "</style>\n",
       "<table border=\"1\" class=\"dataframe\">\n",
       "  <thead>\n",
       "    <tr style=\"text-align: right;\">\n",
       "      <th></th>\n",
       "      <th>Features</th>\n",
       "      <th>DT IMP Features</th>\n",
       "    </tr>\n",
       "  </thead>\n",
       "  <tbody>\n",
       "    <tr>\n",
       "      <th>0</th>\n",
       "      <td>BMI</td>\n",
       "      <td>0.291820</td>\n",
       "    </tr>\n",
       "    <tr>\n",
       "      <th>1</th>\n",
       "      <td>Smoking</td>\n",
       "      <td>0.017537</td>\n",
       "    </tr>\n",
       "    <tr>\n",
       "      <th>2</th>\n",
       "      <td>AlcoholDrinking</td>\n",
       "      <td>0.009621</td>\n",
       "    </tr>\n",
       "    <tr>\n",
       "      <th>3</th>\n",
       "      <td>Stroke</td>\n",
       "      <td>0.024483</td>\n",
       "    </tr>\n",
       "    <tr>\n",
       "      <th>4</th>\n",
       "      <td>PhysicalHealth</td>\n",
       "      <td>0.056803</td>\n",
       "    </tr>\n",
       "    <tr>\n",
       "      <th>5</th>\n",
       "      <td>MentalHealth</td>\n",
       "      <td>0.053962</td>\n",
       "    </tr>\n",
       "    <tr>\n",
       "      <th>6</th>\n",
       "      <td>DiffWalking</td>\n",
       "      <td>0.033881</td>\n",
       "    </tr>\n",
       "    <tr>\n",
       "      <th>7</th>\n",
       "      <td>Sex</td>\n",
       "      <td>0.024375</td>\n",
       "    </tr>\n",
       "    <tr>\n",
       "      <th>8</th>\n",
       "      <td>AgeCategory</td>\n",
       "      <td>0.212520</td>\n",
       "    </tr>\n",
       "    <tr>\n",
       "      <th>9</th>\n",
       "      <td>Race</td>\n",
       "      <td>0.029802</td>\n",
       "    </tr>\n",
       "    <tr>\n",
       "      <th>10</th>\n",
       "      <td>Diabetic</td>\n",
       "      <td>0.020101</td>\n",
       "    </tr>\n",
       "    <tr>\n",
       "      <th>11</th>\n",
       "      <td>PhysicalActivity</td>\n",
       "      <td>0.022034</td>\n",
       "    </tr>\n",
       "    <tr>\n",
       "      <th>12</th>\n",
       "      <td>GenHealth</td>\n",
       "      <td>0.077078</td>\n",
       "    </tr>\n",
       "    <tr>\n",
       "      <th>13</th>\n",
       "      <td>SleepTime</td>\n",
       "      <td>0.081495</td>\n",
       "    </tr>\n",
       "    <tr>\n",
       "      <th>14</th>\n",
       "      <td>Asthma</td>\n",
       "      <td>0.017126</td>\n",
       "    </tr>\n",
       "    <tr>\n",
       "      <th>15</th>\n",
       "      <td>KidneyDisease</td>\n",
       "      <td>0.008453</td>\n",
       "    </tr>\n",
       "    <tr>\n",
       "      <th>16</th>\n",
       "      <td>SkinCancer</td>\n",
       "      <td>0.018908</td>\n",
       "    </tr>\n",
       "  </tbody>\n",
       "</table>\n",
       "</div>"
      ],
      "text/plain": [
       "            Features  DT IMP Features\n",
       "0                BMI         0.291820\n",
       "1            Smoking         0.017537\n",
       "2    AlcoholDrinking         0.009621\n",
       "3             Stroke         0.024483\n",
       "4     PhysicalHealth         0.056803\n",
       "5       MentalHealth         0.053962\n",
       "6        DiffWalking         0.033881\n",
       "7                Sex         0.024375\n",
       "8        AgeCategory         0.212520\n",
       "9               Race         0.029802\n",
       "10          Diabetic         0.020101\n",
       "11  PhysicalActivity         0.022034\n",
       "12         GenHealth         0.077078\n",
       "13         SleepTime         0.081495\n",
       "14            Asthma         0.017126\n",
       "15     KidneyDisease         0.008453\n",
       "16        SkinCancer         0.018908"
      ]
     },
     "execution_count": 91,
     "metadata": {},
     "output_type": "execute_result"
    }
   ],
   "source": [
    "imp_features = dt_model.feature_importances_\n",
    "imp_features = pd.DataFrame(data={'Features':X_scaled.columns,'DT IMP Features':imp_features})\n",
    "imp_features"
   ]
  },
  {
   "cell_type": "code",
   "execution_count": 92,
   "id": "356f92fc",
   "metadata": {},
   "outputs": [
    {
     "data": {
      "text/html": [
       "<div>\n",
       "<style scoped>\n",
       "    .dataframe tbody tr th:only-of-type {\n",
       "        vertical-align: middle;\n",
       "    }\n",
       "\n",
       "    .dataframe tbody tr th {\n",
       "        vertical-align: top;\n",
       "    }\n",
       "\n",
       "    .dataframe thead th {\n",
       "        text-align: right;\n",
       "    }\n",
       "</style>\n",
       "<table border=\"1\" class=\"dataframe\">\n",
       "  <thead>\n",
       "    <tr style=\"text-align: right;\">\n",
       "      <th></th>\n",
       "      <th>Features</th>\n",
       "      <th>DT IMP Features</th>\n",
       "    </tr>\n",
       "  </thead>\n",
       "  <tbody>\n",
       "    <tr>\n",
       "      <th>0</th>\n",
       "      <td>BMI</td>\n",
       "      <td>0.291820</td>\n",
       "    </tr>\n",
       "    <tr>\n",
       "      <th>8</th>\n",
       "      <td>AgeCategory</td>\n",
       "      <td>0.212520</td>\n",
       "    </tr>\n",
       "    <tr>\n",
       "      <th>13</th>\n",
       "      <td>SleepTime</td>\n",
       "      <td>0.081495</td>\n",
       "    </tr>\n",
       "    <tr>\n",
       "      <th>12</th>\n",
       "      <td>GenHealth</td>\n",
       "      <td>0.077078</td>\n",
       "    </tr>\n",
       "    <tr>\n",
       "      <th>4</th>\n",
       "      <td>PhysicalHealth</td>\n",
       "      <td>0.056803</td>\n",
       "    </tr>\n",
       "    <tr>\n",
       "      <th>5</th>\n",
       "      <td>MentalHealth</td>\n",
       "      <td>0.053962</td>\n",
       "    </tr>\n",
       "    <tr>\n",
       "      <th>6</th>\n",
       "      <td>DiffWalking</td>\n",
       "      <td>0.033881</td>\n",
       "    </tr>\n",
       "    <tr>\n",
       "      <th>9</th>\n",
       "      <td>Race</td>\n",
       "      <td>0.029802</td>\n",
       "    </tr>\n",
       "    <tr>\n",
       "      <th>3</th>\n",
       "      <td>Stroke</td>\n",
       "      <td>0.024483</td>\n",
       "    </tr>\n",
       "    <tr>\n",
       "      <th>7</th>\n",
       "      <td>Sex</td>\n",
       "      <td>0.024375</td>\n",
       "    </tr>\n",
       "    <tr>\n",
       "      <th>11</th>\n",
       "      <td>PhysicalActivity</td>\n",
       "      <td>0.022034</td>\n",
       "    </tr>\n",
       "    <tr>\n",
       "      <th>10</th>\n",
       "      <td>Diabetic</td>\n",
       "      <td>0.020101</td>\n",
       "    </tr>\n",
       "    <tr>\n",
       "      <th>16</th>\n",
       "      <td>SkinCancer</td>\n",
       "      <td>0.018908</td>\n",
       "    </tr>\n",
       "    <tr>\n",
       "      <th>1</th>\n",
       "      <td>Smoking</td>\n",
       "      <td>0.017537</td>\n",
       "    </tr>\n",
       "    <tr>\n",
       "      <th>14</th>\n",
       "      <td>Asthma</td>\n",
       "      <td>0.017126</td>\n",
       "    </tr>\n",
       "    <tr>\n",
       "      <th>2</th>\n",
       "      <td>AlcoholDrinking</td>\n",
       "      <td>0.009621</td>\n",
       "    </tr>\n",
       "    <tr>\n",
       "      <th>15</th>\n",
       "      <td>KidneyDisease</td>\n",
       "      <td>0.008453</td>\n",
       "    </tr>\n",
       "  </tbody>\n",
       "</table>\n",
       "</div>"
      ],
      "text/plain": [
       "            Features  DT IMP Features\n",
       "0                BMI         0.291820\n",
       "8        AgeCategory         0.212520\n",
       "13         SleepTime         0.081495\n",
       "12         GenHealth         0.077078\n",
       "4     PhysicalHealth         0.056803\n",
       "5       MentalHealth         0.053962\n",
       "6        DiffWalking         0.033881\n",
       "9               Race         0.029802\n",
       "3             Stroke         0.024483\n",
       "7                Sex         0.024375\n",
       "11  PhysicalActivity         0.022034\n",
       "10          Diabetic         0.020101\n",
       "16        SkinCancer         0.018908\n",
       "1            Smoking         0.017537\n",
       "14            Asthma         0.017126\n",
       "2    AlcoholDrinking         0.009621\n",
       "15     KidneyDisease         0.008453"
      ]
     },
     "execution_count": 92,
     "metadata": {},
     "output_type": "execute_result"
    }
   ],
   "source": [
    "imp_features = imp_features.sort_values(by='DT IMP Features',ascending=False)\n",
    "imp_features"
   ]
  },
  {
   "cell_type": "code",
   "execution_count": 93,
   "id": "3c77e99b",
   "metadata": {},
   "outputs": [
    {
     "data": {
      "image/png": "[encoded data removed]",
      "text/plain": [
       "<Figure size 1008x576 with 1 Axes>"
      ]
     },
     "metadata": {
      "needs_background": "light"
     },
     "output_type": "display_data"
    }
   ],
   "source": [
    "plt.figure(figsize=(14,8))\n",
    "sns.barplot(x='DT IMP Features',y='Features',data=imp_features)\n",
    "plt.title('Decision Tree Feature Importance',size=25)\n",
    "plt.show()"
   ]
  },
  {
   "cell_type": "markdown",
   "id": "aa053131",
   "metadata": {},
   "source": [
    "# Model Selection"
   ]
  },
  {
   "cell_type": "markdown",
   "id": "f147862d",
   "metadata": {},
   "source": [
    "### Checking for best params using grid_search_cv by using DecisionTreeClassifier"
   ]
  },
  {
   "cell_type": "code",
   "execution_count": 94,
   "id": "3505fd80",
   "metadata": {},
   "outputs": [],
   "source": [
    "grid_search = GridSearchCV(estimator=dt_model,param_grid={'criterion':['gini','entropy'],\n",
    "                                                          'max_depth':[1 , 2 , 3 , 4 , 5 , 6 , 7 , 8 , 9 , 10 , 11 , 12 , 13 , 14 , 15 , 16 , 17 , 18 , 19 , 20 , 21 , 22 , 23 , 24 , 25 , 26 , 27 , 28 , 29 , 30 , 31 , 32 , 33 , 34 , 35 , 36 , 37 , 38 , 39 , 40 , 41 , 42 , 43 , 44 , 45 , 46 , 47 , 48 , 49 , 50 , 51 , 52 , 53 , 54 , 55 , 56 , 57 , 58 , 59 , 60 ]})"
   ]
  },
  {
   "cell_type": "code",
   "execution_count": 95,
   "id": "600fc79e",
   "metadata": {
    "scrolled": true
   },
   "outputs": [
    {
     "name": "stdout",
     "output_type": "stream",
     "text": [
      "Wall time: 19min 8s\n"
     ]
    }
   ],
   "source": [
    "%%time\n",
    "grid_search= grid_search.fit(X_scaled,y)"
   ]
  },
  {
   "cell_type": "code",
   "execution_count": 96,
   "id": "7163e60c",
   "metadata": {
    "scrolled": true
   },
   "outputs": [
    {
     "data": {
      "text/plain": [
       "{'criterion': 'gini', 'max_depth': 57}"
      ]
     },
     "execution_count": 96,
     "metadata": {},
     "output_type": "execute_result"
    }
   ],
   "source": [
    "grid_search.best_params_"
   ]
  },
  {
   "cell_type": "markdown",
   "id": "b80afb2d",
   "metadata": {},
   "source": [
    "### These are the models we are testing for our prediction\n",
    "\n",
    "##### 1. LogisticRegression\n",
    "##### 2.DecisionTreeClassifier\n",
    "##### 3.RandomForestClassifier\n",
    "##### 4.AdaBoostClassifier\n",
    "##### 5.GradientBoostingClassifier\n",
    "##### 6.XGBClassifier\n",
    "##### 7.LGBMClassifier\n",
    "##### 8.KNeighborsClassifier\n",
    "##### 9.GaussianNB"
   ]
  },
  {
   "cell_type": "markdown",
   "id": "75d3046f",
   "metadata": {},
   "source": [
    "### 1. LogisticRegression"
   ]
  },
  {
   "cell_type": "code",
   "execution_count": 97,
   "id": "b9bcda5f",
   "metadata": {},
   "outputs": [
    {
     "name": "stdout",
     "output_type": "stream",
     "text": [
      "Wall time: 457 ms\n"
     ]
    },
    {
     "data": {
      "text/plain": [
       "LogisticRegression()"
      ]
     },
     "execution_count": 97,
     "metadata": {},
     "output_type": "execute_result"
    }
   ],
   "source": [
    "%%time\n",
    "logistic_model = LogisticRegression()\n",
    "logistic_model.fit(X_train,y_train)"
   ]
  },
  {
   "cell_type": "code",
   "execution_count": 98,
   "id": "31109771",
   "metadata": {},
   "outputs": [
    {
     "name": "stdout",
     "output_type": "stream",
     "text": [
      "Accuracy Score                 : 0.7483\n",
      "Precision Score                : 0.7399\n",
      "Recall Score                   : 0.766\n",
      "Confusion Matrix               :\n",
      " [[150414  55428]\n",
      " [ 48177 157665]]\n",
      "Classification Report          :\n",
      "               precision    recall  f1-score   support\n",
      "\n",
      "           0       0.76      0.73      0.74    205842\n",
      "           1       0.74      0.77      0.75    205842\n",
      "\n",
      "    accuracy                           0.75    411684\n",
      "   macro avg       0.75      0.75      0.75    411684\n",
      "weighted avg       0.75      0.75      0.75    411684\n",
      "\n"
     ]
    }
   ],
   "source": [
    "logistic_pred_train = logistic_model.predict(X_train)\n",
    "print('Accuracy Score                 :',round(accuracy_score(y_train,logistic_pred_train),4))\n",
    "print('Precision Score                :',round(precision_score(y_train,logistic_pred_train),4))\n",
    "print('Recall Score                   :',round(recall_score(y_train,logistic_pred_train),4))\n",
    "print('Confusion Matrix               :\\n',confusion_matrix(y_train,logistic_pred_train))\n",
    "print('Classification Report          :\\n',classification_report(y_train,logistic_pred_train))"
   ]
  },
  {
   "cell_type": "code",
   "execution_count": 99,
   "id": "b42b8075",
   "metadata": {},
   "outputs": [
    {
     "name": "stdout",
     "output_type": "stream",
     "text": [
      "Accuracy Score                 : 0.7472\n",
      "Precision Score                : 0.7383\n",
      "Recall Score                   : 0.7659\n",
      "Confusion Matrix               :\n",
      " [[49987 18627]\n",
      " [16063 52551]]\n",
      "Classification Report          :\n",
      "               precision    recall  f1-score   support\n",
      "\n",
      "           0       0.76      0.73      0.74     68614\n",
      "           1       0.74      0.77      0.75     68614\n",
      "\n",
      "    accuracy                           0.75    137228\n",
      "   macro avg       0.75      0.75      0.75    137228\n",
      "weighted avg       0.75      0.75      0.75    137228\n",
      "\n"
     ]
    }
   ],
   "source": [
    "logistic_pred_test = logistic_model.predict(X_test)\n",
    "print('Accuracy Score                 :',round(accuracy_score(y_test,logistic_pred_test),4))\n",
    "print('Precision Score                :',round(precision_score(y_test,logistic_pred_test),4))\n",
    "print('Recall Score                   :',round(recall_score(y_test,logistic_pred_test),4))\n",
    "print('Confusion Matrix               :\\n',confusion_matrix(y_test,logistic_pred_test))\n",
    "print('Classification Report          :\\n',classification_report(y_test,logistic_pred_test))"
   ]
  },
  {
   "cell_type": "code",
   "execution_count": 100,
   "id": "af8c5120",
   "metadata": {},
   "outputs": [
    {
     "name": "stdout",
     "output_type": "stream",
     "text": [
      "Area Under Curve     : 0.7472090243973533\n"
     ]
    },
    {
     "data": {
      "text/plain": [
       "Text(0, 0.5, 'True Positive Rate')"
      ]
     },
     "execution_count": 100,
     "metadata": {},
     "output_type": "execute_result"
    },
    {
     "data": {
      "image/png": "[encoded data removed]",
      "text/plain": [
       "<Figure size 432x288 with 1 Axes>"
      ]
     },
     "metadata": {
      "needs_background": "light"
     },
     "output_type": "display_data"
    }
   ],
   "source": [
    "fpr, tpr, thresholds = roc_curve(y_test,logistic_model.predict_proba (X_test)[:,1])\n",
    "auc_score = roc_auc_score(y_test, logistic_pred_test)\n",
    "print('Area Under Curve     :',auc_score)\n",
    "plt.plot(fpr, tpr, color='red', label='logit model ( area  = %0.2f)'%auc_score)\n",
    "plt.plot([0, 1], [0, 1], 'k--')\n",
    "plt.xlabel('False Positive Rate or [1 - True Negative Rate]')\n",
    "plt.ylabel('True Positive Rate')"
   ]
  },
  {
   "cell_type": "markdown",
   "id": "6073e8ed",
   "metadata": {},
   "source": [
    "### 2.DecisionTreeClassifier"
   ]
  },
  {
   "cell_type": "code",
   "execution_count": 101,
   "id": "8ab5b5fb",
   "metadata": {
    "scrolled": true
   },
   "outputs": [
    {
     "name": "stdout",
     "output_type": "stream",
     "text": [
      "Wall time: 1.84 s\n"
     ]
    },
    {
     "data": {
      "text/plain": [
       "DecisionTreeClassifier(max_depth=57, random_state=15)"
      ]
     },
     "execution_count": 101,
     "metadata": {},
     "output_type": "execute_result"
    }
   ],
   "source": [
    "%%time\n",
    "dt_model = DecisionTreeClassifier(random_state=15,max_depth=57)\n",
    "dt_model.fit(X_train,y_train)"
   ]
  },
  {
   "cell_type": "code",
   "execution_count": 102,
   "id": "76909f9c",
   "metadata": {},
   "outputs": [
    {
     "name": "stdout",
     "output_type": "stream",
     "text": [
      "Accuracy Score                 : 0.9979\n",
      "Precision Score                : 0.9958\n",
      "Recall Score                   : 1.0\n",
      "Confusion Matrix               :\n",
      " [[204975    867]\n",
      " [     5 205837]]\n",
      "Classification Report          :\n",
      "               precision    recall  f1-score   support\n",
      "\n",
      "           0       1.00      1.00      1.00    205842\n",
      "           1       1.00      1.00      1.00    205842\n",
      "\n",
      "    accuracy                           1.00    411684\n",
      "   macro avg       1.00      1.00      1.00    411684\n",
      "weighted avg       1.00      1.00      1.00    411684\n",
      "\n"
     ]
    }
   ],
   "source": [
    "dt_pred_train = dt_model.predict(X_train)\n",
    "print('Accuracy Score                 :',round(accuracy_score(y_train,dt_pred_train),4))\n",
    "print('Precision Score                :',round(precision_score(y_train,dt_pred_train),4))\n",
    "print('Recall Score                   :',round(recall_score(y_train,dt_pred_train),4))\n",
    "print('Confusion Matrix               :\\n',confusion_matrix(y_train,dt_pred_train))\n",
    "print('Classification Report          :\\n',classification_report(y_train,dt_pred_train))"
   ]
  },
  {
   "cell_type": "code",
   "execution_count": 103,
   "id": "7a301a65",
   "metadata": {},
   "outputs": [
    {
     "name": "stdout",
     "output_type": "stream",
     "text": [
      "Accuracy Score                 : 0.9501\n",
      "Precision Score                : 0.9099\n",
      "Recall Score                   : 0.999\n",
      "Confusion Matrix               :\n",
      " [[61827  6787]\n",
      " [   66 68548]]\n",
      "Classification Report          :\n",
      "               precision    recall  f1-score   support\n",
      "\n",
      "           0       1.00      0.90      0.95     68614\n",
      "           1       0.91      1.00      0.95     68614\n",
      "\n",
      "    accuracy                           0.95    137228\n",
      "   macro avg       0.95      0.95      0.95    137228\n",
      "weighted avg       0.95      0.95      0.95    137228\n",
      "\n"
     ]
    }
   ],
   "source": [
    "dt_pred_test = dt_model.predict(X_test)\n",
    "print('Accuracy Score                 :',round(accuracy_score(y_test,dt_pred_test),4))\n",
    "print('Precision Score                :',round(precision_score(y_test,dt_pred_test),4))\n",
    "print('Recall Score                   :',round(recall_score(y_test,dt_pred_test),4))\n",
    "print('Confusion Matrix               :\\n',confusion_matrix(y_test,dt_pred_test))\n",
    "print('Classification Report          :\\n',classification_report(y_test,dt_pred_test))"
   ]
  },
  {
   "cell_type": "code",
   "execution_count": 104,
   "id": "c8ef118c",
   "metadata": {},
   "outputs": [
    {
     "name": "stdout",
     "output_type": "stream",
     "text": [
      "Area Under Curve     : 0.9500612119975516\n"
     ]
    },
    {
     "data": {
      "text/plain": [
       "Text(0, 0.5, 'True Positive Rate')"
      ]
     },
     "execution_count": 104,
     "metadata": {},
     "output_type": "execute_result"
    },
    {
     "data": {
      "image/png": "[encoded data removed]",
      "text/plain": [
       "<Figure size 432x288 with 1 Axes>"
      ]
     },
     "metadata": {
      "needs_background": "light"
     },
     "output_type": "display_data"
    }
   ],
   "source": [
    "fpr, tpr, thresholds = roc_curve(y_test,dt_model.predict_proba (X_test)[:,1])\n",
    "auc_score = roc_auc_score(y_test, dt_pred_test)\n",
    "print('Area Under Curve     :',auc_score)\n",
    "plt.plot(fpr, tpr, color='red', label='logit model ( area  = %0.2f)'%auc_score)\n",
    "plt.plot([0, 1], [0, 1], 'k--')\n",
    "plt.xlabel('False Positive Rate or [1 - True Negative Rate]')\n",
    "plt.ylabel('True Positive Rate')"
   ]
  },
  {
   "cell_type": "markdown",
   "id": "2e6e829f",
   "metadata": {},
   "source": [
    "### 3. RandomForestClassifier"
   ]
  },
  {
   "cell_type": "code",
   "execution_count": 105,
   "id": "6b0ed3d4",
   "metadata": {},
   "outputs": [
    {
     "name": "stdout",
     "output_type": "stream",
     "text": [
      "Wall time: 45.2 s\n"
     ]
    },
    {
     "data": {
      "text/plain": [
       "RandomForestClassifier(max_depth=57, random_state=15)"
      ]
     },
     "execution_count": 105,
     "metadata": {},
     "output_type": "execute_result"
    }
   ],
   "source": [
    "%%time\n",
    "rf_model = RandomForestClassifier(random_state=15,max_depth=57)\n",
    "rf_model.fit(X_train,y_train)"
   ]
  },
  {
   "cell_type": "code",
   "execution_count": 106,
   "id": "282dcaf0",
   "metadata": {},
   "outputs": [
    {
     "name": "stdout",
     "output_type": "stream",
     "text": [
      "Accuracy Score                 : 0.9979\n",
      "Precision Score                : 0.9958\n",
      "Recall Score                   : 1.0\n",
      "Confusion Matrix               :\n",
      " [[204981    861]\n",
      " [     3 205839]]\n",
      "Classification Report          :\n",
      "               precision    recall  f1-score   support\n",
      "\n",
      "           0       1.00      1.00      1.00    205842\n",
      "           1       1.00      1.00      1.00    205842\n",
      "\n",
      "    accuracy                           1.00    411684\n",
      "   macro avg       1.00      1.00      1.00    411684\n",
      "weighted avg       1.00      1.00      1.00    411684\n",
      "\n"
     ]
    }
   ],
   "source": [
    "rf_pred_train = rf_model.predict(X_train)\n",
    "print('Accuracy Score                 :',round(accuracy_score(y_train,rf_pred_train),4))\n",
    "print('Precision Score                :',round(precision_score(y_train,rf_pred_train),4))\n",
    "print('Recall Score                   :',round(recall_score(y_train,rf_pred_train),4))\n",
    "print('Confusion Matrix               :\\n',confusion_matrix(y_train,rf_pred_train))\n",
    "print('Classification Report          :\\n',classification_report(y_train,rf_pred_train))"
   ]
  },
  {
   "cell_type": "code",
   "execution_count": 107,
   "id": "cf4e41f9",
   "metadata": {},
   "outputs": [
    {
     "name": "stdout",
     "output_type": "stream",
     "text": [
      "Accuracy Score                 : 0.9656\n",
      "Precision Score                : 0.9363\n",
      "Recall Score                   : 0.9991\n",
      "Confusion Matrix               :\n",
      " [[63948  4666]\n",
      " [   61 68553]]\n",
      "Classification Report          :\n",
      "               precision    recall  f1-score   support\n",
      "\n",
      "           0       1.00      0.93      0.96     68614\n",
      "           1       0.94      1.00      0.97     68614\n",
      "\n",
      "    accuracy                           0.97    137228\n",
      "   macro avg       0.97      0.97      0.97    137228\n",
      "weighted avg       0.97      0.97      0.97    137228\n",
      "\n"
     ]
    }
   ],
   "source": [
    "rf_pred_test = rf_model.predict(X_test)\n",
    "print('Accuracy Score                 :',round(accuracy_score(y_test,rf_pred_test),4))\n",
    "print('Precision Score                :',round(precision_score(y_test,rf_pred_test),4))\n",
    "print('Recall Score                   :',round(recall_score(y_test,rf_pred_test),4))\n",
    "print('Confusion Matrix               :\\n',confusion_matrix(y_test,rf_pred_test))\n",
    "print('Classification Report          :\\n',classification_report(y_test,rf_pred_test))"
   ]
  },
  {
   "cell_type": "code",
   "execution_count": 108,
   "id": "d66046a7",
   "metadata": {},
   "outputs": [
    {
     "name": "stdout",
     "output_type": "stream",
     "text": [
      "Area Under Curve     : 0.9655536770921387\n"
     ]
    },
    {
     "data": {
      "text/plain": [
       "Text(0, 0.5, 'True Positive Rate')"
      ]
     },
     "execution_count": 108,
     "metadata": {},
     "output_type": "execute_result"
    },
    {
     "data": {
      "image/png": "[encoded data removed]",
      "text/plain": [
       "<Figure size 432x288 with 1 Axes>"
      ]
     },
     "metadata": {
      "needs_background": "light"
     },
     "output_type": "display_data"
    }
   ],
   "source": [
    "fpr, tpr, thresholds = roc_curve(y_test,rf_model.predict_proba (X_test)[:,1])\n",
    "auc_score = roc_auc_score(y_test, rf_pred_test)\n",
    "print('Area Under Curve     :',auc_score)\n",
    "plt.plot(fpr, tpr, color='red', label='logit model ( area  = %0.2f)'%auc_score)\n",
    "plt.plot([0, 1], [0, 1], 'k--')\n",
    "plt.xlabel('False Positive Rate or [1 - True Negative Rate]')\n",
    "plt.ylabel('True Positive Rate')"
   ]
  },
  {
   "cell_type": "markdown",
   "id": "63fc8d1e",
   "metadata": {},
   "source": [
    "### 4. AdaBoostClassifier"
   ]
  },
  {
   "cell_type": "code",
   "execution_count": 109,
   "id": "e896f5ee",
   "metadata": {},
   "outputs": [
    {
     "name": "stdout",
     "output_type": "stream",
     "text": [
      "Wall time: 10.9 s\n"
     ]
    },
    {
     "data": {
      "text/plain": [
       "AdaBoostClassifier(random_state=15)"
      ]
     },
     "execution_count": 109,
     "metadata": {},
     "output_type": "execute_result"
    }
   ],
   "source": [
    "%%time\n",
    "adaboost_model = AdaBoostClassifier(random_state=15)\n",
    "adaboost_model.fit(X_train,y_train)"
   ]
  },
  {
   "cell_type": "code",
   "execution_count": 110,
   "id": "891ec4f0",
   "metadata": {},
   "outputs": [
    {
     "name": "stdout",
     "output_type": "stream",
     "text": [
      "Accuracy Score                 : 0.7587\n",
      "Precision Score                : 0.7504\n",
      "Recall Score                   : 0.7753\n",
      "Confusion Matrix               :\n",
      " [[152762  53080]\n",
      " [ 46252 159590]]\n",
      "Classification Report          :\n",
      "               precision    recall  f1-score   support\n",
      "\n",
      "           0       0.77      0.74      0.75    205842\n",
      "           1       0.75      0.78      0.76    205842\n",
      "\n",
      "    accuracy                           0.76    411684\n",
      "   macro avg       0.76      0.76      0.76    411684\n",
      "weighted avg       0.76      0.76      0.76    411684\n",
      "\n"
     ]
    }
   ],
   "source": [
    "adaboost_pred_train = adaboost_model.predict(X_train)\n",
    "print('Accuracy Score                 :',round(accuracy_score(y_train,adaboost_pred_train),4))\n",
    "print('Precision Score                :',round(precision_score(y_train,adaboost_pred_train),4))\n",
    "print('Recall Score                   :',round(recall_score(y_train,adaboost_pred_train),4))\n",
    "print('Confusion Matrix               :\\n',confusion_matrix(y_train,adaboost_pred_train))\n",
    "print('Classification Report          :\\n',classification_report(y_train,adaboost_pred_train))"
   ]
  },
  {
   "cell_type": "code",
   "execution_count": 111,
   "id": "4416312d",
   "metadata": {},
   "outputs": [
    {
     "name": "stdout",
     "output_type": "stream",
     "text": [
      "Accuracy Score                 : 0.7565\n",
      "Precision Score                : 0.748\n",
      "Recall Score                   : 0.7738\n",
      "Confusion Matrix               :\n",
      " [[50723 17891]\n",
      " [15519 53095]]\n",
      "Classification Report          :\n",
      "               precision    recall  f1-score   support\n",
      "\n",
      "           0       0.77      0.74      0.75     68614\n",
      "           1       0.75      0.77      0.76     68614\n",
      "\n",
      "    accuracy                           0.76    137228\n",
      "   macro avg       0.76      0.76      0.76    137228\n",
      "weighted avg       0.76      0.76      0.76    137228\n",
      "\n"
     ]
    }
   ],
   "source": [
    "adaboost_pred_test = adaboost_model.predict(X_test)\n",
    "print('Accuracy Score                 :',round(accuracy_score(y_test,adaboost_pred_test),4))\n",
    "print('Precision Score                :',round(precision_score(y_test,adaboost_pred_test),4))\n",
    "print('Recall Score                   :',round(recall_score(y_test,adaboost_pred_test),4))\n",
    "print('Confusion Matrix               :\\n',confusion_matrix(y_test,adaboost_pred_test))\n",
    "print('Classification Report          :\\n',classification_report(y_test,adaboost_pred_test))"
   ]
  },
  {
   "cell_type": "code",
   "execution_count": 112,
   "id": "d724c82f",
   "metadata": {},
   "outputs": [
    {
     "name": "stdout",
     "output_type": "stream",
     "text": [
      "Area Under Curve     : 0.7565365668813944\n"
     ]
    },
    {
     "data": {
      "text/plain": [
       "Text(0, 0.5, 'True Positive Rate')"
      ]
     },
     "execution_count": 112,
     "metadata": {},
     "output_type": "execute_result"
    },
    {
     "data": {
      "image/png": "[encoded data removed]",
      "text/plain": [
       "<Figure size 432x288 with 1 Axes>"
      ]
     },
     "metadata": {
      "needs_background": "light"
     },
     "output_type": "display_data"
    }
   ],
   "source": [
    "fpr, tpr, thresholds = roc_curve(y_test,adaboost_model.predict_proba (X_test)[:,1])\n",
    "auc_score = roc_auc_score(y_test, adaboost_pred_test)\n",
    "print('Area Under Curve     :',auc_score)\n",
    "plt.plot(fpr, tpr, color='red', label='logit model ( area  = %0.2f)'%auc_score)\n",
    "plt.plot([0, 1], [0, 1], 'k--')\n",
    "plt.xlabel('False Positive Rate or [1 - True Negative Rate]')\n",
    "plt.ylabel('True Positive Rate')"
   ]
  },
  {
   "cell_type": "markdown",
   "id": "b33a8441",
   "metadata": {},
   "source": [
    "### 5. GradientBoostingClassifier"
   ]
  },
  {
   "cell_type": "code",
   "execution_count": 113,
   "id": "8a0ca1ce",
   "metadata": {},
   "outputs": [
    {
     "name": "stdout",
     "output_type": "stream",
     "text": [
      "Wall time: 40.3 s\n"
     ]
    },
    {
     "data": {
      "text/plain": [
       "GradientBoostingClassifier(random_state=15)"
      ]
     },
     "execution_count": 113,
     "metadata": {},
     "output_type": "execute_result"
    }
   ],
   "source": [
    "%%time\n",
    "gradient_model = GradientBoostingClassifier(random_state=15)\n",
    "gradient_model.fit(X_train,y_train)"
   ]
  },
  {
   "cell_type": "code",
   "execution_count": 114,
   "id": "2220bcc1",
   "metadata": {},
   "outputs": [
    {
     "name": "stdout",
     "output_type": "stream",
     "text": [
      "Accuracy Score                 : 0.7631\n",
      "Precision Score                : 0.7447\n",
      "Recall Score                   : 0.8008\n",
      "Confusion Matrix               :\n",
      " [[149326  56516]\n",
      " [ 40994 164848]]\n",
      "Classification Report          :\n",
      "               precision    recall  f1-score   support\n",
      "\n",
      "           0       0.78      0.73      0.75    205842\n",
      "           1       0.74      0.80      0.77    205842\n",
      "\n",
      "    accuracy                           0.76    411684\n",
      "   macro avg       0.76      0.76      0.76    411684\n",
      "weighted avg       0.76      0.76      0.76    411684\n",
      "\n"
     ]
    }
   ],
   "source": [
    "gradient_pred_train = gradient_model.predict(X_train)\n",
    "print('Accuracy Score                 :',round(accuracy_score(y_train,gradient_pred_train),4))\n",
    "print('Precision Score                :',round(precision_score(y_train,gradient_pred_train),4))\n",
    "print('Recall Score                   :',round(recall_score(y_train,gradient_pred_train),4))\n",
    "print('Confusion Matrix               :\\n',confusion_matrix(y_train,gradient_pred_train))\n",
    "print('Classification Report          :\\n',classification_report(y_train,gradient_pred_train))"
   ]
  },
  {
   "cell_type": "code",
   "execution_count": 115,
   "id": "e1f83db5",
   "metadata": {},
   "outputs": [
    {
     "name": "stdout",
     "output_type": "stream",
     "text": [
      "Accuracy Score                 : 0.7611\n",
      "Precision Score                : 0.7422\n",
      "Recall Score                   : 0.8002\n",
      "Confusion Matrix               :\n",
      " [[49547 19067]\n",
      " [13711 54903]]\n",
      "Classification Report          :\n",
      "               precision    recall  f1-score   support\n",
      "\n",
      "           0       0.78      0.72      0.75     68614\n",
      "           1       0.74      0.80      0.77     68614\n",
      "\n",
      "    accuracy                           0.76    137228\n",
      "   macro avg       0.76      0.76      0.76    137228\n",
      "weighted avg       0.76      0.76      0.76    137228\n",
      "\n"
     ]
    }
   ],
   "source": [
    "gradient_pred_test = gradient_model.predict(X_test)\n",
    "print('Accuracy Score                 :',round(accuracy_score(y_test,gradient_pred_test),4))\n",
    "print('Precision Score                :',round(precision_score(y_test,gradient_pred_test),4))\n",
    "print('Recall Score                   :',round(recall_score(y_test,gradient_pred_test),4))\n",
    "print('Confusion Matrix               :\\n',confusion_matrix(y_test,gradient_pred_test))\n",
    "print('Classification Report          :\\n',classification_report(y_test,gradient_pred_test))"
   ]
  },
  {
   "cell_type": "code",
   "execution_count": 116,
   "id": "df3e434b",
   "metadata": {},
   "outputs": [
    {
     "name": "stdout",
     "output_type": "stream",
     "text": [
      "Area Under Curve     : 0.7611420409828897\n"
     ]
    },
    {
     "data": {
      "text/plain": [
       "Text(0, 0.5, 'True Positive Rate')"
      ]
     },
     "execution_count": 116,
     "metadata": {},
     "output_type": "execute_result"
    },
    {
     "data": {
      "image/png": "[encoded data removed]",
      "text/plain": [
       "<Figure size 432x288 with 1 Axes>"
      ]
     },
     "metadata": {
      "needs_background": "light"
     },
     "output_type": "display_data"
    }
   ],
   "source": [
    "fpr, tpr, thresholds = roc_curve(y_test,gradient_model.predict_proba (X_test)[:,1])\n",
    "auc_score = roc_auc_score(y_test, gradient_pred_test)\n",
    "print('Area Under Curve     :',auc_score)\n",
    "plt.plot(fpr, tpr, color='red', label='logit model ( area  = %0.2f)'%auc_score)\n",
    "plt.plot([0, 1], [0, 1], 'k--')\n",
    "plt.xlabel('False Positive Rate or [1 - True Negative Rate]')\n",
    "plt.ylabel('True Positive Rate')"
   ]
  },
  {
   "cell_type": "markdown",
   "id": "abf05d11",
   "metadata": {},
   "source": [
    "### 6. XGBClassifier"
   ]
  },
  {
   "cell_type": "code",
   "execution_count": 117,
   "id": "1fe9edc9",
   "metadata": {},
   "outputs": [
    {
     "name": "stdout",
     "output_type": "stream",
     "text": [
      "[11:32:57] WARNING: C:/Users/Administrator/workspace/xgboost-win64_release_1.5.1/src/learner.cc:1115: Starting in XGBoost 1.3.0, the default evaluation metric used with the objective 'binary:logistic' was changed from 'error' to 'logloss'. Explicitly set eval_metric if you'd like to restore the old behavior.\n",
      "Wall time: 1min 40s\n"
     ]
    },
    {
     "data": {
      "text/plain": [
       "XGBClassifier(base_score=0.5, booster='gbtree', colsample_bylevel=1,\n",
       "              colsample_bynode=1, colsample_bytree=1, enable_categorical=False,\n",
       "              gamma=0, gpu_id=-1, importance_type=None,\n",
       "              interaction_constraints='', learning_rate=0.300000012,\n",
       "              max_delta_step=0, max_depth=57, min_child_weight=1, missing=nan,\n",
       "              monotone_constraints='()', n_estimators=100, n_jobs=8,\n",
       "              num_parallel_tree=1, predictor='auto', random_state=15,\n",
       "              reg_alpha=0, reg_lambda=1, scale_pos_weight=1, subsample=1,\n",
       "              tree_method='exact', validate_parameters=1, verbosity=None)"
      ]
     },
     "execution_count": 117,
     "metadata": {},
     "output_type": "execute_result"
    }
   ],
   "source": [
    "%%time\n",
    "xgb_model = XGBClassifier(max_depth=57,random_state=15)\n",
    "xgb_model.fit(X_train,y_train)"
   ]
  },
  {
   "cell_type": "code",
   "execution_count": 118,
   "id": "3d0f2f92",
   "metadata": {},
   "outputs": [
    {
     "name": "stdout",
     "output_type": "stream",
     "text": [
      "Accuracy Score                 : 0.9979\n",
      "Precision Score                : 0.9958\n",
      "Recall Score                   : 1.0\n",
      "Confusion Matrix               :\n",
      " [[204979    863]\n",
      " [     4 205838]]\n",
      "Classification Report          :\n",
      "               precision    recall  f1-score   support\n",
      "\n",
      "           0       1.00      1.00      1.00    205842\n",
      "           1       1.00      1.00      1.00    205842\n",
      "\n",
      "    accuracy                           1.00    411684\n",
      "   macro avg       1.00      1.00      1.00    411684\n",
      "weighted avg       1.00      1.00      1.00    411684\n",
      "\n"
     ]
    }
   ],
   "source": [
    "xgb_pred_train = xgb_model.predict(X_train)\n",
    "print('Accuracy Score                 :',round(accuracy_score(y_train,xgb_pred_train),4))\n",
    "print('Precision Score                :',round(precision_score(y_train,xgb_pred_train),4))\n",
    "print('Recall Score                   :',round(recall_score(y_train,xgb_pred_train),4))\n",
    "print('Confusion Matrix               :\\n',confusion_matrix(y_train,xgb_pred_train))\n",
    "print('Classification Report          :\\n',classification_report(y_train,xgb_pred_train))"
   ]
  },
  {
   "cell_type": "code",
   "execution_count": 119,
   "id": "b1c6e90e",
   "metadata": {},
   "outputs": [
    {
     "name": "stdout",
     "output_type": "stream",
     "text": [
      "Accuracy Score                 : 0.9635\n",
      "Precision Score                : 0.9326\n",
      "Recall Score                   : 0.9991\n",
      "Confusion Matrix               :\n",
      " [[63662  4952]\n",
      " [   63 68551]]\n",
      "Classification Report          :\n",
      "               precision    recall  f1-score   support\n",
      "\n",
      "           0       1.00      0.93      0.96     68614\n",
      "           1       0.93      1.00      0.96     68614\n",
      "\n",
      "    accuracy                           0.96    137228\n",
      "   macro avg       0.97      0.96      0.96    137228\n",
      "weighted avg       0.97      0.96      0.96    137228\n",
      "\n"
     ]
    }
   ],
   "source": [
    "xgb_pred_test = xgb_model.predict(X_test)\n",
    "print('Accuracy Score                 :',round(accuracy_score(y_test,xgb_pred_test),4))\n",
    "print('Precision Score                :',round(precision_score(y_test,xgb_pred_test),4))\n",
    "print('Recall Score                   :',round(recall_score(y_test,xgb_pred_test),4))\n",
    "print('Confusion Matrix               :\\n',confusion_matrix(y_test,xgb_pred_test))\n",
    "print('Classification Report          :\\n',classification_report(y_test,xgb_pred_test))"
   ]
  },
  {
   "cell_type": "code",
   "execution_count": 120,
   "id": "704b5a2e",
   "metadata": {},
   "outputs": [
    {
     "name": "stdout",
     "output_type": "stream",
     "text": [
      "Area Under Curve     : 0.9634549800332294\n"
     ]
    },
    {
     "data": {
      "text/plain": [
       "Text(0, 0.5, 'True Positive Rate')"
      ]
     },
     "execution_count": 120,
     "metadata": {},
     "output_type": "execute_result"
    },
    {
     "data": {
      "image/png": "[encoded data removed]",
      "text/plain": [
       "<Figure size 432x288 with 1 Axes>"
      ]
     },
     "metadata": {
      "needs_background": "light"
     },
     "output_type": "display_data"
    }
   ],
   "source": [
    "fpr, tpr, thresholds = roc_curve(y_test,xgb_model.predict_proba (X_test)[:,1])\n",
    "auc_score = roc_auc_score(y_test, xgb_pred_test)\n",
    "print('Area Under Curve     :',auc_score)\n",
    "plt.plot(fpr, tpr, color='red', label='logit model ( area  = %0.2f)'%auc_score)\n",
    "plt.plot([0, 1], [0, 1], 'k--')\n",
    "plt.xlabel('False Positive Rate or [1 - True Negative Rate]')\n",
    "plt.ylabel('True Positive Rate')"
   ]
  },
  {
   "cell_type": "markdown",
   "id": "1902ac81",
   "metadata": {},
   "source": [
    "### 7. LGBMClassifier"
   ]
  },
  {
   "cell_type": "code",
   "execution_count": 121,
   "id": "04cb241b",
   "metadata": {},
   "outputs": [
    {
     "name": "stdout",
     "output_type": "stream",
     "text": [
      "Wall time: 1.31 s\n"
     ]
    },
    {
     "data": {
      "text/plain": [
       "LGBMClassifier(max_depth=57, random_state=15)"
      ]
     },
     "execution_count": 121,
     "metadata": {},
     "output_type": "execute_result"
    }
   ],
   "source": [
    "%%time\n",
    "lgb_model      = LGBMClassifier(max_depth=57,random_state=15)\n",
    "lgb_model.fit(X_train,y_train)"
   ]
  },
  {
   "cell_type": "code",
   "execution_count": 122,
   "id": "f1ed00a4",
   "metadata": {},
   "outputs": [
    {
     "name": "stdout",
     "output_type": "stream",
     "text": [
      "Accuracy Score                 : 0.7695\n",
      "Precision Score                : 0.7428\n",
      "Recall Score                   : 0.8247\n",
      "Confusion Matrix               :\n",
      " [[147050  58792]\n",
      " [ 36081 169761]]\n",
      "Classification Report          :\n",
      "               precision    recall  f1-score   support\n",
      "\n",
      "           0       0.80      0.71      0.76    205842\n",
      "           1       0.74      0.82      0.78    205842\n",
      "\n",
      "    accuracy                           0.77    411684\n",
      "   macro avg       0.77      0.77      0.77    411684\n",
      "weighted avg       0.77      0.77      0.77    411684\n",
      "\n"
     ]
    }
   ],
   "source": [
    "lgb_pred_train = lgb_model.predict(X_train)\n",
    "print('Accuracy Score                 :',round(accuracy_score(y_train,lgb_pred_train),4))\n",
    "print('Precision Score                :',round(precision_score(y_train,lgb_pred_train),4))\n",
    "print('Recall Score                   :',round(recall_score(y_train,lgb_pred_train),4))\n",
    "print('Confusion Matrix               :\\n',confusion_matrix(y_train,lgb_pred_train))\n",
    "print('Classification Report          :\\n',classification_report(y_train,lgb_pred_train))"
   ]
  },
  {
   "cell_type": "code",
   "execution_count": 123,
   "id": "84a0e94e",
   "metadata": {},
   "outputs": [
    {
     "name": "stdout",
     "output_type": "stream",
     "text": [
      "Accuracy Score                 : 0.7668\n",
      "Precision Score                : 0.7399\n",
      "Recall Score                   : 0.823\n",
      "Confusion Matrix               :\n",
      " [[48765 19849]\n",
      " [12147 56467]]\n",
      "Classification Report          :\n",
      "               precision    recall  f1-score   support\n",
      "\n",
      "           0       0.80      0.71      0.75     68614\n",
      "           1       0.74      0.82      0.78     68614\n",
      "\n",
      "    accuracy                           0.77    137228\n",
      "   macro avg       0.77      0.77      0.77    137228\n",
      "weighted avg       0.77      0.77      0.77    137228\n",
      "\n"
     ]
    }
   ],
   "source": [
    "lgb_pred_test = lgb_model.predict(X_test)\n",
    "print('Accuracy Score                 :',round(accuracy_score(y_test,lgb_pred_test),4))\n",
    "print('Precision Score                :',round(precision_score(y_test,lgb_pred_test),4))\n",
    "print('Recall Score                   :',round(recall_score(y_test,lgb_pred_test),4))\n",
    "print('Confusion Matrix               :\\n',confusion_matrix(y_test,lgb_pred_test))\n",
    "print('Classification Report          :\\n',classification_report(y_test,lgb_pred_test))"
   ]
  },
  {
   "cell_type": "code",
   "execution_count": 124,
   "id": "a9464da4",
   "metadata": {},
   "outputs": [
    {
     "name": "stdout",
     "output_type": "stream",
     "text": [
      "Area Under Curve     : 0.7668405864692337\n"
     ]
    },
    {
     "data": {
      "text/plain": [
       "Text(0, 0.5, 'True Positive Rate')"
      ]
     },
     "execution_count": 124,
     "metadata": {},
     "output_type": "execute_result"
    },
    {
     "data": {
      "image/png": "[encoded data removed]",
      "text/plain": [
       "<Figure size 432x288 with 1 Axes>"
      ]
     },
     "metadata": {
      "needs_background": "light"
     },
     "output_type": "display_data"
    }
   ],
   "source": [
    "fpr, tpr, thresholds = roc_curve(y_test,lgb_model.predict_proba (X_test)[:,1])\n",
    "auc_score = roc_auc_score(y_test, lgb_pred_test)\n",
    "print('Area Under Curve     :',auc_score)\n",
    "plt.plot(fpr, tpr, color='red', label='logit model ( area  = %0.2f)'%auc_score)\n",
    "plt.plot([0, 1], [0, 1], 'k--')\n",
    "plt.xlabel('False Positive Rate or [1 - True Negative Rate]')\n",
    "plt.ylabel('True Positive Rate')"
   ]
  },
  {
   "cell_type": "markdown",
   "id": "f829fc76",
   "metadata": {},
   "source": [
    "### 8. KNeighborsClassifier"
   ]
  },
  {
   "cell_type": "code",
   "execution_count": 125,
   "id": "0a8636d4",
   "metadata": {
    "scrolled": false
   },
   "outputs": [
    {
     "name": "stdout",
     "output_type": "stream",
     "text": [
      "Wall time: 32.9 ms\n"
     ]
    },
    {
     "data": {
      "text/plain": [
       "KNeighborsClassifier()"
      ]
     },
     "execution_count": 125,
     "metadata": {},
     "output_type": "execute_result"
    }
   ],
   "source": [
    "%%time\n",
    "knn_model = KNeighborsClassifier()\n",
    "knn_model.fit(X_train,y_train)"
   ]
  },
  {
   "cell_type": "code",
   "execution_count": 126,
   "id": "cdc0a6d0",
   "metadata": {},
   "outputs": [
    {
     "name": "stdout",
     "output_type": "stream",
     "text": [
      "Accuracy Score                 : 0.9156\n",
      "Precision Score                : 0.8568\n",
      "Recall Score                   : 0.9981\n",
      "Confusion Matrix               :\n",
      " [[171502  34340]\n",
      " [   396 205446]]\n",
      "Classification Report          :\n",
      "               precision    recall  f1-score   support\n",
      "\n",
      "           0       1.00      0.83      0.91    205842\n",
      "           1       0.86      1.00      0.92    205842\n",
      "\n",
      "    accuracy                           0.92    411684\n",
      "   macro avg       0.93      0.92      0.92    411684\n",
      "weighted avg       0.93      0.92      0.92    411684\n",
      "\n"
     ]
    }
   ],
   "source": [
    "knn_pred_train = knn_model.predict(X_train)\n",
    "print('Accuracy Score                 :',round(accuracy_score(y_train,knn_pred_train),4))\n",
    "print('Precision Score                :',round(precision_score(y_train,knn_pred_train),4))\n",
    "print('Recall Score                   :',round(recall_score(y_train,knn_pred_train),4))\n",
    "print('Confusion Matrix               :\\n',confusion_matrix(y_train,knn_pred_train))\n",
    "print('Classification Report          :\\n',classification_report(y_train,knn_pred_train))"
   ]
  },
  {
   "cell_type": "code",
   "execution_count": 127,
   "id": "88f170b2",
   "metadata": {},
   "outputs": [
    {
     "name": "stdout",
     "output_type": "stream",
     "text": [
      "Accuracy Score                 : 0.8832\n",
      "Precision Score                : 0.8146\n",
      "Recall Score                   : 0.9922\n",
      "Confusion Matrix               :\n",
      " [[53124 15490]\n",
      " [  534 68080]]\n",
      "Classification Report          :\n",
      "               precision    recall  f1-score   support\n",
      "\n",
      "           0       0.99      0.77      0.87     68614\n",
      "           1       0.81      0.99      0.89     68614\n",
      "\n",
      "    accuracy                           0.88    137228\n",
      "   macro avg       0.90      0.88      0.88    137228\n",
      "weighted avg       0.90      0.88      0.88    137228\n",
      "\n"
     ]
    }
   ],
   "source": [
    "knn_pred_test = knn_model.predict(X_test)\n",
    "print('Accuracy Score                 :',round(accuracy_score(y_test,knn_pred_test),4))\n",
    "print('Precision Score                :',round(precision_score(y_test,knn_pred_test),4))\n",
    "print('Recall Score                   :',round(recall_score(y_test,knn_pred_test),4))\n",
    "print('Confusion Matrix               :\\n',confusion_matrix(y_test,knn_pred_test))\n",
    "print('Classification Report          :\\n',classification_report(y_test,knn_pred_test))"
   ]
  },
  {
   "cell_type": "code",
   "execution_count": 128,
   "id": "2365bdad",
   "metadata": {},
   "outputs": [
    {
     "name": "stdout",
     "output_type": "stream",
     "text": [
      "Area Under Curve     : 0.8832308275279097\n"
     ]
    },
    {
     "data": {
      "text/plain": [
       "Text(0, 0.5, 'True Positive Rate')"
      ]
     },
     "execution_count": 128,
     "metadata": {},
     "output_type": "execute_result"
    },
    {
     "data": {
      "image/png": "[encoded data removed]",
      "text/plain": [
       "<Figure size 432x288 with 1 Axes>"
      ]
     },
     "metadata": {
      "needs_background": "light"
     },
     "output_type": "display_data"
    }
   ],
   "source": [
    "fpr, tpr, thresholds = roc_curve(y_test,knn_model.predict_proba (X_test)[:,1])\n",
    "auc_score = roc_auc_score(y_test, knn_pred_test)\n",
    "print('Area Under Curve     :',auc_score)\n",
    "plt.plot(fpr, tpr, color='red', label='logit model ( area  = %0.2f)'%auc_score)\n",
    "plt.plot([0, 1], [0, 1], 'k--')\n",
    "plt.xlabel('False Positive Rate or [1 - True Negative Rate]')\n",
    "plt.ylabel('True Positive Rate')"
   ]
  },
  {
   "cell_type": "markdown",
   "id": "e986a252",
   "metadata": {},
   "source": [
    "### 9. GaussianNB"
   ]
  },
  {
   "cell_type": "code",
   "execution_count": 129,
   "id": "8c1adcbb",
   "metadata": {},
   "outputs": [
    {
     "name": "stdout",
     "output_type": "stream",
     "text": [
      "Wall time: 149 ms\n"
     ]
    },
    {
     "data": {
      "text/plain": [
       "GaussianNB()"
      ]
     },
     "execution_count": 129,
     "metadata": {},
     "output_type": "execute_result"
    }
   ],
   "source": [
    "%%time\n",
    "gauss_nb_model = GaussianNB()\n",
    "gauss_nb_model.fit(X_train,y_train)"
   ]
  },
  {
   "cell_type": "code",
   "execution_count": 130,
   "id": "2349c11c",
   "metadata": {},
   "outputs": [
    {
     "name": "stdout",
     "output_type": "stream",
     "text": [
      "Accuracy Score                 : 0.7027\n",
      "Precision Score                : 0.7559\n",
      "Recall Score                   : 0.5987\n",
      "Confusion Matrix               :\n",
      " [[166048  39794]\n",
      " [ 82600 123242]]\n",
      "Classification Report          :\n",
      "               precision    recall  f1-score   support\n",
      "\n",
      "           0       0.67      0.81      0.73    205842\n",
      "           1       0.76      0.60      0.67    205842\n",
      "\n",
      "    accuracy                           0.70    411684\n",
      "   macro avg       0.71      0.70      0.70    411684\n",
      "weighted avg       0.71      0.70      0.70    411684\n",
      "\n"
     ]
    }
   ],
   "source": [
    "gauss_nb_pred_train = gauss_nb_model.predict(X_train)\n",
    "print('Accuracy Score                 :',round(accuracy_score(y_train,gauss_nb_pred_train),4))\n",
    "print('Precision Score                :',round(precision_score(y_train,gauss_nb_pred_train),4))\n",
    "print('Recall Score                   :',round(recall_score(y_train,gauss_nb_pred_train),4))\n",
    "print('Confusion Matrix               :\\n',confusion_matrix(y_train,gauss_nb_pred_train))\n",
    "print('Classification Report          :\\n',classification_report(y_train,gauss_nb_pred_train))"
   ]
  },
  {
   "cell_type": "code",
   "execution_count": 131,
   "id": "90621286",
   "metadata": {},
   "outputs": [
    {
     "name": "stdout",
     "output_type": "stream",
     "text": [
      "Accuracy Score                 : 0.7031\n",
      "Precision Score                : 0.7557\n",
      "Recall Score                   : 0.6002\n",
      "Confusion Matrix               :\n",
      " [[55304 13310]\n",
      " [27435 41179]]\n",
      "Classification Report          :\n",
      "               precision    recall  f1-score   support\n",
      "\n",
      "           0       0.67      0.81      0.73     68614\n",
      "           1       0.76      0.60      0.67     68614\n",
      "\n",
      "    accuracy                           0.70    137228\n",
      "   macro avg       0.71      0.70      0.70    137228\n",
      "weighted avg       0.71      0.70      0.70    137228\n",
      "\n"
     ]
    }
   ],
   "source": [
    "gauss_nb_pred_test = gauss_nb_model.predict(X_test)\n",
    "print('Accuracy Score                 :',round(accuracy_score(y_test,gauss_nb_pred_test),4))\n",
    "print('Precision Score                :',round(precision_score(y_test,gauss_nb_pred_test),4))\n",
    "print('Recall Score                   :',round(recall_score(y_test,gauss_nb_pred_test),4))\n",
    "print('Confusion Matrix               :\\n',confusion_matrix(y_test,gauss_nb_pred_test))\n",
    "print('Classification Report          :\\n',classification_report(y_test,gauss_nb_pred_test))"
   ]
  },
  {
   "cell_type": "code",
   "execution_count": 132,
   "id": "13546fef",
   "metadata": {
    "scrolled": true
   },
   "outputs": [
    {
     "name": "stdout",
     "output_type": "stream",
     "text": [
      "Area Under Curve     : 0.7030853761622993\n"
     ]
    },
    {
     "data": {
      "text/plain": [
       "Text(0, 0.5, 'True Positive Rate')"
      ]
     },
     "execution_count": 132,
     "metadata": {},
     "output_type": "execute_result"
    },
    {
     "data": {
      "image/png": "[encoded data removed]",
      "text/plain": [
       "<Figure size 432x288 with 1 Axes>"
      ]
     },
     "metadata": {
      "needs_background": "light"
     },
     "output_type": "display_data"
    },
    {
     "name": "stderr",
     "output_type": "stream",
     "text": [
      "Exception in callback BaseSelectorEventLoop._read_from_self()\n",
      "handle: <Handle BaseSelectorEventLoop._read_from_self()>\n",
      "Traceback (most recent call last):\n",
      "  File \"C:\\ProgramData\\Anaconda3\\lib\\asyncio\\events.py\", line 80, in _run\n",
      "    self._context.run(self._callback, *self._args)\n",
      "  File \"C:\\ProgramData\\Anaconda3\\lib\\asyncio\\selector_events.py\", line 120, in _read_from_self\n",
      "    data = self._ssock.recv(4096)\n",
      "ConnectionResetError: [WinError 10054] An existing connection was forcibly closed by the remote host\n",
      "Exception in callback BaseSelectorEventLoop._read_from_self()\n",
      "handle: <Handle BaseSelectorEventLoop._read_from_self()>\n",
      "Traceback (most recent call last):\n",
      "  File \"C:\\ProgramData\\Anaconda3\\lib\\asyncio\\events.py\", line 80, in _run\n",
      "    self._context.run(self._callback, *self._args)\n",
      "  File \"C:\\ProgramData\\Anaconda3\\lib\\asyncio\\selector_events.py\", line 120, in _read_from_self\n",
      "    data = self._ssock.recv(4096)\n",
      "ConnectionResetError: [WinError 10054] An existing connection was forcibly closed by the remote host\n",
      "Exception in callback BaseSelectorEventLoop._read_from_self()\n",
      "handle: <Handle BaseSelectorEventLoop._read_from_self()>\n",
      "Traceback (most recent call last):\n",
      "  File \"C:\\ProgramData\\Anaconda3\\lib\\asyncio\\events.py\", line 80, in _run\n",
      "    self._context.run(self._callback, *self._args)\n",
      "  File \"C:\\ProgramData\\Anaconda3\\lib\\asyncio\\selector_events.py\", line 120, in _read_from_self\n",
      "    data = self._ssock.recv(4096)\n",
      "ConnectionResetError: [WinError 10054] An existing connection was forcibly closed by the remote host\n",
      "Exception in callback BaseSelectorEventLoop._read_from_self()\n",
      "handle: <Handle BaseSelectorEventLoop._read_from_self()>\n",
      "Traceback (most recent call last):\n",
      "  File \"C:\\ProgramData\\Anaconda3\\lib\\asyncio\\events.py\", line 80, in _run\n",
      "    self._context.run(self._callback, *self._args)\n",
      "  File \"C:\\ProgramData\\Anaconda3\\lib\\asyncio\\selector_events.py\", line 120, in _read_from_self\n",
      "    data = self._ssock.recv(4096)\n",
      "ConnectionResetError: [WinError 10054] An existing connection was forcibly closed by the remote host\n",
      "Exception in callback BaseSelectorEventLoop._read_from_self()\n",
      "handle: <Handle BaseSelectorEventLoop._read_from_self()>\n",
      "Traceback (most recent call last):\n",
      "  File \"C:\\ProgramData\\Anaconda3\\lib\\asyncio\\events.py\", line 80, in _run\n",
      "    self._context.run(self._callback, *self._args)\n",
      "  File \"C:\\ProgramData\\Anaconda3\\lib\\asyncio\\selector_events.py\", line 120, in _read_from_self\n",
      "    data = self._ssock.recv(4096)\n",
      "ConnectionResetError: [WinError 10054] An existing connection was forcibly closed by the remote host\n",
      "Exception in callback BaseSelectorEventLoop._read_from_self()\n",
      "handle: <Handle BaseSelectorEventLoop._read_from_self()>\n",
      "Traceback (most recent call last):\n",
      "  File \"C:\\ProgramData\\Anaconda3\\lib\\asyncio\\events.py\", line 80, in _run\n",
      "    self._context.run(self._callback, *self._args)\n",
      "  File \"C:\\ProgramData\\Anaconda3\\lib\\asyncio\\selector_events.py\", line 120, in _read_from_self\n",
      "    data = self._ssock.recv(4096)\n",
      "ConnectionResetError: [WinError 10054] An existing connection was forcibly closed by the remote host\n",
      "Exception in callback BaseSelectorEventLoop._read_from_self()\n",
      "handle: <Handle BaseSelectorEventLoop._read_from_self()>\n",
      "Traceback (most recent call last):\n",
      "  File \"C:\\ProgramData\\Anaconda3\\lib\\asyncio\\events.py\", line 80, in _run\n",
      "    self._context.run(self._callback, *self._args)\n",
      "  File \"C:\\ProgramData\\Anaconda3\\lib\\asyncio\\selector_events.py\", line 120, in _read_from_self\n",
      "    data = self._ssock.recv(4096)\n",
      "ConnectionResetError: [WinError 10054] An existing connection was forcibly closed by the remote host\n",
      "Exception in callback BaseSelectorEventLoop._read_from_self()\n",
      "handle: <Handle BaseSelectorEventLoop._read_from_self()>\n",
      "Traceback (most recent call last):\n",
      "  File \"C:\\ProgramData\\Anaconda3\\lib\\asyncio\\events.py\", line 80, in _run\n",
      "    self._context.run(self._callback, *self._args)\n",
      "  File \"C:\\ProgramData\\Anaconda3\\lib\\asyncio\\selector_events.py\", line 120, in _read_from_self\n",
      "    data = self._ssock.recv(4096)\n",
      "ConnectionResetError: [WinError 10054] An existing connection was forcibly closed by the remote host\n",
      "Exception in callback BaseSelectorEventLoop._read_from_self()\n",
      "handle: <Handle BaseSelectorEventLoop._read_from_self()>\n",
      "Traceback (most recent call last):\n",
      "  File \"C:\\ProgramData\\Anaconda3\\lib\\asyncio\\events.py\", line 80, in _run\n",
      "    self._context.run(self._callback, *self._args)\n",
      "  File \"C:\\ProgramData\\Anaconda3\\lib\\asyncio\\selector_events.py\", line 120, in _read_from_self\n",
      "    data = self._ssock.recv(4096)\n",
      "ConnectionResetError: [WinError 10054] An existing connection was forcibly closed by the remote host\n",
      "Exception in callback BaseSelectorEventLoop._read_from_self()\n",
      "handle: <Handle BaseSelectorEventLoop._read_from_self()>\n",
      "Traceback (most recent call last):\n",
      "  File \"C:\\ProgramData\\Anaconda3\\lib\\asyncio\\events.py\", line 80, in _run\n",
      "    self._context.run(self._callback, *self._args)\n",
      "  File \"C:\\ProgramData\\Anaconda3\\lib\\asyncio\\selector_events.py\", line 120, in _read_from_self\n",
      "    data = self._ssock.recv(4096)\n",
      "ConnectionResetError: [WinError 10054] An existing connection was forcibly closed by the remote host\n",
      "Exception in callback BaseSelectorEventLoop._read_from_self()\n",
      "handle: <Handle BaseSelectorEventLoop._read_from_self()>\n",
      "Traceback (most recent call last):\n",
      "  File \"C:\\ProgramData\\Anaconda3\\lib\\asyncio\\events.py\", line 80, in _run\n",
      "    self._context.run(self._callback, *self._args)\n",
      "  File \"C:\\ProgramData\\Anaconda3\\lib\\asyncio\\selector_events.py\", line 120, in _read_from_self\n",
      "    data = self._ssock.recv(4096)\n",
      "ConnectionResetError: [WinError 10054] An existing connection was forcibly closed by the remote host\n",
      "Exception in callback BaseSelectorEventLoop._read_from_self()\n",
      "handle: <Handle BaseSelectorEventLoop._read_from_self()>\n",
      "Traceback (most recent call last):\n",
      "  File \"C:\\ProgramData\\Anaconda3\\lib\\asyncio\\events.py\", line 80, in _run\n",
      "    self._context.run(self._callback, *self._args)\n",
      "  File \"C:\\ProgramData\\Anaconda3\\lib\\asyncio\\selector_events.py\", line 120, in _read_from_self\n",
      "    data = self._ssock.recv(4096)\n",
      "ConnectionResetError: [WinError 10054] An existing connection was forcibly closed by the remote host\n",
      "Exception in callback BaseSelectorEventLoop._read_from_self()\n",
      "handle: <Handle BaseSelectorEventLoop._read_from_self()>\n",
      "Traceback (most recent call last):\n",
      "  File \"C:\\ProgramData\\Anaconda3\\lib\\asyncio\\events.py\", line 80, in _run\n",
      "    self._context.run(self._callback, *self._args)\n",
      "  File \"C:\\ProgramData\\Anaconda3\\lib\\asyncio\\selector_events.py\", line 120, in _read_from_self\n",
      "    data = self._ssock.recv(4096)\n",
      "ConnectionResetError: [WinError 10054] An existing connection was forcibly closed by the remote host\n",
      "Exception in callback BaseSelectorEventLoop._read_from_self()\n",
      "handle: <Handle BaseSelectorEventLoop._read_from_self()>\n",
      "Traceback (most recent call last):\n",
      "  File \"C:\\ProgramData\\Anaconda3\\lib\\asyncio\\events.py\", line 80, in _run\n",
      "    self._context.run(self._callback, *self._args)\n",
      "  File \"C:\\ProgramData\\Anaconda3\\lib\\asyncio\\selector_events.py\", line 120, in _read_from_self\n",
      "    data = self._ssock.recv(4096)\n",
      "ConnectionResetError: [WinError 10054] An existing connection was forcibly closed by the remote host\n",
      "Exception in callback BaseSelectorEventLoop._read_from_self()\n",
      "handle: <Handle BaseSelectorEventLoop._read_from_self()>\n",
      "Traceback (most recent call last):\n",
      "  File \"C:\\ProgramData\\Anaconda3\\lib\\asyncio\\events.py\", line 80, in _run\n",
      "    self._context.run(self._callback, *self._args)\n",
      "  File \"C:\\ProgramData\\Anaconda3\\lib\\asyncio\\selector_events.py\", line 120, in _read_from_self\n",
      "    data = self._ssock.recv(4096)\n",
      "ConnectionResetError: [WinError 10054] An existing connection was forcibly closed by the remote host\n",
      "Exception in callback BaseSelectorEventLoop._read_from_self()\n",
      "handle: <Handle BaseSelectorEventLoop._read_from_self()>\n",
      "Traceback (most recent call last):\n",
      "  File \"C:\\ProgramData\\Anaconda3\\lib\\asyncio\\events.py\", line 80, in _run\n",
      "    self._context.run(self._callback, *self._args)\n",
      "  File \"C:\\ProgramData\\Anaconda3\\lib\\asyncio\\selector_events.py\", line 120, in _read_from_self\n",
      "    data = self._ssock.recv(4096)\n",
      "ConnectionResetError: [WinError 10054] An existing connection was forcibly closed by the remote host\n",
      "Exception in callback BaseSelectorEventLoop._read_from_self()\n",
      "handle: <Handle BaseSelectorEventLoop._read_from_self()>\n",
      "Traceback (most recent call last):\n",
      "  File \"C:\\ProgramData\\Anaconda3\\lib\\asyncio\\events.py\", line 80, in _run\n",
      "    self._context.run(self._callback, *self._args)\n",
      "  File \"C:\\ProgramData\\Anaconda3\\lib\\asyncio\\selector_events.py\", line 120, in _read_from_self\n",
      "    data = self._ssock.recv(4096)\n",
      "ConnectionResetError: [WinError 10054] An existing connection was forcibly closed by the remote host\n"
     ]
    },
    {
     "name": "stderr",
     "output_type": "stream",
     "text": [
      "Exception in callback BaseSelectorEventLoop._read_from_self()\n",
      "handle: <Handle BaseSelectorEventLoop._read_from_self()>\n",
      "Traceback (most recent call last):\n",
      "  File \"C:\\ProgramData\\Anaconda3\\lib\\asyncio\\events.py\", line 80, in _run\n",
      "    self._context.run(self._callback, *self._args)\n",
      "  File \"C:\\ProgramData\\Anaconda3\\lib\\asyncio\\selector_events.py\", line 120, in _read_from_self\n",
      "    data = self._ssock.recv(4096)\n",
      "ConnectionResetError: [WinError 10054] An existing connection was forcibly closed by the remote host\n",
      "Exception in callback BaseSelectorEventLoop._read_from_self()\n",
      "handle: <Handle BaseSelectorEventLoop._read_from_self()>\n",
      "Traceback (most recent call last):\n",
      "  File \"C:\\ProgramData\\Anaconda3\\lib\\asyncio\\events.py\", line 80, in _run\n",
      "    self._context.run(self._callback, *self._args)\n",
      "  File \"C:\\ProgramData\\Anaconda3\\lib\\asyncio\\selector_events.py\", line 120, in _read_from_self\n",
      "    data = self._ssock.recv(4096)\n",
      "ConnectionResetError: [WinError 10054] An existing connection was forcibly closed by the remote host\n",
      "Exception in callback BaseSelectorEventLoop._read_from_self()\n",
      "handle: <Handle BaseSelectorEventLoop._read_from_self()>\n",
      "Traceback (most recent call last):\n",
      "  File \"C:\\ProgramData\\Anaconda3\\lib\\asyncio\\events.py\", line 80, in _run\n",
      "    self._context.run(self._callback, *self._args)\n",
      "  File \"C:\\ProgramData\\Anaconda3\\lib\\asyncio\\selector_events.py\", line 120, in _read_from_self\n",
      "    data = self._ssock.recv(4096)\n",
      "ConnectionResetError: [WinError 10054] An existing connection was forcibly closed by the remote host\n",
      "Exception in callback BaseSelectorEventLoop._read_from_self()\n",
      "handle: <Handle BaseSelectorEventLoop._read_from_self()>\n",
      "Traceback (most recent call last):\n",
      "  File \"C:\\ProgramData\\Anaconda3\\lib\\asyncio\\events.py\", line 80, in _run\n",
      "    self._context.run(self._callback, *self._args)\n",
      "  File \"C:\\ProgramData\\Anaconda3\\lib\\asyncio\\selector_events.py\", line 120, in _read_from_self\n",
      "    data = self._ssock.recv(4096)\n",
      "ConnectionResetError: [WinError 10054] An existing connection was forcibly closed by the remote host\n",
      "Exception in callback BaseSelectorEventLoop._read_from_self()\n",
      "handle: <Handle BaseSelectorEventLoop._read_from_self()>\n",
      "Traceback (most recent call last):\n",
      "  File \"C:\\ProgramData\\Anaconda3\\lib\\asyncio\\events.py\", line 80, in _run\n",
      "    self._context.run(self._callback, *self._args)\n",
      "  File \"C:\\ProgramData\\Anaconda3\\lib\\asyncio\\selector_events.py\", line 120, in _read_from_self\n",
      "    data = self._ssock.recv(4096)\n",
      "ConnectionResetError: [WinError 10054] An existing connection was forcibly closed by the remote host\n",
      "Exception in callback BaseSelectorEventLoop._read_from_self()\n",
      "handle: <Handle BaseSelectorEventLoop._read_from_self()>\n",
      "Traceback (most recent call last):\n",
      "  File \"C:\\ProgramData\\Anaconda3\\lib\\asyncio\\events.py\", line 80, in _run\n",
      "    self._context.run(self._callback, *self._args)\n",
      "  File \"C:\\ProgramData\\Anaconda3\\lib\\asyncio\\selector_events.py\", line 120, in _read_from_self\n",
      "    data = self._ssock.recv(4096)\n",
      "ConnectionResetError: [WinError 10054] An existing connection was forcibly closed by the remote host\n",
      "Exception in callback BaseSelectorEventLoop._read_from_self()\n",
      "handle: <Handle BaseSelectorEventLoop._read_from_self()>\n",
      "Traceback (most recent call last):\n",
      "  File \"C:\\ProgramData\\Anaconda3\\lib\\asyncio\\events.py\", line 80, in _run\n",
      "    self._context.run(self._callback, *self._args)\n",
      "  File \"C:\\ProgramData\\Anaconda3\\lib\\asyncio\\selector_events.py\", line 120, in _read_from_self\n",
      "    data = self._ssock.recv(4096)\n",
      "ConnectionResetError: [WinError 10054] An existing connection was forcibly closed by the remote host\n",
      "Exception in callback BaseSelectorEventLoop._read_from_self()\n",
      "handle: <Handle BaseSelectorEventLoop._read_from_self()>\n",
      "Traceback (most recent call last):\n",
      "  File \"C:\\ProgramData\\Anaconda3\\lib\\asyncio\\events.py\", line 80, in _run\n",
      "    self._context.run(self._callback, *self._args)\n",
      "  File \"C:\\ProgramData\\Anaconda3\\lib\\asyncio\\selector_events.py\", line 120, in _read_from_self\n",
      "    data = self._ssock.recv(4096)\n",
      "ConnectionResetError: [WinError 10054] An existing connection was forcibly closed by the remote host\n",
      "Exception in callback BaseSelectorEventLoop._read_from_self()\n",
      "handle: <Handle BaseSelectorEventLoop._read_from_self()>\n",
      "Traceback (most recent call last):\n",
      "  File \"C:\\ProgramData\\Anaconda3\\lib\\asyncio\\events.py\", line 80, in _run\n",
      "    self._context.run(self._callback, *self._args)\n",
      "  File \"C:\\ProgramData\\Anaconda3\\lib\\asyncio\\selector_events.py\", line 120, in _read_from_self\n",
      "    data = self._ssock.recv(4096)\n",
      "ConnectionResetError: [WinError 10054] An existing connection was forcibly closed by the remote host\n",
      "Exception in callback BaseSelectorEventLoop._read_from_self()\n",
      "handle: <Handle BaseSelectorEventLoop._read_from_self()>\n",
      "Traceback (most recent call last):\n",
      "  File \"C:\\ProgramData\\Anaconda3\\lib\\asyncio\\events.py\", line 80, in _run\n",
      "    self._context.run(self._callback, *self._args)\n",
      "  File \"C:\\ProgramData\\Anaconda3\\lib\\asyncio\\selector_events.py\", line 120, in _read_from_self\n",
      "    data = self._ssock.recv(4096)\n",
      "ConnectionResetError: [WinError 10054] An existing connection was forcibly closed by the remote host\n",
      "Exception in callback BaseSelectorEventLoop._read_from_self()\n",
      "handle: <Handle BaseSelectorEventLoop._read_from_self()>\n",
      "Traceback (most recent call last):\n",
      "  File \"C:\\ProgramData\\Anaconda3\\lib\\asyncio\\events.py\", line 80, in _run\n",
      "    self._context.run(self._callback, *self._args)\n",
      "  File \"C:\\ProgramData\\Anaconda3\\lib\\asyncio\\selector_events.py\", line 120, in _read_from_self\n",
      "    data = self._ssock.recv(4096)\n",
      "ConnectionResetError: [WinError 10054] An existing connection was forcibly closed by the remote host\n",
      "Exception in callback BaseSelectorEventLoop._read_from_self()\n",
      "handle: <Handle BaseSelectorEventLoop._read_from_self()>\n",
      "Traceback (most recent call last):\n",
      "  File \"C:\\ProgramData\\Anaconda3\\lib\\asyncio\\events.py\", line 80, in _run\n",
      "    self._context.run(self._callback, *self._args)\n",
      "  File \"C:\\ProgramData\\Anaconda3\\lib\\asyncio\\selector_events.py\", line 120, in _read_from_self\n",
      "    data = self._ssock.recv(4096)\n",
      "ConnectionResetError: [WinError 10054] An existing connection was forcibly closed by the remote host\n",
      "Exception in callback BaseSelectorEventLoop._read_from_self()\n",
      "handle: <Handle BaseSelectorEventLoop._read_from_self()>\n",
      "Traceback (most recent call last):\n",
      "  File \"C:\\ProgramData\\Anaconda3\\lib\\asyncio\\events.py\", line 80, in _run\n",
      "    self._context.run(self._callback, *self._args)\n",
      "  File \"C:\\ProgramData\\Anaconda3\\lib\\asyncio\\selector_events.py\", line 120, in _read_from_self\n",
      "    data = self._ssock.recv(4096)\n",
      "ConnectionResetError: [WinError 10054] An existing connection was forcibly closed by the remote host\n",
      "Exception in callback BaseSelectorEventLoop._read_from_self()\n",
      "handle: <Handle BaseSelectorEventLoop._read_from_self()>\n",
      "Traceback (most recent call last):\n",
      "  File \"C:\\ProgramData\\Anaconda3\\lib\\asyncio\\events.py\", line 80, in _run\n",
      "    self._context.run(self._callback, *self._args)\n",
      "  File \"C:\\ProgramData\\Anaconda3\\lib\\asyncio\\selector_events.py\", line 120, in _read_from_self\n",
      "    data = self._ssock.recv(4096)\n",
      "ConnectionResetError: [WinError 10054] An existing connection was forcibly closed by the remote host\n",
      "Exception in callback BaseSelectorEventLoop._read_from_self()\n",
      "handle: <Handle BaseSelectorEventLoop._read_from_self()>\n",
      "Traceback (most recent call last):\n",
      "  File \"C:\\ProgramData\\Anaconda3\\lib\\asyncio\\events.py\", line 80, in _run\n",
      "    self._context.run(self._callback, *self._args)\n",
      "  File \"C:\\ProgramData\\Anaconda3\\lib\\asyncio\\selector_events.py\", line 120, in _read_from_self\n",
      "    data = self._ssock.recv(4096)\n",
      "ConnectionResetError: [WinError 10054] An existing connection was forcibly closed by the remote host\n",
      "Exception in callback BaseSelectorEventLoop._read_from_self()\n",
      "handle: <Handle BaseSelectorEventLoop._read_from_self()>\n",
      "Traceback (most recent call last):\n",
      "  File \"C:\\ProgramData\\Anaconda3\\lib\\asyncio\\events.py\", line 80, in _run\n",
      "    self._context.run(self._callback, *self._args)\n",
      "  File \"C:\\ProgramData\\Anaconda3\\lib\\asyncio\\selector_events.py\", line 120, in _read_from_self\n",
      "    data = self._ssock.recv(4096)\n",
      "ConnectionResetError: [WinError 10054] An existing connection was forcibly closed by the remote host\n",
      "Exception in callback BaseSelectorEventLoop._read_from_self()\n",
      "handle: <Handle BaseSelectorEventLoop._read_from_self()>\n",
      "Traceback (most recent call last):\n",
      "  File \"C:\\ProgramData\\Anaconda3\\lib\\asyncio\\events.py\", line 80, in _run\n",
      "    self._context.run(self._callback, *self._args)\n",
      "  File \"C:\\ProgramData\\Anaconda3\\lib\\asyncio\\selector_events.py\", line 120, in _read_from_self\n",
      "    data = self._ssock.recv(4096)\n",
      "ConnectionResetError: [WinError 10054] An existing connection was forcibly closed by the remote host\n"
     ]
    },
    {
     "name": "stderr",
     "output_type": "stream",
     "text": [
      "Exception in callback BaseSelectorEventLoop._read_from_self()\n",
      "handle: <Handle BaseSelectorEventLoop._read_from_self()>\n",
      "Traceback (most recent call last):\n",
      "  File \"C:\\ProgramData\\Anaconda3\\lib\\asyncio\\events.py\", line 80, in _run\n",
      "    self._context.run(self._callback, *self._args)\n",
      "  File \"C:\\ProgramData\\Anaconda3\\lib\\asyncio\\selector_events.py\", line 120, in _read_from_self\n",
      "    data = self._ssock.recv(4096)\n",
      "ConnectionResetError: [WinError 10054] An existing connection was forcibly closed by the remote host\n",
      "Exception in callback BaseSelectorEventLoop._read_from_self()\n",
      "handle: <Handle BaseSelectorEventLoop._read_from_self()>\n",
      "Traceback (most recent call last):\n",
      "  File \"C:\\ProgramData\\Anaconda3\\lib\\asyncio\\events.py\", line 80, in _run\n",
      "    self._context.run(self._callback, *self._args)\n",
      "  File \"C:\\ProgramData\\Anaconda3\\lib\\asyncio\\selector_events.py\", line 120, in _read_from_self\n",
      "    data = self._ssock.recv(4096)\n",
      "ConnectionResetError: [WinError 10054] An existing connection was forcibly closed by the remote host\n",
      "Exception in callback BaseSelectorEventLoop._read_from_self()\n",
      "handle: <Handle BaseSelectorEventLoop._read_from_self()>\n",
      "Traceback (most recent call last):\n",
      "  File \"C:\\ProgramData\\Anaconda3\\lib\\asyncio\\events.py\", line 80, in _run\n",
      "    self._context.run(self._callback, *self._args)\n",
      "  File \"C:\\ProgramData\\Anaconda3\\lib\\asyncio\\selector_events.py\", line 120, in _read_from_self\n",
      "    data = self._ssock.recv(4096)\n",
      "ConnectionResetError: [WinError 10054] An existing connection was forcibly closed by the remote host\n",
      "Exception in callback BaseSelectorEventLoop._read_from_self()\n",
      "handle: <Handle BaseSelectorEventLoop._read_from_self()>\n",
      "Traceback (most recent call last):\n",
      "  File \"C:\\ProgramData\\Anaconda3\\lib\\asyncio\\events.py\", line 80, in _run\n",
      "    self._context.run(self._callback, *self._args)\n",
      "  File \"C:\\ProgramData\\Anaconda3\\lib\\asyncio\\selector_events.py\", line 120, in _read_from_self\n",
      "    data = self._ssock.recv(4096)\n",
      "ConnectionResetError: [WinError 10054] An existing connection was forcibly closed by the remote host\n",
      "Exception in callback BaseSelectorEventLoop._read_from_self()\n",
      "handle: <Handle BaseSelectorEventLoop._read_from_self()>\n",
      "Traceback (most recent call last):\n",
      "  File \"C:\\ProgramData\\Anaconda3\\lib\\asyncio\\events.py\", line 80, in _run\n",
      "    self._context.run(self._callback, *self._args)\n",
      "  File \"C:\\ProgramData\\Anaconda3\\lib\\asyncio\\selector_events.py\", line 120, in _read_from_self\n",
      "    data = self._ssock.recv(4096)\n",
      "ConnectionResetError: [WinError 10054] An existing connection was forcibly closed by the remote host\n",
      "Exception in callback BaseSelectorEventLoop._read_from_self()\n",
      "handle: <Handle BaseSelectorEventLoop._read_from_self()>\n",
      "Traceback (most recent call last):\n",
      "  File \"C:\\ProgramData\\Anaconda3\\lib\\asyncio\\events.py\", line 80, in _run\n",
      "    self._context.run(self._callback, *self._args)\n",
      "  File \"C:\\ProgramData\\Anaconda3\\lib\\asyncio\\selector_events.py\", line 120, in _read_from_self\n",
      "    data = self._ssock.recv(4096)\n",
      "ConnectionResetError: [WinError 10054] An existing connection was forcibly closed by the remote host\n",
      "Exception in callback BaseSelectorEventLoop._read_from_self()\n",
      "handle: <Handle BaseSelectorEventLoop._read_from_self()>\n",
      "Traceback (most recent call last):\n",
      "  File \"C:\\ProgramData\\Anaconda3\\lib\\asyncio\\events.py\", line 80, in _run\n",
      "    self._context.run(self._callback, *self._args)\n",
      "  File \"C:\\ProgramData\\Anaconda3\\lib\\asyncio\\selector_events.py\", line 120, in _read_from_self\n",
      "    data = self._ssock.recv(4096)\n",
      "ConnectionResetError: [WinError 10054] An existing connection was forcibly closed by the remote host\n",
      "Exception in callback BaseSelectorEventLoop._read_from_self()\n",
      "handle: <Handle BaseSelectorEventLoop._read_from_self()>\n",
      "Traceback (most recent call last):\n",
      "  File \"C:\\ProgramData\\Anaconda3\\lib\\asyncio\\events.py\", line 80, in _run\n",
      "    self._context.run(self._callback, *self._args)\n",
      "  File \"C:\\ProgramData\\Anaconda3\\lib\\asyncio\\selector_events.py\", line 120, in _read_from_self\n",
      "    data = self._ssock.recv(4096)\n",
      "ConnectionResetError: [WinError 10054] An existing connection was forcibly closed by the remote host\n",
      "Exception in callback BaseSelectorEventLoop._read_from_self()\n",
      "handle: <Handle BaseSelectorEventLoop._read_from_self()>\n",
      "Traceback (most recent call last):\n",
      "  File \"C:\\ProgramData\\Anaconda3\\lib\\asyncio\\events.py\", line 80, in _run\n",
      "    self._context.run(self._callback, *self._args)\n",
      "  File \"C:\\ProgramData\\Anaconda3\\lib\\asyncio\\selector_events.py\", line 120, in _read_from_self\n",
      "    data = self._ssock.recv(4096)\n",
      "ConnectionResetError: [WinError 10054] An existing connection was forcibly closed by the remote host\n",
      "Exception in callback BaseSelectorEventLoop._read_from_self()\n",
      "handle: <Handle BaseSelectorEventLoop._read_from_self()>\n",
      "Traceback (most recent call last):\n",
      "  File \"C:\\ProgramData\\Anaconda3\\lib\\asyncio\\events.py\", line 80, in _run\n",
      "    self._context.run(self._callback, *self._args)\n",
      "  File \"C:\\ProgramData\\Anaconda3\\lib\\asyncio\\selector_events.py\", line 120, in _read_from_self\n",
      "    data = self._ssock.recv(4096)\n",
      "ConnectionResetError: [WinError 10054] An existing connection was forcibly closed by the remote host\n",
      "Exception in callback BaseSelectorEventLoop._read_from_self()\n",
      "handle: <Handle BaseSelectorEventLoop._read_from_self()>\n",
      "Traceback (most recent call last):\n",
      "  File \"C:\\ProgramData\\Anaconda3\\lib\\asyncio\\events.py\", line 80, in _run\n",
      "    self._context.run(self._callback, *self._args)\n",
      "  File \"C:\\ProgramData\\Anaconda3\\lib\\asyncio\\selector_events.py\", line 120, in _read_from_self\n",
      "    data = self._ssock.recv(4096)\n",
      "ConnectionResetError: [WinError 10054] An existing connection was forcibly closed by the remote host\n",
      "Exception in callback BaseSelectorEventLoop._read_from_self()\n",
      "handle: <Handle BaseSelectorEventLoop._read_from_self()>\n",
      "Traceback (most recent call last):\n",
      "  File \"C:\\ProgramData\\Anaconda3\\lib\\asyncio\\events.py\", line 80, in _run\n",
      "    self._context.run(self._callback, *self._args)\n",
      "  File \"C:\\ProgramData\\Anaconda3\\lib\\asyncio\\selector_events.py\", line 120, in _read_from_self\n",
      "    data = self._ssock.recv(4096)\n",
      "ConnectionResetError: [WinError 10054] An existing connection was forcibly closed by the remote host\n",
      "Exception in callback BaseSelectorEventLoop._read_from_self()\n",
      "handle: <Handle BaseSelectorEventLoop._read_from_self()>\n",
      "Traceback (most recent call last):\n",
      "  File \"C:\\ProgramData\\Anaconda3\\lib\\asyncio\\events.py\", line 80, in _run\n",
      "    self._context.run(self._callback, *self._args)\n",
      "  File \"C:\\ProgramData\\Anaconda3\\lib\\asyncio\\selector_events.py\", line 120, in _read_from_self\n",
      "    data = self._ssock.recv(4096)\n",
      "ConnectionResetError: [WinError 10054] An existing connection was forcibly closed by the remote host\n",
      "Exception in callback BaseSelectorEventLoop._read_from_self()\n",
      "handle: <Handle BaseSelectorEventLoop._read_from_self()>\n",
      "Traceback (most recent call last):\n",
      "  File \"C:\\ProgramData\\Anaconda3\\lib\\asyncio\\events.py\", line 80, in _run\n",
      "    self._context.run(self._callback, *self._args)\n",
      "  File \"C:\\ProgramData\\Anaconda3\\lib\\asyncio\\selector_events.py\", line 120, in _read_from_self\n",
      "    data = self._ssock.recv(4096)\n",
      "ConnectionResetError: [WinError 10054] An existing connection was forcibly closed by the remote host\n",
      "Exception in callback BaseSelectorEventLoop._read_from_self()\n",
      "handle: <Handle BaseSelectorEventLoop._read_from_self()>\n",
      "Traceback (most recent call last):\n",
      "  File \"C:\\ProgramData\\Anaconda3\\lib\\asyncio\\events.py\", line 80, in _run\n",
      "    self._context.run(self._callback, *self._args)\n",
      "  File \"C:\\ProgramData\\Anaconda3\\lib\\asyncio\\selector_events.py\", line 120, in _read_from_self\n",
      "    data = self._ssock.recv(4096)\n",
      "ConnectionResetError: [WinError 10054] An existing connection was forcibly closed by the remote host\n",
      "Exception in callback BaseSelectorEventLoop._read_from_self()\n",
      "handle: <Handle BaseSelectorEventLoop._read_from_self()>\n",
      "Traceback (most recent call last):\n",
      "  File \"C:\\ProgramData\\Anaconda3\\lib\\asyncio\\events.py\", line 80, in _run\n",
      "    self._context.run(self._callback, *self._args)\n",
      "  File \"C:\\ProgramData\\Anaconda3\\lib\\asyncio\\selector_events.py\", line 120, in _read_from_self\n",
      "    data = self._ssock.recv(4096)\n",
      "ConnectionResetError: [WinError 10054] An existing connection was forcibly closed by the remote host\n",
      "Exception in callback BaseSelectorEventLoop._read_from_self()\n",
      "handle: <Handle BaseSelectorEventLoop._read_from_self()>\n",
      "Traceback (most recent call last):\n",
      "  File \"C:\\ProgramData\\Anaconda3\\lib\\asyncio\\events.py\", line 80, in _run\n",
      "    self._context.run(self._callback, *self._args)\n",
      "  File \"C:\\ProgramData\\Anaconda3\\lib\\asyncio\\selector_events.py\", line 120, in _read_from_self\n",
      "    data = self._ssock.recv(4096)\n",
      "ConnectionResetError: [WinError 10054] An existing connection was forcibly closed by the remote host\n"
     ]
    },
    {
     "name": "stderr",
     "output_type": "stream",
     "text": [
      "Exception in callback BaseSelectorEventLoop._read_from_self()\n",
      "handle: <Handle BaseSelectorEventLoop._read_from_self()>\n",
      "Traceback (most recent call last):\n",
      "  File \"C:\\ProgramData\\Anaconda3\\lib\\asyncio\\events.py\", line 80, in _run\n",
      "    self._context.run(self._callback, *self._args)\n",
      "  File \"C:\\ProgramData\\Anaconda3\\lib\\asyncio\\selector_events.py\", line 120, in _read_from_self\n",
      "    data = self._ssock.recv(4096)\n",
      "ConnectionResetError: [WinError 10054] An existing connection was forcibly closed by the remote host\n",
      "Exception in callback BaseSelectorEventLoop._read_from_self()\n",
      "handle: <Handle BaseSelectorEventLoop._read_from_self()>\n",
      "Traceback (most recent call last):\n",
      "  File \"C:\\ProgramData\\Anaconda3\\lib\\asyncio\\events.py\", line 80, in _run\n",
      "    self._context.run(self._callback, *self._args)\n",
      "  File \"C:\\ProgramData\\Anaconda3\\lib\\asyncio\\selector_events.py\", line 120, in _read_from_self\n",
      "    data = self._ssock.recv(4096)\n",
      "ConnectionResetError: [WinError 10054] An existing connection was forcibly closed by the remote host\n",
      "Exception in callback BaseSelectorEventLoop._read_from_self()\n",
      "handle: <Handle BaseSelectorEventLoop._read_from_self()>\n",
      "Traceback (most recent call last):\n",
      "  File \"C:\\ProgramData\\Anaconda3\\lib\\asyncio\\events.py\", line 80, in _run\n",
      "    self._context.run(self._callback, *self._args)\n",
      "  File \"C:\\ProgramData\\Anaconda3\\lib\\asyncio\\selector_events.py\", line 120, in _read_from_self\n",
      "    data = self._ssock.recv(4096)\n",
      "ConnectionResetError: [WinError 10054] An existing connection was forcibly closed by the remote host\n",
      "Exception in callback BaseSelectorEventLoop._read_from_self()\n",
      "handle: <Handle BaseSelectorEventLoop._read_from_self()>\n",
      "Traceback (most recent call last):\n",
      "  File \"C:\\ProgramData\\Anaconda3\\lib\\asyncio\\events.py\", line 80, in _run\n",
      "    self._context.run(self._callback, *self._args)\n",
      "  File \"C:\\ProgramData\\Anaconda3\\lib\\asyncio\\selector_events.py\", line 120, in _read_from_self\n",
      "    data = self._ssock.recv(4096)\n",
      "ConnectionResetError: [WinError 10054] An existing connection was forcibly closed by the remote host\n"
     ]
    }
   ],
   "source": [
    "fpr, tpr, thresholds = roc_curve(y_test,gauss_nb_model.predict_proba (X_test)[:,1])\n",
    "auc_score = roc_auc_score(y_test, gauss_nb_pred_test)\n",
    "print('Area Under Curve     :',auc_score)\n",
    "plt.plot(fpr, tpr, color='red', label='logit model ( area  = %0.2f)'%auc_score)\n",
    "plt.plot([0, 1], [0, 1], 'k--')\n",
    "plt.xlabel('False Positive Rate or [1 - True Negative Rate]')\n",
    "plt.ylabel('True Positive Rate')"
   ]
  },
  {
   "cell_type": "markdown",
   "id": "5d4334bf",
   "metadata": {},
   "source": [
    "### Results Comparison"
   ]
  },
  {
   "cell_type": "code",
   "execution_count": 132,
   "id": "91fa1b5e",
   "metadata": {
    "scrolled": true
   },
   "outputs": [
    {
     "data": {
      "text/html": [
       "<div>\n",
       "<style scoped>\n",
       "    .dataframe tbody tr th:only-of-type {\n",
       "        vertical-align: middle;\n",
       "    }\n",
       "\n",
       "    .dataframe tbody tr th {\n",
       "        vertical-align: top;\n",
       "    }\n",
       "\n",
       "    .dataframe thead th {\n",
       "        text-align: right;\n",
       "    }\n",
       "</style>\n",
       "<table border=\"1\" class=\"dataframe\">\n",
       "  <thead>\n",
       "    <tr style=\"text-align: right;\">\n",
       "      <th></th>\n",
       "      <th>Models</th>\n",
       "      <th>Training Accuracy</th>\n",
       "      <th>Test Accuracy</th>\n",
       "      <th>Precision Score</th>\n",
       "      <th>Recall Score</th>\n",
       "      <th>AUC Score</th>\n",
       "    </tr>\n",
       "  </thead>\n",
       "  <tbody>\n",
       "    <tr>\n",
       "      <th>0</th>\n",
       "      <td>Logistic Regression</td>\n",
       "      <td>0.7483</td>\n",
       "      <td>0.7472</td>\n",
       "      <td>0.7383</td>\n",
       "      <td>0.7659</td>\n",
       "      <td>0.7472</td>\n",
       "    </tr>\n",
       "    <tr>\n",
       "      <th>1</th>\n",
       "      <td>Decision Tree</td>\n",
       "      <td>0.9979</td>\n",
       "      <td>0.9500</td>\n",
       "      <td>0.9098</td>\n",
       "      <td>0.9990</td>\n",
       "      <td>0.9500</td>\n",
       "    </tr>\n",
       "    <tr>\n",
       "      <th>2</th>\n",
       "      <td>Random Forest</td>\n",
       "      <td>0.9979</td>\n",
       "      <td>0.9656</td>\n",
       "      <td>0.9363</td>\n",
       "      <td>0.9991</td>\n",
       "      <td>0.9655</td>\n",
       "    </tr>\n",
       "    <tr>\n",
       "      <th>3</th>\n",
       "      <td>Addaboost</td>\n",
       "      <td>0.7587</td>\n",
       "      <td>0.7565</td>\n",
       "      <td>0.7480</td>\n",
       "      <td>0.7738</td>\n",
       "      <td>0.7565</td>\n",
       "    </tr>\n",
       "    <tr>\n",
       "      <th>4</th>\n",
       "      <td>Gradient Boosting</td>\n",
       "      <td>0.7631</td>\n",
       "      <td>0.7611</td>\n",
       "      <td>0.7422</td>\n",
       "      <td>0.8002</td>\n",
       "      <td>0.7611</td>\n",
       "    </tr>\n",
       "    <tr>\n",
       "      <th>5</th>\n",
       "      <td>Extreme Gradient Boosting</td>\n",
       "      <td>0.9979</td>\n",
       "      <td>0.9634</td>\n",
       "      <td>0.9326</td>\n",
       "      <td>0.9991</td>\n",
       "      <td>0.9634</td>\n",
       "    </tr>\n",
       "    <tr>\n",
       "      <th>6</th>\n",
       "      <td>Light Gradient Boosting</td>\n",
       "      <td>0.7695</td>\n",
       "      <td>0.7668</td>\n",
       "      <td>0.7399</td>\n",
       "      <td>0.8230</td>\n",
       "      <td>0.7668</td>\n",
       "    </tr>\n",
       "    <tr>\n",
       "      <th>7</th>\n",
       "      <td>K-Nearest Neighbor</td>\n",
       "      <td>0.9156</td>\n",
       "      <td>0.8832</td>\n",
       "      <td>0.8146</td>\n",
       "      <td>0.9932</td>\n",
       "      <td>0.8832</td>\n",
       "    </tr>\n",
       "    <tr>\n",
       "      <th>8</th>\n",
       "      <td>GaussianNB</td>\n",
       "      <td>0.7027</td>\n",
       "      <td>0.7031</td>\n",
       "      <td>0.7557</td>\n",
       "      <td>0.6002</td>\n",
       "      <td>0.7030</td>\n",
       "    </tr>\n",
       "  </tbody>\n",
       "</table>\n",
       "</div>"
      ],
      "text/plain": [
       "                      Models  Training Accuracy  Test Accuracy  \\\n",
       "0        Logistic Regression             0.7483         0.7472   \n",
       "1              Decision Tree             0.9979         0.9500   \n",
       "2              Random Forest             0.9979         0.9656   \n",
       "3                  Addaboost             0.7587         0.7565   \n",
       "4          Gradient Boosting             0.7631         0.7611   \n",
       "5  Extreme Gradient Boosting             0.9979         0.9634   \n",
       "6    Light Gradient Boosting             0.7695         0.7668   \n",
       "7         K-Nearest Neighbor             0.9156         0.8832   \n",
       "8                 GaussianNB             0.7027         0.7031   \n",
       "\n",
       "   Precision Score  Recall Score  AUC Score  \n",
       "0           0.7383        0.7659     0.7472  \n",
       "1           0.9098        0.9990     0.9500  \n",
       "2           0.9363        0.9991     0.9655  \n",
       "3           0.7480        0.7738     0.7565  \n",
       "4           0.7422        0.8002     0.7611  \n",
       "5           0.9326        0.9991     0.9634  \n",
       "6           0.7399        0.8230     0.7668  \n",
       "7           0.8146        0.9932     0.8832  \n",
       "8           0.7557        0.6002     0.7030  "
      ]
     },
     "execution_count": 132,
     "metadata": {},
     "output_type": "execute_result"
    }
   ],
   "source": [
    "result_df = pd.DataFrame({'Models':['Logistic Regression','Decision Tree','Random Forest','Addaboost','Gradient Boosting','Extreme Gradient Boosting','Light Gradient Boosting','K-Nearest Neighbor','GaussianNB'],\n",
    "                          'Training Accuracy':[0.7483,0.9979,0.9979,0.7587,0.7631,0.9979,0.7695,0.9156,0.7027],\n",
    "                          'Test Accuracy':[0.7472,0.9500,0.9656,0.7565,0.7611,0.9634,0.7668,0.8832,0.7031],\n",
    "                          'Precision Score':[0.7383,0.9098,0.9363,0.7480,0.7422,0.9326,0.7399,0.8146,0.7557],\n",
    "                          'Recall Score':[0.7659,0.9990,0.9991,0.7738,0.8002,0.9991,0.8230,0.9932,0.6002],\n",
    "                          'AUC Score':[0.7472,0.9500,0.9655,0.7565,0.7611,0.9634,0.7668,0.8832,0.7030]})\n",
    "result_df"
   ]
  },
  {
   "cell_type": "code",
   "execution_count": 133,
   "id": "e626f172",
   "metadata": {
    "scrolled": true
   },
   "outputs": [
    {
     "data": {
      "text/html": [
       "<div>\n",
       "<style scoped>\n",
       "    .dataframe tbody tr th:only-of-type {\n",
       "        vertical-align: middle;\n",
       "    }\n",
       "\n",
       "    .dataframe tbody tr th {\n",
       "        vertical-align: top;\n",
       "    }\n",
       "\n",
       "    .dataframe thead th {\n",
       "        text-align: right;\n",
       "    }\n",
       "</style>\n",
       "<table border=\"1\" class=\"dataframe\">\n",
       "  <thead>\n",
       "    <tr style=\"text-align: right;\">\n",
       "      <th></th>\n",
       "      <th>Models</th>\n",
       "      <th>Training Accuracy</th>\n",
       "      <th>Test Accuracy</th>\n",
       "      <th>Precision Score</th>\n",
       "      <th>Recall Score</th>\n",
       "      <th>AUC Score</th>\n",
       "    </tr>\n",
       "  </thead>\n",
       "  <tbody>\n",
       "    <tr>\n",
       "      <th>2</th>\n",
       "      <td>Random Forest</td>\n",
       "      <td>0.9979</td>\n",
       "      <td>0.9656</td>\n",
       "      <td>0.9363</td>\n",
       "      <td>0.9991</td>\n",
       "      <td>0.9655</td>\n",
       "    </tr>\n",
       "    <tr>\n",
       "      <th>5</th>\n",
       "      <td>Extreme Gradient Boosting</td>\n",
       "      <td>0.9979</td>\n",
       "      <td>0.9634</td>\n",
       "      <td>0.9326</td>\n",
       "      <td>0.9991</td>\n",
       "      <td>0.9634</td>\n",
       "    </tr>\n",
       "    <tr>\n",
       "      <th>1</th>\n",
       "      <td>Decision Tree</td>\n",
       "      <td>0.9979</td>\n",
       "      <td>0.9500</td>\n",
       "      <td>0.9098</td>\n",
       "      <td>0.9990</td>\n",
       "      <td>0.9500</td>\n",
       "    </tr>\n",
       "    <tr>\n",
       "      <th>7</th>\n",
       "      <td>K-Nearest Neighbor</td>\n",
       "      <td>0.9156</td>\n",
       "      <td>0.8832</td>\n",
       "      <td>0.8146</td>\n",
       "      <td>0.9932</td>\n",
       "      <td>0.8832</td>\n",
       "    </tr>\n",
       "    <tr>\n",
       "      <th>6</th>\n",
       "      <td>Light Gradient Boosting</td>\n",
       "      <td>0.7695</td>\n",
       "      <td>0.7668</td>\n",
       "      <td>0.7399</td>\n",
       "      <td>0.8230</td>\n",
       "      <td>0.7668</td>\n",
       "    </tr>\n",
       "    <tr>\n",
       "      <th>4</th>\n",
       "      <td>Gradient Boosting</td>\n",
       "      <td>0.7631</td>\n",
       "      <td>0.7611</td>\n",
       "      <td>0.7422</td>\n",
       "      <td>0.8002</td>\n",
       "      <td>0.7611</td>\n",
       "    </tr>\n",
       "    <tr>\n",
       "      <th>3</th>\n",
       "      <td>Addaboost</td>\n",
       "      <td>0.7587</td>\n",
       "      <td>0.7565</td>\n",
       "      <td>0.7480</td>\n",
       "      <td>0.7738</td>\n",
       "      <td>0.7565</td>\n",
       "    </tr>\n",
       "    <tr>\n",
       "      <th>0</th>\n",
       "      <td>Logistic Regression</td>\n",
       "      <td>0.7483</td>\n",
       "      <td>0.7472</td>\n",
       "      <td>0.7383</td>\n",
       "      <td>0.7659</td>\n",
       "      <td>0.7472</td>\n",
       "    </tr>\n",
       "    <tr>\n",
       "      <th>8</th>\n",
       "      <td>GaussianNB</td>\n",
       "      <td>0.7027</td>\n",
       "      <td>0.7031</td>\n",
       "      <td>0.7557</td>\n",
       "      <td>0.6002</td>\n",
       "      <td>0.7030</td>\n",
       "    </tr>\n",
       "  </tbody>\n",
       "</table>\n",
       "</div>"
      ],
      "text/plain": [
       "                      Models  Training Accuracy  Test Accuracy  \\\n",
       "2              Random Forest             0.9979         0.9656   \n",
       "5  Extreme Gradient Boosting             0.9979         0.9634   \n",
       "1              Decision Tree             0.9979         0.9500   \n",
       "7         K-Nearest Neighbor             0.9156         0.8832   \n",
       "6    Light Gradient Boosting             0.7695         0.7668   \n",
       "4          Gradient Boosting             0.7631         0.7611   \n",
       "3                  Addaboost             0.7587         0.7565   \n",
       "0        Logistic Regression             0.7483         0.7472   \n",
       "8                 GaussianNB             0.7027         0.7031   \n",
       "\n",
       "   Precision Score  Recall Score  AUC Score  \n",
       "2           0.9363        0.9991     0.9655  \n",
       "5           0.9326        0.9991     0.9634  \n",
       "1           0.9098        0.9990     0.9500  \n",
       "7           0.8146        0.9932     0.8832  \n",
       "6           0.7399        0.8230     0.7668  \n",
       "4           0.7422        0.8002     0.7611  \n",
       "3           0.7480        0.7738     0.7565  \n",
       "0           0.7383        0.7659     0.7472  \n",
       "8           0.7557        0.6002     0.7030  "
      ]
     },
     "execution_count": 133,
     "metadata": {},
     "output_type": "execute_result"
    }
   ],
   "source": [
    "result_df = result_df.sort_values(by='Test Accuracy',ascending=False)\n",
    "result_df"
   ]
  },
  {
   "cell_type": "markdown",
   "id": "b3f7508c",
   "metadata": {},
   "source": [
    "From above dataframe its clear that for random forest we got better accuracy as well as precision and recall score."
   ]
  },
  {
   "cell_type": "markdown",
   "id": "bed3e0ea",
   "metadata": {},
   "source": [
    "# Conclusion\n",
    "**Input Features                =** 'BMI', 'Smoking', 'AlcoholDrinking', 'Stroke','PhysicalHealth', 'MentalHealth',                                             'DiffWalking', 'Sex', 'AgeCategory','Race', 'Diabetic', 'PhysicalActivity',                                                 'GenHealth', 'SleepTime','Asthma', 'KidneyDisease', 'SkinCancer'\n",
    "\n",
    "**Output Feature                =** HeartDisease\n",
    "\n",
    "**Data Set Type                 =**  Balenced data set using Oversampling\n",
    "\n",
    "**Best Model                    =** Random Forest\n",
    "\n",
    "**Train Accuracy Score         :** 0.9979\t\n",
    "\n",
    "**Test Accuracy Score          :** 0.9656\n",
    "\n",
    "**Classification Report          :**\n",
    "\n",
    "               precision    recall  f1-score   support\n",
    "             \n",
    "           0       1.00      0.93      0.96     68614\n",
    "           1       0.94      1.00      0.97     68614\n"
   ]
  },
  {
   "cell_type": "markdown",
   "id": "696086a4",
   "metadata": {},
   "source": [
    "### Dumping the best Model"
   ]
  },
  {
   "cell_type": "code",
   "execution_count": 134,
   "id": "4b392540",
   "metadata": {
    "scrolled": true
   },
   "outputs": [],
   "source": [
    "from pickle import dump\n",
    "dump(rf_model,open('rf_model.pkl','wb'))"
   ]
  },
  {
   "cell_type": "code",
   "execution_count": null,
   "id": "37e7f425",
   "metadata": {},
   "outputs": [],
   "source": []
  }
 ],
 "metadata": {
  "kernelspec": {
   "display_name": "Python 3 (ipykernel)",
   "language": "python",
   "name": "python3"
  },
  "language_info": {
   "codemirror_mode": {
    "name": "ipython",
    "version": 3
   },
   "file_extension": ".py",
   "mimetype": "text/x-python",
   "name": "python",
   "nbconvert_exporter": "python",
   "pygments_lexer": "ipython3",
   "version": "3.9.7"
  }
 },
 "nbformat": 4,
 "nbformat_minor": 5
}
